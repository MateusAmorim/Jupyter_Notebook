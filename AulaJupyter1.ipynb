{
  "nbformat": 4,
  "nbformat_minor": 0,
  "metadata": {
    "colab": {
      "provenance": [],
      "mount_file_id": "1O1WNjCdk5lENlSDwGb2eDumM2A47XDQk",
      "authorship_tag": "ABX9TyOFmse2Om50EwKHGxmHhWUq",
      "include_colab_link": true
    },
    "kernelspec": {
      "name": "python3",
      "display_name": "Python 3"
    },
    "language_info": {
      "name": "python"
    }
  },
  "cells": [
    {
      "cell_type": "markdown",
      "metadata": {
        "id": "view-in-github",
        "colab_type": "text"
      },
      "source": [
        "<a href=\"https://colab.research.google.com/github/MateusAmorim/Python/blob/master/AulaJupyter1.ipynb\" target=\"_parent\"><img src=\"https://colab.research.google.com/assets/colab-badge.svg\" alt=\"Open In Colab\"/></a>"
      ]
    },
    {
      "cell_type": "code",
      "execution_count": null,
      "metadata": {
        "colab": {
          "base_uri": "https://localhost:8080/"
        },
        "id": "KdYIfZbGEZd4",
        "outputId": "a9c88499-d798-4f13-ae3b-df167dac8b09"
      },
      "outputs": [
        {
          "output_type": "stream",
          "name": "stdout",
          "text": [
            "          Data  Último Abertura  Máxima  Mínima    Var%\n",
            "0   03.06.2022  4,8094   4,7970  4,8313  4,7880   0,28%\n",
            "1   02.06.2022  4,7962   4,8169  4,8169  4,7710  -0,39%\n",
            "2   01.06.2022  4,8151   4,7319  4,8180  4,7218   1,77%\n",
            "3   31.05.2022  4,7315   4,7538  4,7793  4,6975  -0,44%\n",
            "4   30.05.2022  4,7526   4,7311  4,7568  4,6904   0,49%\n",
            "5   27.05.2022  4,7295   4,7700  4,7818  4,7147  -0,80%\n",
            "6   26.05.2022  4,7677   4,8260  4,8442  4,7501  -1,24%\n",
            "7   25.05.2022  4,8275   4,8190  4,8644  4,8047   0,17%\n",
            "8   24.05.2022  4,8191   4,8125  4,8548  4,7750   0,13%\n",
            "9   23.05.2022  4,8130   4,8797  4,8797  4,7847  -1,35%\n",
            "10  20.05.2022  4,8788   4,9314  4,9314  4,8519  -1,06%\n",
            "11  19.05.2022  4,9309   4,9688  4,9694  4,8790  -0,75%\n",
            "12  18.05.2022  4,9682   4,9372  5,0005  4,9197   0,60%\n",
            "13  17.05.2022  4,9387   5,0617  5,0617  4,9261  -2,40%\n",
            "14  16.05.2022  5,0599   5,0647  5,1045  5,0307  -0,01%\n",
            "15  13.05.2022  5,0602   5,1347  5,1502  5,0455  -1,44%\n",
            "16  12.05.2022  5,1339   5,1380  5,2102  5,1050  -0,07%\n",
            "17  11.05.2022  5,1373   5,1328  5,1717  5,0910   0,12%\n",
            "18  10.05.2022  5,1313   5,1622  5,1666  5,1090  -0,59%\n",
            "19  09.05.2022  5,1617   5,0784  5,1625  5,0784   1,66%\n",
            "20  06.05.2022  5,0774   5,0293  5,1150  5,0070   0,98%\n",
            "21  05.05.2022  5,0280   4,9200  5,0589  4,9173   2,20%\n",
            "22  04.05.2022  4,9198   4,9563  5,0368  4,8921  -0,78%\n",
            "23  03.05.2022  4,9584   5,0841  5,0841  4,9559  -2,49%\n"
          ]
        }
      ],
      "source": [
        "#dados da cotação do dólar\n",
        "import pandas as pd\n",
        "from pprint import pprint\n",
        "from matplotlib import pyplot\n",
        "import matplotlib.pyplot as plt\n",
        "import numpy as np\n",
        "\n",
        "\n",
        "df = pd.read_csv(\"/content/drive/MyDrive/BANCOS_DE_DADOS/USD_BRL Dados Históricos.csv\", encoding=\"UTF-8\", sep=\",\")\n",
        "\n",
        "df.head()\n",
        "\n",
        "pprint(df)\n"
      ]
    },
    {
      "cell_type": "code",
      "source": [
        "df1=df.loc[::-1]\n",
        "print(df1)"
      ],
      "metadata": {
        "colab": {
          "base_uri": "https://localhost:8080/"
        },
        "id": "iQLZ1iDtAlyB",
        "outputId": "1737dc77-1b2d-436f-ebbb-0b31f08e8b60"
      },
      "execution_count": null,
      "outputs": [
        {
          "output_type": "stream",
          "name": "stdout",
          "text": [
            "          Data  Último Abertura  Máxima  Mínima    Var%\n",
            "23  03.05.2022  4,9584   5,0841  5,0841  4,9559  -2,49%\n",
            "22  04.05.2022  4,9198   4,9563  5,0368  4,8921  -0,78%\n",
            "21  05.05.2022  5,0280   4,9200  5,0589  4,9173   2,20%\n",
            "20  06.05.2022  5,0774   5,0293  5,1150  5,0070   0,98%\n",
            "19  09.05.2022  5,1617   5,0784  5,1625  5,0784   1,66%\n",
            "18  10.05.2022  5,1313   5,1622  5,1666  5,1090  -0,59%\n",
            "17  11.05.2022  5,1373   5,1328  5,1717  5,0910   0,12%\n",
            "16  12.05.2022  5,1339   5,1380  5,2102  5,1050  -0,07%\n",
            "15  13.05.2022  5,0602   5,1347  5,1502  5,0455  -1,44%\n",
            "14  16.05.2022  5,0599   5,0647  5,1045  5,0307  -0,01%\n",
            "13  17.05.2022  4,9387   5,0617  5,0617  4,9261  -2,40%\n",
            "12  18.05.2022  4,9682   4,9372  5,0005  4,9197   0,60%\n",
            "11  19.05.2022  4,9309   4,9688  4,9694  4,8790  -0,75%\n",
            "10  20.05.2022  4,8788   4,9314  4,9314  4,8519  -1,06%\n",
            "9   23.05.2022  4,8130   4,8797  4,8797  4,7847  -1,35%\n",
            "8   24.05.2022  4,8191   4,8125  4,8548  4,7750   0,13%\n",
            "7   25.05.2022  4,8275   4,8190  4,8644  4,8047   0,17%\n",
            "6   26.05.2022  4,7677   4,8260  4,8442  4,7501  -1,24%\n",
            "5   27.05.2022  4,7295   4,7700  4,7818  4,7147  -0,80%\n",
            "4   30.05.2022  4,7526   4,7311  4,7568  4,6904   0,49%\n",
            "3   31.05.2022  4,7315   4,7538  4,7793  4,6975  -0,44%\n",
            "2   01.06.2022  4,8151   4,7319  4,8180  4,7218   1,77%\n",
            "1   02.06.2022  4,7962   4,8169  4,8169  4,7710  -0,39%\n",
            "0   03.06.2022  4,8094   4,7970  4,8313  4,7880   0,28%\n"
          ]
        }
      ]
    },
    {
      "cell_type": "code",
      "source": [
        "df1.info()"
      ],
      "metadata": {
        "colab": {
          "base_uri": "https://localhost:8080/"
        },
        "id": "UzNXXts2DYOo",
        "outputId": "3b70f82c-bdf1-4dd2-889a-8a3e69fe5024"
      },
      "execution_count": null,
      "outputs": [
        {
          "output_type": "stream",
          "name": "stdout",
          "text": [
            "<class 'pandas.core.frame.DataFrame'>\n",
            "RangeIndex: 24 entries, 23 to 0\n",
            "Data columns (total 6 columns):\n",
            " #   Column    Non-Null Count  Dtype \n",
            "---  ------    --------------  ----- \n",
            " 0   Data      24 non-null     object\n",
            " 1   Último    24 non-null     object\n",
            " 2   Abertura  24 non-null     object\n",
            " 3   Máxima    24 non-null     object\n",
            " 4   Mínima    24 non-null     object\n",
            " 5   Var%      24 non-null     object\n",
            "dtypes: object(6)\n",
            "memory usage: 1.3+ KB\n"
          ]
        }
      ]
    },
    {
      "cell_type": "code",
      "source": [
        "df44 = df1.reset_index()\n",
        "df44"
      ],
      "metadata": {
        "colab": {
          "base_uri": "https://localhost:8080/",
          "height": 802
        },
        "id": "7zzYczIyPuTc",
        "outputId": "010fa868-9836-4479-f2da-1ed08e581b91"
      },
      "execution_count": null,
      "outputs": [
        {
          "output_type": "execute_result",
          "data": {
            "text/plain": [
              "    index        Data  Último Abertura  Máxima  Mínima    Var%\n",
              "0      23  03.05.2022  4,9584   5,0841  5,0841  4,9559  -2,49%\n",
              "1      22  04.05.2022  4,9198   4,9563  5,0368  4,8921  -0,78%\n",
              "2      21  05.05.2022  5,0280   4,9200  5,0589  4,9173   2,20%\n",
              "3      20  06.05.2022  5,0774   5,0293  5,1150  5,0070   0,98%\n",
              "4      19  09.05.2022  5,1617   5,0784  5,1625  5,0784   1,66%\n",
              "5      18  10.05.2022  5,1313   5,1622  5,1666  5,1090  -0,59%\n",
              "6      17  11.05.2022  5,1373   5,1328  5,1717  5,0910   0,12%\n",
              "7      16  12.05.2022  5,1339   5,1380  5,2102  5,1050  -0,07%\n",
              "8      15  13.05.2022  5,0602   5,1347  5,1502  5,0455  -1,44%\n",
              "9      14  16.05.2022  5,0599   5,0647  5,1045  5,0307  -0,01%\n",
              "10     13  17.05.2022  4,9387   5,0617  5,0617  4,9261  -2,40%\n",
              "11     12  18.05.2022  4,9682   4,9372  5,0005  4,9197   0,60%\n",
              "12     11  19.05.2022  4,9309   4,9688  4,9694  4,8790  -0,75%\n",
              "13     10  20.05.2022  4,8788   4,9314  4,9314  4,8519  -1,06%\n",
              "14      9  23.05.2022  4,8130   4,8797  4,8797  4,7847  -1,35%\n",
              "15      8  24.05.2022  4,8191   4,8125  4,8548  4,7750   0,13%\n",
              "16      7  25.05.2022  4,8275   4,8190  4,8644  4,8047   0,17%\n",
              "17      6  26.05.2022  4,7677   4,8260  4,8442  4,7501  -1,24%\n",
              "18      5  27.05.2022  4,7295   4,7700  4,7818  4,7147  -0,80%\n",
              "19      4  30.05.2022  4,7526   4,7311  4,7568  4,6904   0,49%\n",
              "20      3  31.05.2022  4,7315   4,7538  4,7793  4,6975  -0,44%\n",
              "21      2  01.06.2022  4,8151   4,7319  4,8180  4,7218   1,77%\n",
              "22      1  02.06.2022  4,7962   4,8169  4,8169  4,7710  -0,39%\n",
              "23      0  03.06.2022  4,8094   4,7970  4,8313  4,7880   0,28%"
            ],
            "text/html": [
              "\n",
              "  <div id=\"df-42ea9036-ef9d-45ae-b5b1-fc564dc63d92\">\n",
              "    <div class=\"colab-df-container\">\n",
              "      <div>\n",
              "<style scoped>\n",
              "    .dataframe tbody tr th:only-of-type {\n",
              "        vertical-align: middle;\n",
              "    }\n",
              "\n",
              "    .dataframe tbody tr th {\n",
              "        vertical-align: top;\n",
              "    }\n",
              "\n",
              "    .dataframe thead th {\n",
              "        text-align: right;\n",
              "    }\n",
              "</style>\n",
              "<table border=\"1\" class=\"dataframe\">\n",
              "  <thead>\n",
              "    <tr style=\"text-align: right;\">\n",
              "      <th></th>\n",
              "      <th>index</th>\n",
              "      <th>Data</th>\n",
              "      <th>Último</th>\n",
              "      <th>Abertura</th>\n",
              "      <th>Máxima</th>\n",
              "      <th>Mínima</th>\n",
              "      <th>Var%</th>\n",
              "    </tr>\n",
              "  </thead>\n",
              "  <tbody>\n",
              "    <tr>\n",
              "      <th>0</th>\n",
              "      <td>23</td>\n",
              "      <td>03.05.2022</td>\n",
              "      <td>4,9584</td>\n",
              "      <td>5,0841</td>\n",
              "      <td>5,0841</td>\n",
              "      <td>4,9559</td>\n",
              "      <td>-2,49%</td>\n",
              "    </tr>\n",
              "    <tr>\n",
              "      <th>1</th>\n",
              "      <td>22</td>\n",
              "      <td>04.05.2022</td>\n",
              "      <td>4,9198</td>\n",
              "      <td>4,9563</td>\n",
              "      <td>5,0368</td>\n",
              "      <td>4,8921</td>\n",
              "      <td>-0,78%</td>\n",
              "    </tr>\n",
              "    <tr>\n",
              "      <th>2</th>\n",
              "      <td>21</td>\n",
              "      <td>05.05.2022</td>\n",
              "      <td>5,0280</td>\n",
              "      <td>4,9200</td>\n",
              "      <td>5,0589</td>\n",
              "      <td>4,9173</td>\n",
              "      <td>2,20%</td>\n",
              "    </tr>\n",
              "    <tr>\n",
              "      <th>3</th>\n",
              "      <td>20</td>\n",
              "      <td>06.05.2022</td>\n",
              "      <td>5,0774</td>\n",
              "      <td>5,0293</td>\n",
              "      <td>5,1150</td>\n",
              "      <td>5,0070</td>\n",
              "      <td>0,98%</td>\n",
              "    </tr>\n",
              "    <tr>\n",
              "      <th>4</th>\n",
              "      <td>19</td>\n",
              "      <td>09.05.2022</td>\n",
              "      <td>5,1617</td>\n",
              "      <td>5,0784</td>\n",
              "      <td>5,1625</td>\n",
              "      <td>5,0784</td>\n",
              "      <td>1,66%</td>\n",
              "    </tr>\n",
              "    <tr>\n",
              "      <th>5</th>\n",
              "      <td>18</td>\n",
              "      <td>10.05.2022</td>\n",
              "      <td>5,1313</td>\n",
              "      <td>5,1622</td>\n",
              "      <td>5,1666</td>\n",
              "      <td>5,1090</td>\n",
              "      <td>-0,59%</td>\n",
              "    </tr>\n",
              "    <tr>\n",
              "      <th>6</th>\n",
              "      <td>17</td>\n",
              "      <td>11.05.2022</td>\n",
              "      <td>5,1373</td>\n",
              "      <td>5,1328</td>\n",
              "      <td>5,1717</td>\n",
              "      <td>5,0910</td>\n",
              "      <td>0,12%</td>\n",
              "    </tr>\n",
              "    <tr>\n",
              "      <th>7</th>\n",
              "      <td>16</td>\n",
              "      <td>12.05.2022</td>\n",
              "      <td>5,1339</td>\n",
              "      <td>5,1380</td>\n",
              "      <td>5,2102</td>\n",
              "      <td>5,1050</td>\n",
              "      <td>-0,07%</td>\n",
              "    </tr>\n",
              "    <tr>\n",
              "      <th>8</th>\n",
              "      <td>15</td>\n",
              "      <td>13.05.2022</td>\n",
              "      <td>5,0602</td>\n",
              "      <td>5,1347</td>\n",
              "      <td>5,1502</td>\n",
              "      <td>5,0455</td>\n",
              "      <td>-1,44%</td>\n",
              "    </tr>\n",
              "    <tr>\n",
              "      <th>9</th>\n",
              "      <td>14</td>\n",
              "      <td>16.05.2022</td>\n",
              "      <td>5,0599</td>\n",
              "      <td>5,0647</td>\n",
              "      <td>5,1045</td>\n",
              "      <td>5,0307</td>\n",
              "      <td>-0,01%</td>\n",
              "    </tr>\n",
              "    <tr>\n",
              "      <th>10</th>\n",
              "      <td>13</td>\n",
              "      <td>17.05.2022</td>\n",
              "      <td>4,9387</td>\n",
              "      <td>5,0617</td>\n",
              "      <td>5,0617</td>\n",
              "      <td>4,9261</td>\n",
              "      <td>-2,40%</td>\n",
              "    </tr>\n",
              "    <tr>\n",
              "      <th>11</th>\n",
              "      <td>12</td>\n",
              "      <td>18.05.2022</td>\n",
              "      <td>4,9682</td>\n",
              "      <td>4,9372</td>\n",
              "      <td>5,0005</td>\n",
              "      <td>4,9197</td>\n",
              "      <td>0,60%</td>\n",
              "    </tr>\n",
              "    <tr>\n",
              "      <th>12</th>\n",
              "      <td>11</td>\n",
              "      <td>19.05.2022</td>\n",
              "      <td>4,9309</td>\n",
              "      <td>4,9688</td>\n",
              "      <td>4,9694</td>\n",
              "      <td>4,8790</td>\n",
              "      <td>-0,75%</td>\n",
              "    </tr>\n",
              "    <tr>\n",
              "      <th>13</th>\n",
              "      <td>10</td>\n",
              "      <td>20.05.2022</td>\n",
              "      <td>4,8788</td>\n",
              "      <td>4,9314</td>\n",
              "      <td>4,9314</td>\n",
              "      <td>4,8519</td>\n",
              "      <td>-1,06%</td>\n",
              "    </tr>\n",
              "    <tr>\n",
              "      <th>14</th>\n",
              "      <td>9</td>\n",
              "      <td>23.05.2022</td>\n",
              "      <td>4,8130</td>\n",
              "      <td>4,8797</td>\n",
              "      <td>4,8797</td>\n",
              "      <td>4,7847</td>\n",
              "      <td>-1,35%</td>\n",
              "    </tr>\n",
              "    <tr>\n",
              "      <th>15</th>\n",
              "      <td>8</td>\n",
              "      <td>24.05.2022</td>\n",
              "      <td>4,8191</td>\n",
              "      <td>4,8125</td>\n",
              "      <td>4,8548</td>\n",
              "      <td>4,7750</td>\n",
              "      <td>0,13%</td>\n",
              "    </tr>\n",
              "    <tr>\n",
              "      <th>16</th>\n",
              "      <td>7</td>\n",
              "      <td>25.05.2022</td>\n",
              "      <td>4,8275</td>\n",
              "      <td>4,8190</td>\n",
              "      <td>4,8644</td>\n",
              "      <td>4,8047</td>\n",
              "      <td>0,17%</td>\n",
              "    </tr>\n",
              "    <tr>\n",
              "      <th>17</th>\n",
              "      <td>6</td>\n",
              "      <td>26.05.2022</td>\n",
              "      <td>4,7677</td>\n",
              "      <td>4,8260</td>\n",
              "      <td>4,8442</td>\n",
              "      <td>4,7501</td>\n",
              "      <td>-1,24%</td>\n",
              "    </tr>\n",
              "    <tr>\n",
              "      <th>18</th>\n",
              "      <td>5</td>\n",
              "      <td>27.05.2022</td>\n",
              "      <td>4,7295</td>\n",
              "      <td>4,7700</td>\n",
              "      <td>4,7818</td>\n",
              "      <td>4,7147</td>\n",
              "      <td>-0,80%</td>\n",
              "    </tr>\n",
              "    <tr>\n",
              "      <th>19</th>\n",
              "      <td>4</td>\n",
              "      <td>30.05.2022</td>\n",
              "      <td>4,7526</td>\n",
              "      <td>4,7311</td>\n",
              "      <td>4,7568</td>\n",
              "      <td>4,6904</td>\n",
              "      <td>0,49%</td>\n",
              "    </tr>\n",
              "    <tr>\n",
              "      <th>20</th>\n",
              "      <td>3</td>\n",
              "      <td>31.05.2022</td>\n",
              "      <td>4,7315</td>\n",
              "      <td>4,7538</td>\n",
              "      <td>4,7793</td>\n",
              "      <td>4,6975</td>\n",
              "      <td>-0,44%</td>\n",
              "    </tr>\n",
              "    <tr>\n",
              "      <th>21</th>\n",
              "      <td>2</td>\n",
              "      <td>01.06.2022</td>\n",
              "      <td>4,8151</td>\n",
              "      <td>4,7319</td>\n",
              "      <td>4,8180</td>\n",
              "      <td>4,7218</td>\n",
              "      <td>1,77%</td>\n",
              "    </tr>\n",
              "    <tr>\n",
              "      <th>22</th>\n",
              "      <td>1</td>\n",
              "      <td>02.06.2022</td>\n",
              "      <td>4,7962</td>\n",
              "      <td>4,8169</td>\n",
              "      <td>4,8169</td>\n",
              "      <td>4,7710</td>\n",
              "      <td>-0,39%</td>\n",
              "    </tr>\n",
              "    <tr>\n",
              "      <th>23</th>\n",
              "      <td>0</td>\n",
              "      <td>03.06.2022</td>\n",
              "      <td>4,8094</td>\n",
              "      <td>4,7970</td>\n",
              "      <td>4,8313</td>\n",
              "      <td>4,7880</td>\n",
              "      <td>0,28%</td>\n",
              "    </tr>\n",
              "  </tbody>\n",
              "</table>\n",
              "</div>\n",
              "      <button class=\"colab-df-convert\" onclick=\"convertToInteractive('df-42ea9036-ef9d-45ae-b5b1-fc564dc63d92')\"\n",
              "              title=\"Convert this dataframe to an interactive table.\"\n",
              "              style=\"display:none;\">\n",
              "        \n",
              "  <svg xmlns=\"http://www.w3.org/2000/svg\" height=\"24px\"viewBox=\"0 0 24 24\"\n",
              "       width=\"24px\">\n",
              "    <path d=\"M0 0h24v24H0V0z\" fill=\"none\"/>\n",
              "    <path d=\"M18.56 5.44l.94 2.06.94-2.06 2.06-.94-2.06-.94-.94-2.06-.94 2.06-2.06.94zm-11 1L8.5 8.5l.94-2.06 2.06-.94-2.06-.94L8.5 2.5l-.94 2.06-2.06.94zm10 10l.94 2.06.94-2.06 2.06-.94-2.06-.94-.94-2.06-.94 2.06-2.06.94z\"/><path d=\"M17.41 7.96l-1.37-1.37c-.4-.4-.92-.59-1.43-.59-.52 0-1.04.2-1.43.59L10.3 9.45l-7.72 7.72c-.78.78-.78 2.05 0 2.83L4 21.41c.39.39.9.59 1.41.59.51 0 1.02-.2 1.41-.59l7.78-7.78 2.81-2.81c.8-.78.8-2.07 0-2.86zM5.41 20L4 18.59l7.72-7.72 1.47 1.35L5.41 20z\"/>\n",
              "  </svg>\n",
              "      </button>\n",
              "      \n",
              "  <style>\n",
              "    .colab-df-container {\n",
              "      display:flex;\n",
              "      flex-wrap:wrap;\n",
              "      gap: 12px;\n",
              "    }\n",
              "\n",
              "    .colab-df-convert {\n",
              "      background-color: #E8F0FE;\n",
              "      border: none;\n",
              "      border-radius: 50%;\n",
              "      cursor: pointer;\n",
              "      display: none;\n",
              "      fill: #1967D2;\n",
              "      height: 32px;\n",
              "      padding: 0 0 0 0;\n",
              "      width: 32px;\n",
              "    }\n",
              "\n",
              "    .colab-df-convert:hover {\n",
              "      background-color: #E2EBFA;\n",
              "      box-shadow: 0px 1px 2px rgba(60, 64, 67, 0.3), 0px 1px 3px 1px rgba(60, 64, 67, 0.15);\n",
              "      fill: #174EA6;\n",
              "    }\n",
              "\n",
              "    [theme=dark] .colab-df-convert {\n",
              "      background-color: #3B4455;\n",
              "      fill: #D2E3FC;\n",
              "    }\n",
              "\n",
              "    [theme=dark] .colab-df-convert:hover {\n",
              "      background-color: #434B5C;\n",
              "      box-shadow: 0px 1px 3px 1px rgba(0, 0, 0, 0.15);\n",
              "      filter: drop-shadow(0px 1px 2px rgba(0, 0, 0, 0.3));\n",
              "      fill: #FFFFFF;\n",
              "    }\n",
              "  </style>\n",
              "\n",
              "      <script>\n",
              "        const buttonEl =\n",
              "          document.querySelector('#df-42ea9036-ef9d-45ae-b5b1-fc564dc63d92 button.colab-df-convert');\n",
              "        buttonEl.style.display =\n",
              "          google.colab.kernel.accessAllowed ? 'block' : 'none';\n",
              "\n",
              "        async function convertToInteractive(key) {\n",
              "          const element = document.querySelector('#df-42ea9036-ef9d-45ae-b5b1-fc564dc63d92');\n",
              "          const dataTable =\n",
              "            await google.colab.kernel.invokeFunction('convertToInteractive',\n",
              "                                                     [key], {});\n",
              "          if (!dataTable) return;\n",
              "\n",
              "          const docLinkHtml = 'Like what you see? Visit the ' +\n",
              "            '<a target=\"_blank\" href=https://colab.research.google.com/notebooks/data_table.ipynb>data table notebook</a>'\n",
              "            + ' to learn more about interactive tables.';\n",
              "          element.innerHTML = '';\n",
              "          dataTable['output_type'] = 'display_data';\n",
              "          await google.colab.output.renderOutput(dataTable, element);\n",
              "          const docLink = document.createElement('div');\n",
              "          docLink.innerHTML = docLinkHtml;\n",
              "          element.appendChild(docLink);\n",
              "        }\n",
              "      </script>\n",
              "    </div>\n",
              "  </div>\n",
              "  "
            ]
          },
          "metadata": {},
          "execution_count": 5
        }
      ]
    },
    {
      "cell_type": "code",
      "source": [
        "a = df1['Último'].apply(lambda x: str(x).replace(\",\",\".\"))"
      ],
      "metadata": {
        "id": "jIbQGTCrcGk5"
      },
      "execution_count": null,
      "outputs": []
    },
    {
      "cell_type": "code",
      "source": [
        "a = a.astype('float64')"
      ],
      "metadata": {
        "id": "lXPWqNRbdl2v"
      },
      "execution_count": null,
      "outputs": []
    },
    {
      "cell_type": "code",
      "source": [
        "a"
      ],
      "metadata": {
        "colab": {
          "base_uri": "https://localhost:8080/"
        },
        "id": "BTHlbcRzebG2",
        "outputId": "67e53227-29c5-4326-b41f-34df23217816"
      },
      "execution_count": null,
      "outputs": [
        {
          "output_type": "execute_result",
          "data": {
            "text/plain": [
              "23    4.9584\n",
              "22    4.9198\n",
              "21    5.0280\n",
              "20    5.0774\n",
              "19    5.1617\n",
              "18    5.1313\n",
              "17    5.1373\n",
              "16    5.1339\n",
              "15    5.0602\n",
              "14    5.0599\n",
              "13    4.9387\n",
              "12    4.9682\n",
              "11    4.9309\n",
              "10    4.8788\n",
              "9     4.8130\n",
              "8     4.8191\n",
              "7     4.8275\n",
              "6     4.7677\n",
              "5     4.7295\n",
              "4     4.7526\n",
              "3     4.7315\n",
              "2     4.8151\n",
              "1     4.7962\n",
              "0     4.8094\n",
              "Name: Último, dtype: float64"
            ]
          },
          "metadata": {},
          "execution_count": 11
        }
      ]
    },
    {
      "cell_type": "code",
      "source": [
        "b = df1['Data'].apply(lambda x: str(x).replace(\".\",\"/\"))\n",
        "print(b)"
      ],
      "metadata": {
        "colab": {
          "base_uri": "https://localhost:8080/"
        },
        "id": "bKHkPTCSfyOa",
        "outputId": "f381d7c9-9fda-4021-f25e-9c0550ca2a5a"
      },
      "execution_count": null,
      "outputs": [
        {
          "output_type": "stream",
          "name": "stdout",
          "text": [
            "23    03/05/2022\n",
            "22    04/05/2022\n",
            "21    05/05/2022\n",
            "20    06/05/2022\n",
            "19    09/05/2022\n",
            "18    10/05/2022\n",
            "17    11/05/2022\n",
            "16    12/05/2022\n",
            "15    13/05/2022\n",
            "14    16/05/2022\n",
            "13    17/05/2022\n",
            "12    18/05/2022\n",
            "11    19/05/2022\n",
            "10    20/05/2022\n",
            "9     23/05/2022\n",
            "8     24/05/2022\n",
            "7     25/05/2022\n",
            "6     26/05/2022\n",
            "5     27/05/2022\n",
            "4     30/05/2022\n",
            "3     31/05/2022\n",
            "2     01/06/2022\n",
            "1     02/06/2022\n",
            "0     03/06/2022\n",
            "Name: Data, dtype: object\n"
          ]
        }
      ]
    },
    {
      "cell_type": "code",
      "source": [
        "c = df1['Máxima']"
      ],
      "metadata": {
        "id": "_Xkn1MLJhwDi"
      },
      "execution_count": null,
      "outputs": []
    },
    {
      "cell_type": "code",
      "source": [
        "c = df1['Máxima'].apply(lambda x: str(x).replace(\",\",\".\"))"
      ],
      "metadata": {
        "id": "PuXMlzlaibJC"
      },
      "execution_count": null,
      "outputs": []
    },
    {
      "cell_type": "code",
      "source": [
        "c = c.astype('float64')\n",
        "print(c)"
      ],
      "metadata": {
        "colab": {
          "base_uri": "https://localhost:8080/"
        },
        "id": "-Fnn5n2VijQ3",
        "outputId": "234b4fd2-af5a-49e8-b457-73b1f19d9c26"
      },
      "execution_count": null,
      "outputs": [
        {
          "output_type": "stream",
          "name": "stdout",
          "text": [
            "23    5.0841\n",
            "22    5.0368\n",
            "21    5.0589\n",
            "20    5.1150\n",
            "19    5.1625\n",
            "18    5.1666\n",
            "17    5.1717\n",
            "16    5.2102\n",
            "15    5.1502\n",
            "14    5.1045\n",
            "13    5.0617\n",
            "12    5.0005\n",
            "11    4.9694\n",
            "10    4.9314\n",
            "9     4.8797\n",
            "8     4.8548\n",
            "7     4.8644\n",
            "6     4.8442\n",
            "5     4.7818\n",
            "4     4.7568\n",
            "3     4.7793\n",
            "2     4.8180\n",
            "1     4.8169\n",
            "0     4.8313\n",
            "Name: Máxima, dtype: float64\n"
          ]
        }
      ]
    },
    {
      "cell_type": "code",
      "source": [
        "d = df1['Abertura']"
      ],
      "metadata": {
        "id": "rKCvMG0VjlDz"
      },
      "execution_count": null,
      "outputs": []
    },
    {
      "cell_type": "code",
      "source": [
        "d = d.apply(lambda x: str(x).replace(\",\",\".\"))"
      ],
      "metadata": {
        "id": "7c4JuH1Yj9DK"
      },
      "execution_count": null,
      "outputs": []
    },
    {
      "cell_type": "code",
      "source": [
        "d = d.astype('float64')\n",
        "print(d)"
      ],
      "metadata": {
        "colab": {
          "base_uri": "https://localhost:8080/"
        },
        "id": "DqkhPDfskWB1",
        "outputId": "f98f3485-a9af-45dd-efbf-58c38059cd87"
      },
      "execution_count": null,
      "outputs": [
        {
          "output_type": "stream",
          "name": "stdout",
          "text": [
            "23    5.0841\n",
            "22    4.9563\n",
            "21    4.9200\n",
            "20    5.0293\n",
            "19    5.0784\n",
            "18    5.1622\n",
            "17    5.1328\n",
            "16    5.1380\n",
            "15    5.1347\n",
            "14    5.0647\n",
            "13    5.0617\n",
            "12    4.9372\n",
            "11    4.9688\n",
            "10    4.9314\n",
            "9     4.8797\n",
            "8     4.8125\n",
            "7     4.8190\n",
            "6     4.8260\n",
            "5     4.7700\n",
            "4     4.7311\n",
            "3     4.7538\n",
            "2     4.7319\n",
            "1     4.8169\n",
            "0     4.7970\n",
            "Name: Abertura, dtype: float64\n"
          ]
        }
      ]
    },
    {
      "cell_type": "code",
      "source": [
        "e = df1['Mínima']"
      ],
      "metadata": {
        "id": "1jAnPXwQkekj"
      },
      "execution_count": null,
      "outputs": []
    },
    {
      "cell_type": "code",
      "source": [
        "e = e.apply(lambda x: str(x).replace(\",\",\".\"))"
      ],
      "metadata": {
        "id": "mUw59i8Kk3nK"
      },
      "execution_count": null,
      "outputs": []
    },
    {
      "cell_type": "code",
      "source": [
        "e = e.astype('float64')\n",
        "print(e)"
      ],
      "metadata": {
        "colab": {
          "base_uri": "https://localhost:8080/"
        },
        "id": "7CvqeA5VlEbA",
        "outputId": "158da9f7-07cc-460c-ccd3-44fcd9cbb838"
      },
      "execution_count": null,
      "outputs": [
        {
          "output_type": "stream",
          "name": "stdout",
          "text": [
            "23    4.9559\n",
            "22    4.8921\n",
            "21    4.9173\n",
            "20    5.0070\n",
            "19    5.0784\n",
            "18    5.1090\n",
            "17    5.0910\n",
            "16    5.1050\n",
            "15    5.0455\n",
            "14    5.0307\n",
            "13    4.9261\n",
            "12    4.9197\n",
            "11    4.8790\n",
            "10    4.8519\n",
            "9     4.7847\n",
            "8     4.7750\n",
            "7     4.8047\n",
            "6     4.7501\n",
            "5     4.7147\n",
            "4     4.6904\n",
            "3     4.6975\n",
            "2     4.7218\n",
            "1     4.7710\n",
            "0     4.7880\n",
            "Name: Mínima, dtype: float64\n"
          ]
        }
      ]
    },
    {
      "cell_type": "code",
      "source": [
        "f = df1['Var%']"
      ],
      "metadata": {
        "id": "skY9pOZZlVss"
      },
      "execution_count": null,
      "outputs": []
    },
    {
      "cell_type": "code",
      "source": [
        "f = f.apply(lambda x: str(x).replace(\",\",\".\"))\n",
        "print(f)"
      ],
      "metadata": {
        "colab": {
          "base_uri": "https://localhost:8080/"
        },
        "id": "3eAw8wRU31kC",
        "outputId": "7477855c-57c2-4b56-90f0-bb9d23608549"
      },
      "execution_count": null,
      "outputs": [
        {
          "output_type": "stream",
          "name": "stdout",
          "text": [
            "23    -2.49%\n",
            "22    -0.78%\n",
            "21     2.20%\n",
            "20     0.98%\n",
            "19     1.66%\n",
            "18    -0.59%\n",
            "17     0.12%\n",
            "16    -0.07%\n",
            "15    -1.44%\n",
            "14    -0.01%\n",
            "13    -2.40%\n",
            "12     0.60%\n",
            "11    -0.75%\n",
            "10    -1.06%\n",
            "9     -1.35%\n",
            "8      0.13%\n",
            "7      0.17%\n",
            "6     -1.24%\n",
            "5     -0.80%\n",
            "4      0.49%\n",
            "3     -0.44%\n",
            "2      1.77%\n",
            "1     -0.39%\n",
            "0      0.28%\n",
            "Name: Var%, dtype: object\n"
          ]
        }
      ]
    },
    {
      "cell_type": "code",
      "source": [
        "df2 = pd.concat([b,a,d,c,e,f], axis=1)\n",
        "pprint(df2)"
      ],
      "metadata": {
        "colab": {
          "base_uri": "https://localhost:8080/"
        },
        "id": "kcGcpZsDnbWi",
        "outputId": "9f7dcb5b-a41c-40d2-e8f4-85587872e901"
      },
      "execution_count": null,
      "outputs": [
        {
          "output_type": "stream",
          "name": "stdout",
          "text": [
            "          Data  Último  Abertura  Máxima  Mínima    Var%\n",
            "23  03/05/2022  4.9584    5.0841  5.0841  4.9559  -2.49%\n",
            "22  04/05/2022  4.9198    4.9563  5.0368  4.8921  -0.78%\n",
            "21  05/05/2022  5.0280    4.9200  5.0589  4.9173   2.20%\n",
            "20  06/05/2022  5.0774    5.0293  5.1150  5.0070   0.98%\n",
            "19  09/05/2022  5.1617    5.0784  5.1625  5.0784   1.66%\n",
            "18  10/05/2022  5.1313    5.1622  5.1666  5.1090  -0.59%\n",
            "17  11/05/2022  5.1373    5.1328  5.1717  5.0910   0.12%\n",
            "16  12/05/2022  5.1339    5.1380  5.2102  5.1050  -0.07%\n",
            "15  13/05/2022  5.0602    5.1347  5.1502  5.0455  -1.44%\n",
            "14  16/05/2022  5.0599    5.0647  5.1045  5.0307  -0.01%\n",
            "13  17/05/2022  4.9387    5.0617  5.0617  4.9261  -2.40%\n",
            "12  18/05/2022  4.9682    4.9372  5.0005  4.9197   0.60%\n",
            "11  19/05/2022  4.9309    4.9688  4.9694  4.8790  -0.75%\n",
            "10  20/05/2022  4.8788    4.9314  4.9314  4.8519  -1.06%\n",
            "9   23/05/2022  4.8130    4.8797  4.8797  4.7847  -1.35%\n",
            "8   24/05/2022  4.8191    4.8125  4.8548  4.7750   0.13%\n",
            "7   25/05/2022  4.8275    4.8190  4.8644  4.8047   0.17%\n",
            "6   26/05/2022  4.7677    4.8260  4.8442  4.7501  -1.24%\n",
            "5   27/05/2022  4.7295    4.7700  4.7818  4.7147  -0.80%\n",
            "4   30/05/2022  4.7526    4.7311  4.7568  4.6904   0.49%\n",
            "3   31/05/2022  4.7315    4.7538  4.7793  4.6975  -0.44%\n",
            "2   01/06/2022  4.8151    4.7319  4.8180  4.7218   1.77%\n",
            "1   02/06/2022  4.7962    4.8169  4.8169  4.7710  -0.39%\n",
            "0   03/06/2022  4.8094    4.7970  4.8313  4.7880   0.28%\n"
          ]
        }
      ]
    },
    {
      "cell_type": "code",
      "source": [
        "df1['Média'] = a + d + c + e"
      ],
      "metadata": {
        "id": "r0FeEe1y7X27",
        "colab": {
          "base_uri": "https://localhost:8080/"
        },
        "outputId": "305c03bd-99b7-42f0-8bdd-0c7d6bacfd68"
      },
      "execution_count": null,
      "outputs": [
        {
          "output_type": "stream",
          "name": "stderr",
          "text": [
            "/usr/local/lib/python3.7/dist-packages/ipykernel_launcher.py:1: SettingWithCopyWarning: \n",
            "A value is trying to be set on a copy of a slice from a DataFrame.\n",
            "Try using .loc[row_indexer,col_indexer] = value instead\n",
            "\n",
            "See the caveats in the documentation: https://pandas.pydata.org/pandas-docs/stable/user_guide/indexing.html#returning-a-view-versus-a-copy\n",
            "  \"\"\"Entry point for launching an IPython kernel.\n"
          ]
        }
      ]
    },
    {
      "cell_type": "code",
      "source": [
        "g = df1['Média']/4\n",
        "print(g)"
      ],
      "metadata": {
        "colab": {
          "base_uri": "https://localhost:8080/"
        },
        "id": "AL2k5Gc38eB_",
        "outputId": "bffced9f-f89a-4992-b26d-f6f085050948"
      },
      "execution_count": null,
      "outputs": [
        {
          "output_type": "stream",
          "name": "stdout",
          "text": [
            "23    5.020625\n",
            "22    4.951250\n",
            "21    4.981050\n",
            "20    5.057175\n",
            "19    5.120250\n",
            "18    5.142275\n",
            "17    5.133200\n",
            "16    5.146775\n",
            "15    5.097650\n",
            "14    5.064950\n",
            "13    4.997050\n",
            "12    4.956400\n",
            "11    4.937025\n",
            "10    4.898375\n",
            "9     4.839275\n",
            "8     4.815350\n",
            "7     4.828900\n",
            "6     4.797000\n",
            "5     4.749000\n",
            "4     4.732725\n",
            "3     4.740525\n",
            "2     4.771700\n",
            "1     4.800250\n",
            "0     4.806425\n",
            "Name: Média, dtype: float64\n"
          ]
        }
      ]
    },
    {
      "cell_type": "code",
      "source": [
        "df3 = pd.concat([b,g,f], axis=1)\n",
        "pprint(df3)"
      ],
      "metadata": {
        "colab": {
          "base_uri": "https://localhost:8080/"
        },
        "id": "ECXW_55W9WGT",
        "outputId": "dbd6e00a-fa61-4fed-95de-429dfdaed042"
      },
      "execution_count": null,
      "outputs": [
        {
          "output_type": "stream",
          "name": "stdout",
          "text": [
            "          Data     Média    Var%\n",
            "23  03/05/2022  5.020625  -2.49%\n",
            "22  04/05/2022  4.951250  -0.78%\n",
            "21  05/05/2022  4.981050   2.20%\n",
            "20  06/05/2022  5.057175   0.98%\n",
            "19  09/05/2022  5.120250   1.66%\n",
            "18  10/05/2022  5.142275  -0.59%\n",
            "17  11/05/2022  5.133200   0.12%\n",
            "16  12/05/2022  5.146775  -0.07%\n",
            "15  13/05/2022  5.097650  -1.44%\n",
            "14  16/05/2022  5.064950  -0.01%\n",
            "13  17/05/2022  4.997050  -2.40%\n",
            "12  18/05/2022  4.956400   0.60%\n",
            "11  19/05/2022  4.937025  -0.75%\n",
            "10  20/05/2022  4.898375  -1.06%\n",
            "9   23/05/2022  4.839275  -1.35%\n",
            "8   24/05/2022  4.815350   0.13%\n",
            "7   25/05/2022  4.828900   0.17%\n",
            "6   26/05/2022  4.797000  -1.24%\n",
            "5   27/05/2022  4.749000  -0.80%\n",
            "4   30/05/2022  4.732725   0.49%\n",
            "3   31/05/2022  4.740525  -0.44%\n",
            "2   01/06/2022  4.771700   1.77%\n",
            "1   02/06/2022  4.800250  -0.39%\n",
            "0   03/06/2022  4.806425   0.28%\n"
          ]
        }
      ]
    },
    {
      "cell_type": "code",
      "source": [
        "x = df3['Data']\n",
        "y = df3['Média']"
      ],
      "metadata": {
        "id": "PyjXOBqu2wJI"
      },
      "execution_count": null,
      "outputs": []
    },
    {
      "cell_type": "code",
      "source": [
        "#grafico de linha com dados brutos em matplotlib\n",
        "plt.figure(figsize=(30,10))\n",
        "plt.plot(x,y)\n",
        "plt.title('Cotação do Dólar (Maio e Junho de 2022)')\n",
        "plt.xlabel(\"Data\")\n",
        "plt.ylabel(\"USD-BRL\")\n",
        "plt.show()"
      ],
      "metadata": {
        "colab": {
          "base_uri": "https://localhost:8080/",
          "height": 451
        },
        "id": "hNxTxuMc44DD",
        "outputId": "b3374d58-9da5-4b9b-dd7a-1f4aab599c2f"
      },
      "execution_count": null,
      "outputs": [
        {
          "output_type": "display_data",
          "data": {
            "text/plain": [
              "<Figure size 2160x720 with 1 Axes>"
            ],
            "image/png": "[encoded data removed]"
          },
          "metadata": {
            "needs_background": "light"
          }
        }
      ]
    },
    {
      "cell_type": "code",
      "source": [
        "#grafico de barras com dados brutos em matplotlib\n",
        "plt.figure(figsize=(30,10))\n",
        "plt.bar(x,y)\n",
        "plt.title('Cotação do Dólar (Maio e Junho de 2022)')\n",
        "plt.xlabel(\"Data\")\n",
        "plt.ylabel(\"USD-BRL\")\n",
        "plt.show()"
      ],
      "metadata": {
        "colab": {
          "base_uri": "https://localhost:8080/",
          "height": 453
        },
        "id": "09n3rWkUJ66v",
        "outputId": "c6fea8d1-5d4c-4288-a092-7a58f1f6df0d"
      },
      "execution_count": null,
      "outputs": [
        {
          "output_type": "display_data",
          "data": {
            "text/plain": [
              "<Figure size 2160x720 with 1 Axes>"
            ],
            "image/png": "[encoded data removed]"
          },
          "metadata": {
            "needs_background": "light"
          }
        }
      ]
    },
    {
      "cell_type": "code",
      "source": [
        "#grafico de dispersão com dados brutos em matplotlib\n",
        "plt.figure(figsize=(30,10))\n",
        "plt.scatter(x, y)\n",
        "plt.title('Cotação do Dólar (Maio e Junho de 2022)')\n",
        "plt.xlabel(\"Data\")\n",
        "plt.ylabel(\"USD-BRL\")\n",
        "plt.show()"
      ],
      "metadata": {
        "colab": {
          "base_uri": "https://localhost:8080/",
          "height": 451
        },
        "id": "NsJJVLIUvkRP",
        "outputId": "b6402fe2-65ac-4a9b-e8d2-7f33faf28406"
      },
      "execution_count": null,
      "outputs": [
        {
          "output_type": "display_data",
          "data": {
            "text/plain": [
              "<Figure size 2160x720 with 1 Axes>"
            ],
            "image/png": "[encoded data removed]"
          },
          "metadata": {
            "needs_background": "light"
          }
        }
      ]
    },
    {
      "cell_type": "code",
      "source": [
        "#grafico de linha com dados brutos em plotly\n",
        "import plotly.express as px\n",
        "px.line(df3, x='Data', y='Média')"
      ],
      "metadata": {
        "colab": {
          "base_uri": "https://localhost:8080/",
          "height": 542
        },
        "id": "kTLERsH1F3os",
        "outputId": "66d9ecfd-d66d-44cc-ebb0-d4a690effa87"
      },
      "execution_count": null,
      "outputs": [
        {
          "output_type": "display_data",
          "data": {
            "text/html": [
              "<html>\n",
              "<head><meta charset=\"utf-8\" /></head>\n",
              "<body>\n",
              "    <div>            <script src=\"https://cdnjs.cloudflare.com/ajax/libs/mathjax/2.7.5/MathJax.js?config=TeX-AMS-MML_SVG\"></script><script type=\"text/javascript\">if (window.MathJax) {MathJax.Hub.Config({SVG: {font: \"STIX-Web\"}});}</script>                <script type=\"text/javascript\">window.PlotlyConfig = {MathJaxConfig: 'local'};</script>\n",
              "        <script src=\"https://cdn.plot.ly/plotly-2.8.3.min.js\"></script>                <div id=\"3e1fc921-52e0-4506-8a5f-000e10e2a470\" class=\"plotly-graph-div\" style=\"height:525px; width:100%;\"></div>            <script type=\"text/javascript\">                                    window.PLOTLYENV=window.PLOTLYENV || {};                                    if (document.getElementById(\"3e1fc921-52e0-4506-8a5f-000e10e2a470\")) {                    Plotly.newPlot(                        \"3e1fc921-52e0-4506-8a5f-000e10e2a470\",                        [{\"hovertemplate\":\"Data=%{x}<br>M\\u00e9dia=%{y}<extra></extra>\",\"legendgroup\":\"\",\"line\":{\"color\":\"#636efa\",\"dash\":\"solid\"},\"marker\":{\"symbol\":\"circle\"},\"mode\":\"lines\",\"name\":\"\",\"orientation\":\"v\",\"showlegend\":false,\"x\":[\"03/05/2022\",\"04/05/2022\",\"05/05/2022\",\"06/05/2022\",\"09/05/2022\",\"10/05/2022\",\"11/05/2022\",\"12/05/2022\",\"13/05/2022\",\"16/05/2022\",\"17/05/2022\",\"18/05/2022\",\"19/05/2022\",\"20/05/2022\",\"23/05/2022\",\"24/05/2022\",\"25/05/2022\",\"26/05/2022\",\"27/05/2022\",\"30/05/2022\",\"31/05/2022\",\"01/06/2022\",\"02/06/2022\",\"03/06/2022\"],\"xaxis\":\"x\",\"y\":[5.020625,4.95125,4.981050000000001,5.057175,5.12025,5.142275,5.1332,5.146775,5.09765,5.0649500000000005,4.99705,4.9563999999999995,4.937025,4.898375,4.839275,4.8153500000000005,4.8289,4.797,4.749,4.732725,4.740525,4.7717,4.80025,4.806425],\"yaxis\":\"y\",\"type\":\"scatter\"}],                        {\"template\":{\"data\":{\"bar\":[{\"error_x\":{\"color\":\"#2a3f5f\"},\"error_y\":{\"color\":\"#2a3f5f\"},\"marker\":{\"line\":{\"color\":\"#E5ECF6\",\"width\":0.5},\"pattern\":{\"fillmode\":\"overlay\",\"size\":10,\"solidity\":0.2}},\"type\":\"bar\"}],\"barpolar\":[{\"marker\":{\"line\":{\"color\":\"#E5ECF6\",\"width\":0.5},\"pattern\":{\"fillmode\":\"overlay\",\"size\":10,\"solidity\":0.2}},\"type\":\"barpolar\"}],\"carpet\":[{\"aaxis\":{\"endlinecolor\":\"#2a3f5f\",\"gridcolor\":\"white\",\"linecolor\":\"white\",\"minorgridcolor\":\"white\",\"startlinecolor\":\"#2a3f5f\"},\"baxis\":{\"endlinecolor\":\"#2a3f5f\",\"gridcolor\":\"white\",\"linecolor\":\"white\",\"minorgridcolor\":\"white\",\"startlinecolor\":\"#2a3f5f\"},\"type\":\"carpet\"}],\"choropleth\":[{\"colorbar\":{\"outlinewidth\":0,\"ticks\":\"\"},\"type\":\"choropleth\"}],\"contour\":[{\"colorbar\":{\"outlinewidth\":0,\"ticks\":\"\"},\"colorscale\":[[0.0,\"#0d0887\"],[0.1111111111111111,\"#46039f\"],[0.2222222222222222,\"#7201a8\"],[0.3333333333333333,\"#9c179e\"],[0.4444444444444444,\"#bd3786\"],[0.5555555555555556,\"#d8576b\"],[0.6666666666666666,\"#ed7953\"],[0.7777777777777778,\"#fb9f3a\"],[0.8888888888888888,\"#fdca26\"],[1.0,\"#f0f921\"]],\"type\":\"contour\"}],\"contourcarpet\":[{\"colorbar\":{\"outlinewidth\":0,\"ticks\":\"\"},\"type\":\"contourcarpet\"}],\"heatmap\":[{\"colorbar\":{\"outlinewidth\":0,\"ticks\":\"\"},\"colorscale\":[[0.0,\"#0d0887\"],[0.1111111111111111,\"#46039f\"],[0.2222222222222222,\"#7201a8\"],[0.3333333333333333,\"#9c179e\"],[0.4444444444444444,\"#bd3786\"],[0.5555555555555556,\"#d8576b\"],[0.6666666666666666,\"#ed7953\"],[0.7777777777777778,\"#fb9f3a\"],[0.8888888888888888,\"#fdca26\"],[1.0,\"#f0f921\"]],\"type\":\"heatmap\"}],\"heatmapgl\":[{\"colorbar\":{\"outlinewidth\":0,\"ticks\":\"\"},\"colorscale\":[[0.0,\"#0d0887\"],[0.1111111111111111,\"#46039f\"],[0.2222222222222222,\"#7201a8\"],[0.3333333333333333,\"#9c179e\"],[0.4444444444444444,\"#bd3786\"],[0.5555555555555556,\"#d8576b\"],[0.6666666666666666,\"#ed7953\"],[0.7777777777777778,\"#fb9f3a\"],[0.8888888888888888,\"#fdca26\"],[1.0,\"#f0f921\"]],\"type\":\"heatmapgl\"}],\"histogram\":[{\"marker\":{\"pattern\":{\"fillmode\":\"overlay\",\"size\":10,\"solidity\":0.2}},\"type\":\"histogram\"}],\"histogram2d\":[{\"colorbar\":{\"outlinewidth\":0,\"ticks\":\"\"},\"colorscale\":[[0.0,\"#0d0887\"],[0.1111111111111111,\"#46039f\"],[0.2222222222222222,\"#7201a8\"],[0.3333333333333333,\"#9c179e\"],[0.4444444444444444,\"#bd3786\"],[0.5555555555555556,\"#d8576b\"],[0.6666666666666666,\"#ed7953\"],[0.7777777777777778,\"#fb9f3a\"],[0.8888888888888888,\"#fdca26\"],[1.0,\"#f0f921\"]],\"type\":\"histogram2d\"}],\"histogram2dcontour\":[{\"colorbar\":{\"outlinewidth\":0,\"ticks\":\"\"},\"colorscale\":[[0.0,\"#0d0887\"],[0.1111111111111111,\"#46039f\"],[0.2222222222222222,\"#7201a8\"],[0.3333333333333333,\"#9c179e\"],[0.4444444444444444,\"#bd3786\"],[0.5555555555555556,\"#d8576b\"],[0.6666666666666666,\"#ed7953\"],[0.7777777777777778,\"#fb9f3a\"],[0.8888888888888888,\"#fdca26\"],[1.0,\"#f0f921\"]],\"type\":\"histogram2dcontour\"}],\"mesh3d\":[{\"colorbar\":{\"outlinewidth\":0,\"ticks\":\"\"},\"type\":\"mesh3d\"}],\"parcoords\":[{\"line\":{\"colorbar\":{\"outlinewidth\":0,\"ticks\":\"\"}},\"type\":\"parcoords\"}],\"pie\":[{\"automargin\":true,\"type\":\"pie\"}],\"scatter\":[{\"marker\":{\"colorbar\":{\"outlinewidth\":0,\"ticks\":\"\"}},\"type\":\"scatter\"}],\"scatter3d\":[{\"line\":{\"colorbar\":{\"outlinewidth\":0,\"ticks\":\"\"}},\"marker\":{\"colorbar\":{\"outlinewidth\":0,\"ticks\":\"\"}},\"type\":\"scatter3d\"}],\"scattercarpet\":[{\"marker\":{\"colorbar\":{\"outlinewidth\":0,\"ticks\":\"\"}},\"type\":\"scattercarpet\"}],\"scattergeo\":[{\"marker\":{\"colorbar\":{\"outlinewidth\":0,\"ticks\":\"\"}},\"type\":\"scattergeo\"}],\"scattergl\":[{\"marker\":{\"colorbar\":{\"outlinewidth\":0,\"ticks\":\"\"}},\"type\":\"scattergl\"}],\"scattermapbox\":[{\"marker\":{\"colorbar\":{\"outlinewidth\":0,\"ticks\":\"\"}},\"type\":\"scattermapbox\"}],\"scatterpolar\":[{\"marker\":{\"colorbar\":{\"outlinewidth\":0,\"ticks\":\"\"}},\"type\":\"scatterpolar\"}],\"scatterpolargl\":[{\"marker\":{\"colorbar\":{\"outlinewidth\":0,\"ticks\":\"\"}},\"type\":\"scatterpolargl\"}],\"scatterternary\":[{\"marker\":{\"colorbar\":{\"outlinewidth\":0,\"ticks\":\"\"}},\"type\":\"scatterternary\"}],\"surface\":[{\"colorbar\":{\"outlinewidth\":0,\"ticks\":\"\"},\"colorscale\":[[0.0,\"#0d0887\"],[0.1111111111111111,\"#46039f\"],[0.2222222222222222,\"#7201a8\"],[0.3333333333333333,\"#9c179e\"],[0.4444444444444444,\"#bd3786\"],[0.5555555555555556,\"#d8576b\"],[0.6666666666666666,\"#ed7953\"],[0.7777777777777778,\"#fb9f3a\"],[0.8888888888888888,\"#fdca26\"],[1.0,\"#f0f921\"]],\"type\":\"surface\"}],\"table\":[{\"cells\":{\"fill\":{\"color\":\"#EBF0F8\"},\"line\":{\"color\":\"white\"}},\"header\":{\"fill\":{\"color\":\"#C8D4E3\"},\"line\":{\"color\":\"white\"}},\"type\":\"table\"}]},\"layout\":{\"annotationdefaults\":{\"arrowcolor\":\"#2a3f5f\",\"arrowhead\":0,\"arrowwidth\":1},\"autotypenumbers\":\"strict\",\"coloraxis\":{\"colorbar\":{\"outlinewidth\":0,\"ticks\":\"\"}},\"colorscale\":{\"diverging\":[[0,\"#8e0152\"],[0.1,\"#c51b7d\"],[0.2,\"#de77ae\"],[0.3,\"#f1b6da\"],[0.4,\"#fde0ef\"],[0.5,\"#f7f7f7\"],[0.6,\"#e6f5d0\"],[0.7,\"#b8e186\"],[0.8,\"#7fbc41\"],[0.9,\"#4d9221\"],[1,\"#276419\"]],\"sequential\":[[0.0,\"#0d0887\"],[0.1111111111111111,\"#46039f\"],[0.2222222222222222,\"#7201a8\"],[0.3333333333333333,\"#9c179e\"],[0.4444444444444444,\"#bd3786\"],[0.5555555555555556,\"#d8576b\"],[0.6666666666666666,\"#ed7953\"],[0.7777777777777778,\"#fb9f3a\"],[0.8888888888888888,\"#fdca26\"],[1.0,\"#f0f921\"]],\"sequentialminus\":[[0.0,\"#0d0887\"],[0.1111111111111111,\"#46039f\"],[0.2222222222222222,\"#7201a8\"],[0.3333333333333333,\"#9c179e\"],[0.4444444444444444,\"#bd3786\"],[0.5555555555555556,\"#d8576b\"],[0.6666666666666666,\"#ed7953\"],[0.7777777777777778,\"#fb9f3a\"],[0.8888888888888888,\"#fdca26\"],[1.0,\"#f0f921\"]]},\"colorway\":[\"#636efa\",\"#EF553B\",\"#00cc96\",\"#ab63fa\",\"#FFA15A\",\"#19d3f3\",\"#FF6692\",\"#B6E880\",\"#FF97FF\",\"#FECB52\"],\"font\":{\"color\":\"#2a3f5f\"},\"geo\":{\"bgcolor\":\"white\",\"lakecolor\":\"white\",\"landcolor\":\"#E5ECF6\",\"showlakes\":true,\"showland\":true,\"subunitcolor\":\"white\"},\"hoverlabel\":{\"align\":\"left\"},\"hovermode\":\"closest\",\"mapbox\":{\"style\":\"light\"},\"paper_bgcolor\":\"white\",\"plot_bgcolor\":\"#E5ECF6\",\"polar\":{\"angularaxis\":{\"gridcolor\":\"white\",\"linecolor\":\"white\",\"ticks\":\"\"},\"bgcolor\":\"#E5ECF6\",\"radialaxis\":{\"gridcolor\":\"white\",\"linecolor\":\"white\",\"ticks\":\"\"}},\"scene\":{\"xaxis\":{\"backgroundcolor\":\"#E5ECF6\",\"gridcolor\":\"white\",\"gridwidth\":2,\"linecolor\":\"white\",\"showbackground\":true,\"ticks\":\"\",\"zerolinecolor\":\"white\"},\"yaxis\":{\"backgroundcolor\":\"#E5ECF6\",\"gridcolor\":\"white\",\"gridwidth\":2,\"linecolor\":\"white\",\"showbackground\":true,\"ticks\":\"\",\"zerolinecolor\":\"white\"},\"zaxis\":{\"backgroundcolor\":\"#E5ECF6\",\"gridcolor\":\"white\",\"gridwidth\":2,\"linecolor\":\"white\",\"showbackground\":true,\"ticks\":\"\",\"zerolinecolor\":\"white\"}},\"shapedefaults\":{\"line\":{\"color\":\"#2a3f5f\"}},\"ternary\":{\"aaxis\":{\"gridcolor\":\"white\",\"linecolor\":\"white\",\"ticks\":\"\"},\"baxis\":{\"gridcolor\":\"white\",\"linecolor\":\"white\",\"ticks\":\"\"},\"bgcolor\":\"#E5ECF6\",\"caxis\":{\"gridcolor\":\"white\",\"linecolor\":\"white\",\"ticks\":\"\"}},\"title\":{\"x\":0.05},\"xaxis\":{\"automargin\":true,\"gridcolor\":\"white\",\"linecolor\":\"white\",\"ticks\":\"\",\"title\":{\"standoff\":15},\"zerolinecolor\":\"white\",\"zerolinewidth\":2},\"yaxis\":{\"automargin\":true,\"gridcolor\":\"white\",\"linecolor\":\"white\",\"ticks\":\"\",\"title\":{\"standoff\":15},\"zerolinecolor\":\"white\",\"zerolinewidth\":2}}},\"xaxis\":{\"anchor\":\"y\",\"domain\":[0.0,1.0],\"title\":{\"text\":\"Data\"}},\"yaxis\":{\"anchor\":\"x\",\"domain\":[0.0,1.0],\"title\":{\"text\":\"M\\u00e9dia\"}},\"legend\":{\"tracegroupgap\":0},\"margin\":{\"t\":60}},                        {\"responsive\": true}                    ).then(function(){\n",
              "                            \n",
              "var gd = document.getElementById('3e1fc921-52e0-4506-8a5f-000e10e2a470');\n",
              "var x = new MutationObserver(function (mutations, observer) {{\n",
              "        var display = window.getComputedStyle(gd).display;\n",
              "        if (!display || display === 'none') {{\n",
              "            console.log([gd, 'removed!']);\n",
              "            Plotly.purge(gd);\n",
              "            observer.disconnect();\n",
              "        }}\n",
              "}});\n",
              "\n",
              "// Listen for the removal of the full notebook cells\n",
              "var notebookContainer = gd.closest('#notebook-container');\n",
              "if (notebookContainer) {{\n",
              "    x.observe(notebookContainer, {childList: true});\n",
              "}}\n",
              "\n",
              "// Listen for the clearing of the current output cell\n",
              "var outputEl = gd.closest('.output');\n",
              "if (outputEl) {{\n",
              "    x.observe(outputEl, {childList: true});\n",
              "}}\n",
              "\n",
              "                        })                };                            </script>        </div>\n",
              "</body>\n",
              "</html>"
            ]
          },
          "metadata": {}
        }
      ]
    },
    {
      "cell_type": "code",
      "source": [
        "#grafico de barras com dados brutos em plotly\n",
        "px.bar(df3, x='Data', y='Média')"
      ],
      "metadata": {
        "colab": {
          "base_uri": "https://localhost:8080/",
          "height": 542
        },
        "id": "wgvYv_mBIpzW",
        "outputId": "0380f08f-cf3f-4bb5-b685-f062dffaab80"
      },
      "execution_count": null,
      "outputs": [
        {
          "output_type": "display_data",
          "data": {
            "text/html": [
              "<html>\n",
              "<head><meta charset=\"utf-8\" /></head>\n",
              "<body>\n",
              "    <div>            <script src=\"https://cdnjs.cloudflare.com/ajax/libs/mathjax/2.7.5/MathJax.js?config=TeX-AMS-MML_SVG\"></script><script type=\"text/javascript\">if (window.MathJax) {MathJax.Hub.Config({SVG: {font: \"STIX-Web\"}});}</script>                <script type=\"text/javascript\">window.PlotlyConfig = {MathJaxConfig: 'local'};</script>\n",
              "        <script src=\"https://cdn.plot.ly/plotly-2.8.3.min.js\"></script>                <div id=\"f47bab43-37f5-4819-9ddf-a5b46e7ae106\" class=\"plotly-graph-div\" style=\"height:525px; width:100%;\"></div>            <script type=\"text/javascript\">                                    window.PLOTLYENV=window.PLOTLYENV || {};                                    if (document.getElementById(\"f47bab43-37f5-4819-9ddf-a5b46e7ae106\")) {                    Plotly.newPlot(                        \"f47bab43-37f5-4819-9ddf-a5b46e7ae106\",                        [{\"alignmentgroup\":\"True\",\"hovertemplate\":\"Data=%{x}<br>M\\u00e9dia=%{y}<extra></extra>\",\"legendgroup\":\"\",\"marker\":{\"color\":\"#636efa\",\"pattern\":{\"shape\":\"\"}},\"name\":\"\",\"offsetgroup\":\"\",\"orientation\":\"v\",\"showlegend\":false,\"textposition\":\"auto\",\"x\":[\"03/05/2022\",\"04/05/2022\",\"05/05/2022\",\"06/05/2022\",\"09/05/2022\",\"10/05/2022\",\"11/05/2022\",\"12/05/2022\",\"13/05/2022\",\"16/05/2022\",\"17/05/2022\",\"18/05/2022\",\"19/05/2022\",\"20/05/2022\",\"23/05/2022\",\"24/05/2022\",\"25/05/2022\",\"26/05/2022\",\"27/05/2022\",\"30/05/2022\",\"31/05/2022\",\"01/06/2022\",\"02/06/2022\",\"03/06/2022\"],\"xaxis\":\"x\",\"y\":[5.020625,4.95125,4.981050000000001,5.057175,5.12025,5.142275,5.1332,5.146775,5.09765,5.0649500000000005,4.99705,4.9563999999999995,4.937025,4.898375,4.839275,4.8153500000000005,4.8289,4.797,4.749,4.732725,4.740525,4.7717,4.80025,4.806425],\"yaxis\":\"y\",\"type\":\"bar\"}],                        {\"template\":{\"data\":{\"bar\":[{\"error_x\":{\"color\":\"#2a3f5f\"},\"error_y\":{\"color\":\"#2a3f5f\"},\"marker\":{\"line\":{\"color\":\"#E5ECF6\",\"width\":0.5},\"pattern\":{\"fillmode\":\"overlay\",\"size\":10,\"solidity\":0.2}},\"type\":\"bar\"}],\"barpolar\":[{\"marker\":{\"line\":{\"color\":\"#E5ECF6\",\"width\":0.5},\"pattern\":{\"fillmode\":\"overlay\",\"size\":10,\"solidity\":0.2}},\"type\":\"barpolar\"}],\"carpet\":[{\"aaxis\":{\"endlinecolor\":\"#2a3f5f\",\"gridcolor\":\"white\",\"linecolor\":\"white\",\"minorgridcolor\":\"white\",\"startlinecolor\":\"#2a3f5f\"},\"baxis\":{\"endlinecolor\":\"#2a3f5f\",\"gridcolor\":\"white\",\"linecolor\":\"white\",\"minorgridcolor\":\"white\",\"startlinecolor\":\"#2a3f5f\"},\"type\":\"carpet\"}],\"choropleth\":[{\"colorbar\":{\"outlinewidth\":0,\"ticks\":\"\"},\"type\":\"choropleth\"}],\"contour\":[{\"colorbar\":{\"outlinewidth\":0,\"ticks\":\"\"},\"colorscale\":[[0.0,\"#0d0887\"],[0.1111111111111111,\"#46039f\"],[0.2222222222222222,\"#7201a8\"],[0.3333333333333333,\"#9c179e\"],[0.4444444444444444,\"#bd3786\"],[0.5555555555555556,\"#d8576b\"],[0.6666666666666666,\"#ed7953\"],[0.7777777777777778,\"#fb9f3a\"],[0.8888888888888888,\"#fdca26\"],[1.0,\"#f0f921\"]],\"type\":\"contour\"}],\"contourcarpet\":[{\"colorbar\":{\"outlinewidth\":0,\"ticks\":\"\"},\"type\":\"contourcarpet\"}],\"heatmap\":[{\"colorbar\":{\"outlinewidth\":0,\"ticks\":\"\"},\"colorscale\":[[0.0,\"#0d0887\"],[0.1111111111111111,\"#46039f\"],[0.2222222222222222,\"#7201a8\"],[0.3333333333333333,\"#9c179e\"],[0.4444444444444444,\"#bd3786\"],[0.5555555555555556,\"#d8576b\"],[0.6666666666666666,\"#ed7953\"],[0.7777777777777778,\"#fb9f3a\"],[0.8888888888888888,\"#fdca26\"],[1.0,\"#f0f921\"]],\"type\":\"heatmap\"}],\"heatmapgl\":[{\"colorbar\":{\"outlinewidth\":0,\"ticks\":\"\"},\"colorscale\":[[0.0,\"#0d0887\"],[0.1111111111111111,\"#46039f\"],[0.2222222222222222,\"#7201a8\"],[0.3333333333333333,\"#9c179e\"],[0.4444444444444444,\"#bd3786\"],[0.5555555555555556,\"#d8576b\"],[0.6666666666666666,\"#ed7953\"],[0.7777777777777778,\"#fb9f3a\"],[0.8888888888888888,\"#fdca26\"],[1.0,\"#f0f921\"]],\"type\":\"heatmapgl\"}],\"histogram\":[{\"marker\":{\"pattern\":{\"fillmode\":\"overlay\",\"size\":10,\"solidity\":0.2}},\"type\":\"histogram\"}],\"histogram2d\":[{\"colorbar\":{\"outlinewidth\":0,\"ticks\":\"\"},\"colorscale\":[[0.0,\"#0d0887\"],[0.1111111111111111,\"#46039f\"],[0.2222222222222222,\"#7201a8\"],[0.3333333333333333,\"#9c179e\"],[0.4444444444444444,\"#bd3786\"],[0.5555555555555556,\"#d8576b\"],[0.6666666666666666,\"#ed7953\"],[0.7777777777777778,\"#fb9f3a\"],[0.8888888888888888,\"#fdca26\"],[1.0,\"#f0f921\"]],\"type\":\"histogram2d\"}],\"histogram2dcontour\":[{\"colorbar\":{\"outlinewidth\":0,\"ticks\":\"\"},\"colorscale\":[[0.0,\"#0d0887\"],[0.1111111111111111,\"#46039f\"],[0.2222222222222222,\"#7201a8\"],[0.3333333333333333,\"#9c179e\"],[0.4444444444444444,\"#bd3786\"],[0.5555555555555556,\"#d8576b\"],[0.6666666666666666,\"#ed7953\"],[0.7777777777777778,\"#fb9f3a\"],[0.8888888888888888,\"#fdca26\"],[1.0,\"#f0f921\"]],\"type\":\"histogram2dcontour\"}],\"mesh3d\":[{\"colorbar\":{\"outlinewidth\":0,\"ticks\":\"\"},\"type\":\"mesh3d\"}],\"parcoords\":[{\"line\":{\"colorbar\":{\"outlinewidth\":0,\"ticks\":\"\"}},\"type\":\"parcoords\"}],\"pie\":[{\"automargin\":true,\"type\":\"pie\"}],\"scatter\":[{\"marker\":{\"colorbar\":{\"outlinewidth\":0,\"ticks\":\"\"}},\"type\":\"scatter\"}],\"scatter3d\":[{\"line\":{\"colorbar\":{\"outlinewidth\":0,\"ticks\":\"\"}},\"marker\":{\"colorbar\":{\"outlinewidth\":0,\"ticks\":\"\"}},\"type\":\"scatter3d\"}],\"scattercarpet\":[{\"marker\":{\"colorbar\":{\"outlinewidth\":0,\"ticks\":\"\"}},\"type\":\"scattercarpet\"}],\"scattergeo\":[{\"marker\":{\"colorbar\":{\"outlinewidth\":0,\"ticks\":\"\"}},\"type\":\"scattergeo\"}],\"scattergl\":[{\"marker\":{\"colorbar\":{\"outlinewidth\":0,\"ticks\":\"\"}},\"type\":\"scattergl\"}],\"scattermapbox\":[{\"marker\":{\"colorbar\":{\"outlinewidth\":0,\"ticks\":\"\"}},\"type\":\"scattermapbox\"}],\"scatterpolar\":[{\"marker\":{\"colorbar\":{\"outlinewidth\":0,\"ticks\":\"\"}},\"type\":\"scatterpolar\"}],\"scatterpolargl\":[{\"marker\":{\"colorbar\":{\"outlinewidth\":0,\"ticks\":\"\"}},\"type\":\"scatterpolargl\"}],\"scatterternary\":[{\"marker\":{\"colorbar\":{\"outlinewidth\":0,\"ticks\":\"\"}},\"type\":\"scatterternary\"}],\"surface\":[{\"colorbar\":{\"outlinewidth\":0,\"ticks\":\"\"},\"colorscale\":[[0.0,\"#0d0887\"],[0.1111111111111111,\"#46039f\"],[0.2222222222222222,\"#7201a8\"],[0.3333333333333333,\"#9c179e\"],[0.4444444444444444,\"#bd3786\"],[0.5555555555555556,\"#d8576b\"],[0.6666666666666666,\"#ed7953\"],[0.7777777777777778,\"#fb9f3a\"],[0.8888888888888888,\"#fdca26\"],[1.0,\"#f0f921\"]],\"type\":\"surface\"}],\"table\":[{\"cells\":{\"fill\":{\"color\":\"#EBF0F8\"},\"line\":{\"color\":\"white\"}},\"header\":{\"fill\":{\"color\":\"#C8D4E3\"},\"line\":{\"color\":\"white\"}},\"type\":\"table\"}]},\"layout\":{\"annotationdefaults\":{\"arrowcolor\":\"#2a3f5f\",\"arrowhead\":0,\"arrowwidth\":1},\"autotypenumbers\":\"strict\",\"coloraxis\":{\"colorbar\":{\"outlinewidth\":0,\"ticks\":\"\"}},\"colorscale\":{\"diverging\":[[0,\"#8e0152\"],[0.1,\"#c51b7d\"],[0.2,\"#de77ae\"],[0.3,\"#f1b6da\"],[0.4,\"#fde0ef\"],[0.5,\"#f7f7f7\"],[0.6,\"#e6f5d0\"],[0.7,\"#b8e186\"],[0.8,\"#7fbc41\"],[0.9,\"#4d9221\"],[1,\"#276419\"]],\"sequential\":[[0.0,\"#0d0887\"],[0.1111111111111111,\"#46039f\"],[0.2222222222222222,\"#7201a8\"],[0.3333333333333333,\"#9c179e\"],[0.4444444444444444,\"#bd3786\"],[0.5555555555555556,\"#d8576b\"],[0.6666666666666666,\"#ed7953\"],[0.7777777777777778,\"#fb9f3a\"],[0.8888888888888888,\"#fdca26\"],[1.0,\"#f0f921\"]],\"sequentialminus\":[[0.0,\"#0d0887\"],[0.1111111111111111,\"#46039f\"],[0.2222222222222222,\"#7201a8\"],[0.3333333333333333,\"#9c179e\"],[0.4444444444444444,\"#bd3786\"],[0.5555555555555556,\"#d8576b\"],[0.6666666666666666,\"#ed7953\"],[0.7777777777777778,\"#fb9f3a\"],[0.8888888888888888,\"#fdca26\"],[1.0,\"#f0f921\"]]},\"colorway\":[\"#636efa\",\"#EF553B\",\"#00cc96\",\"#ab63fa\",\"#FFA15A\",\"#19d3f3\",\"#FF6692\",\"#B6E880\",\"#FF97FF\",\"#FECB52\"],\"font\":{\"color\":\"#2a3f5f\"},\"geo\":{\"bgcolor\":\"white\",\"lakecolor\":\"white\",\"landcolor\":\"#E5ECF6\",\"showlakes\":true,\"showland\":true,\"subunitcolor\":\"white\"},\"hoverlabel\":{\"align\":\"left\"},\"hovermode\":\"closest\",\"mapbox\":{\"style\":\"light\"},\"paper_bgcolor\":\"white\",\"plot_bgcolor\":\"#E5ECF6\",\"polar\":{\"angularaxis\":{\"gridcolor\":\"white\",\"linecolor\":\"white\",\"ticks\":\"\"},\"bgcolor\":\"#E5ECF6\",\"radialaxis\":{\"gridcolor\":\"white\",\"linecolor\":\"white\",\"ticks\":\"\"}},\"scene\":{\"xaxis\":{\"backgroundcolor\":\"#E5ECF6\",\"gridcolor\":\"white\",\"gridwidth\":2,\"linecolor\":\"white\",\"showbackground\":true,\"ticks\":\"\",\"zerolinecolor\":\"white\"},\"yaxis\":{\"backgroundcolor\":\"#E5ECF6\",\"gridcolor\":\"white\",\"gridwidth\":2,\"linecolor\":\"white\",\"showbackground\":true,\"ticks\":\"\",\"zerolinecolor\":\"white\"},\"zaxis\":{\"backgroundcolor\":\"#E5ECF6\",\"gridcolor\":\"white\",\"gridwidth\":2,\"linecolor\":\"white\",\"showbackground\":true,\"ticks\":\"\",\"zerolinecolor\":\"white\"}},\"shapedefaults\":{\"line\":{\"color\":\"#2a3f5f\"}},\"ternary\":{\"aaxis\":{\"gridcolor\":\"white\",\"linecolor\":\"white\",\"ticks\":\"\"},\"baxis\":{\"gridcolor\":\"white\",\"linecolor\":\"white\",\"ticks\":\"\"},\"bgcolor\":\"#E5ECF6\",\"caxis\":{\"gridcolor\":\"white\",\"linecolor\":\"white\",\"ticks\":\"\"}},\"title\":{\"x\":0.05},\"xaxis\":{\"automargin\":true,\"gridcolor\":\"white\",\"linecolor\":\"white\",\"ticks\":\"\",\"title\":{\"standoff\":15},\"zerolinecolor\":\"white\",\"zerolinewidth\":2},\"yaxis\":{\"automargin\":true,\"gridcolor\":\"white\",\"linecolor\":\"white\",\"ticks\":\"\",\"title\":{\"standoff\":15},\"zerolinecolor\":\"white\",\"zerolinewidth\":2}}},\"xaxis\":{\"anchor\":\"y\",\"domain\":[0.0,1.0],\"title\":{\"text\":\"Data\"}},\"yaxis\":{\"anchor\":\"x\",\"domain\":[0.0,1.0],\"title\":{\"text\":\"M\\u00e9dia\"}},\"legend\":{\"tracegroupgap\":0},\"margin\":{\"t\":60},\"barmode\":\"relative\"},                        {\"responsive\": true}                    ).then(function(){\n",
              "                            \n",
              "var gd = document.getElementById('f47bab43-37f5-4819-9ddf-a5b46e7ae106');\n",
              "var x = new MutationObserver(function (mutations, observer) {{\n",
              "        var display = window.getComputedStyle(gd).display;\n",
              "        if (!display || display === 'none') {{\n",
              "            console.log([gd, 'removed!']);\n",
              "            Plotly.purge(gd);\n",
              "            observer.disconnect();\n",
              "        }}\n",
              "}});\n",
              "\n",
              "// Listen for the removal of the full notebook cells\n",
              "var notebookContainer = gd.closest('#notebook-container');\n",
              "if (notebookContainer) {{\n",
              "    x.observe(notebookContainer, {childList: true});\n",
              "}}\n",
              "\n",
              "// Listen for the clearing of the current output cell\n",
              "var outputEl = gd.closest('.output');\n",
              "if (outputEl) {{\n",
              "    x.observe(outputEl, {childList: true});\n",
              "}}\n",
              "\n",
              "                        })                };                            </script>        </div>\n",
              "</body>\n",
              "</html>"
            ]
          },
          "metadata": {}
        }
      ]
    },
    {
      "cell_type": "code",
      "source": [
        "#grafico de dispersão com dados brutos em plotly\n",
        "px.scatter(df3, x='Data', y='Média')"
      ],
      "metadata": {
        "colab": {
          "base_uri": "https://localhost:8080/",
          "height": 542
        },
        "id": "fcWPJ2SQw63W",
        "outputId": "f41dd99b-ee57-448d-e50e-a44564da2fcd"
      },
      "execution_count": null,
      "outputs": [
        {
          "output_type": "display_data",
          "data": {
            "text/html": [
              "<html>\n",
              "<head><meta charset=\"utf-8\" /></head>\n",
              "<body>\n",
              "    <div>            <script src=\"https://cdnjs.cloudflare.com/ajax/libs/mathjax/2.7.5/MathJax.js?config=TeX-AMS-MML_SVG\"></script><script type=\"text/javascript\">if (window.MathJax) {MathJax.Hub.Config({SVG: {font: \"STIX-Web\"}});}</script>                <script type=\"text/javascript\">window.PlotlyConfig = {MathJaxConfig: 'local'};</script>\n",
              "        <script src=\"https://cdn.plot.ly/plotly-2.8.3.min.js\"></script>                <div id=\"9edad16c-91a8-41a9-b833-741e514614da\" class=\"plotly-graph-div\" style=\"height:525px; width:100%;\"></div>            <script type=\"text/javascript\">                                    window.PLOTLYENV=window.PLOTLYENV || {};                                    if (document.getElementById(\"9edad16c-91a8-41a9-b833-741e514614da\")) {                    Plotly.newPlot(                        \"9edad16c-91a8-41a9-b833-741e514614da\",                        [{\"hovertemplate\":\"Data=%{x}<br>M\\u00e9dia=%{y}<extra></extra>\",\"legendgroup\":\"\",\"marker\":{\"color\":\"#636efa\",\"symbol\":\"circle\"},\"mode\":\"markers\",\"name\":\"\",\"orientation\":\"v\",\"showlegend\":false,\"x\":[\"03/05/2022\",\"04/05/2022\",\"05/05/2022\",\"06/05/2022\",\"09/05/2022\",\"10/05/2022\",\"11/05/2022\",\"12/05/2022\",\"13/05/2022\",\"16/05/2022\",\"17/05/2022\",\"18/05/2022\",\"19/05/2022\",\"20/05/2022\",\"23/05/2022\",\"24/05/2022\",\"25/05/2022\",\"26/05/2022\",\"27/05/2022\",\"30/05/2022\",\"31/05/2022\",\"01/06/2022\",\"02/06/2022\",\"03/06/2022\"],\"xaxis\":\"x\",\"y\":[5.020625,4.95125,4.981050000000001,5.057175,5.12025,5.142275,5.1332,5.146775,5.09765,5.0649500000000005,4.99705,4.9563999999999995,4.937025,4.898375,4.839275,4.8153500000000005,4.8289,4.797,4.749,4.732725,4.740525,4.7717,4.80025,4.806425],\"yaxis\":\"y\",\"type\":\"scatter\"}],                        {\"template\":{\"data\":{\"bar\":[{\"error_x\":{\"color\":\"#2a3f5f\"},\"error_y\":{\"color\":\"#2a3f5f\"},\"marker\":{\"line\":{\"color\":\"#E5ECF6\",\"width\":0.5},\"pattern\":{\"fillmode\":\"overlay\",\"size\":10,\"solidity\":0.2}},\"type\":\"bar\"}],\"barpolar\":[{\"marker\":{\"line\":{\"color\":\"#E5ECF6\",\"width\":0.5},\"pattern\":{\"fillmode\":\"overlay\",\"size\":10,\"solidity\":0.2}},\"type\":\"barpolar\"}],\"carpet\":[{\"aaxis\":{\"endlinecolor\":\"#2a3f5f\",\"gridcolor\":\"white\",\"linecolor\":\"white\",\"minorgridcolor\":\"white\",\"startlinecolor\":\"#2a3f5f\"},\"baxis\":{\"endlinecolor\":\"#2a3f5f\",\"gridcolor\":\"white\",\"linecolor\":\"white\",\"minorgridcolor\":\"white\",\"startlinecolor\":\"#2a3f5f\"},\"type\":\"carpet\"}],\"choropleth\":[{\"colorbar\":{\"outlinewidth\":0,\"ticks\":\"\"},\"type\":\"choropleth\"}],\"contour\":[{\"colorbar\":{\"outlinewidth\":0,\"ticks\":\"\"},\"colorscale\":[[0.0,\"#0d0887\"],[0.1111111111111111,\"#46039f\"],[0.2222222222222222,\"#7201a8\"],[0.3333333333333333,\"#9c179e\"],[0.4444444444444444,\"#bd3786\"],[0.5555555555555556,\"#d8576b\"],[0.6666666666666666,\"#ed7953\"],[0.7777777777777778,\"#fb9f3a\"],[0.8888888888888888,\"#fdca26\"],[1.0,\"#f0f921\"]],\"type\":\"contour\"}],\"contourcarpet\":[{\"colorbar\":{\"outlinewidth\":0,\"ticks\":\"\"},\"type\":\"contourcarpet\"}],\"heatmap\":[{\"colorbar\":{\"outlinewidth\":0,\"ticks\":\"\"},\"colorscale\":[[0.0,\"#0d0887\"],[0.1111111111111111,\"#46039f\"],[0.2222222222222222,\"#7201a8\"],[0.3333333333333333,\"#9c179e\"],[0.4444444444444444,\"#bd3786\"],[0.5555555555555556,\"#d8576b\"],[0.6666666666666666,\"#ed7953\"],[0.7777777777777778,\"#fb9f3a\"],[0.8888888888888888,\"#fdca26\"],[1.0,\"#f0f921\"]],\"type\":\"heatmap\"}],\"heatmapgl\":[{\"colorbar\":{\"outlinewidth\":0,\"ticks\":\"\"},\"colorscale\":[[0.0,\"#0d0887\"],[0.1111111111111111,\"#46039f\"],[0.2222222222222222,\"#7201a8\"],[0.3333333333333333,\"#9c179e\"],[0.4444444444444444,\"#bd3786\"],[0.5555555555555556,\"#d8576b\"],[0.6666666666666666,\"#ed7953\"],[0.7777777777777778,\"#fb9f3a\"],[0.8888888888888888,\"#fdca26\"],[1.0,\"#f0f921\"]],\"type\":\"heatmapgl\"}],\"histogram\":[{\"marker\":{\"pattern\":{\"fillmode\":\"overlay\",\"size\":10,\"solidity\":0.2}},\"type\":\"histogram\"}],\"histogram2d\":[{\"colorbar\":{\"outlinewidth\":0,\"ticks\":\"\"},\"colorscale\":[[0.0,\"#0d0887\"],[0.1111111111111111,\"#46039f\"],[0.2222222222222222,\"#7201a8\"],[0.3333333333333333,\"#9c179e\"],[0.4444444444444444,\"#bd3786\"],[0.5555555555555556,\"#d8576b\"],[0.6666666666666666,\"#ed7953\"],[0.7777777777777778,\"#fb9f3a\"],[0.8888888888888888,\"#fdca26\"],[1.0,\"#f0f921\"]],\"type\":\"histogram2d\"}],\"histogram2dcontour\":[{\"colorbar\":{\"outlinewidth\":0,\"ticks\":\"\"},\"colorscale\":[[0.0,\"#0d0887\"],[0.1111111111111111,\"#46039f\"],[0.2222222222222222,\"#7201a8\"],[0.3333333333333333,\"#9c179e\"],[0.4444444444444444,\"#bd3786\"],[0.5555555555555556,\"#d8576b\"],[0.6666666666666666,\"#ed7953\"],[0.7777777777777778,\"#fb9f3a\"],[0.8888888888888888,\"#fdca26\"],[1.0,\"#f0f921\"]],\"type\":\"histogram2dcontour\"}],\"mesh3d\":[{\"colorbar\":{\"outlinewidth\":0,\"ticks\":\"\"},\"type\":\"mesh3d\"}],\"parcoords\":[{\"line\":{\"colorbar\":{\"outlinewidth\":0,\"ticks\":\"\"}},\"type\":\"parcoords\"}],\"pie\":[{\"automargin\":true,\"type\":\"pie\"}],\"scatter\":[{\"marker\":{\"colorbar\":{\"outlinewidth\":0,\"ticks\":\"\"}},\"type\":\"scatter\"}],\"scatter3d\":[{\"line\":{\"colorbar\":{\"outlinewidth\":0,\"ticks\":\"\"}},\"marker\":{\"colorbar\":{\"outlinewidth\":0,\"ticks\":\"\"}},\"type\":\"scatter3d\"}],\"scattercarpet\":[{\"marker\":{\"colorbar\":{\"outlinewidth\":0,\"ticks\":\"\"}},\"type\":\"scattercarpet\"}],\"scattergeo\":[{\"marker\":{\"colorbar\":{\"outlinewidth\":0,\"ticks\":\"\"}},\"type\":\"scattergeo\"}],\"scattergl\":[{\"marker\":{\"colorbar\":{\"outlinewidth\":0,\"ticks\":\"\"}},\"type\":\"scattergl\"}],\"scattermapbox\":[{\"marker\":{\"colorbar\":{\"outlinewidth\":0,\"ticks\":\"\"}},\"type\":\"scattermapbox\"}],\"scatterpolar\":[{\"marker\":{\"colorbar\":{\"outlinewidth\":0,\"ticks\":\"\"}},\"type\":\"scatterpolar\"}],\"scatterpolargl\":[{\"marker\":{\"colorbar\":{\"outlinewidth\":0,\"ticks\":\"\"}},\"type\":\"scatterpolargl\"}],\"scatterternary\":[{\"marker\":{\"colorbar\":{\"outlinewidth\":0,\"ticks\":\"\"}},\"type\":\"scatterternary\"}],\"surface\":[{\"colorbar\":{\"outlinewidth\":0,\"ticks\":\"\"},\"colorscale\":[[0.0,\"#0d0887\"],[0.1111111111111111,\"#46039f\"],[0.2222222222222222,\"#7201a8\"],[0.3333333333333333,\"#9c179e\"],[0.4444444444444444,\"#bd3786\"],[0.5555555555555556,\"#d8576b\"],[0.6666666666666666,\"#ed7953\"],[0.7777777777777778,\"#fb9f3a\"],[0.8888888888888888,\"#fdca26\"],[1.0,\"#f0f921\"]],\"type\":\"surface\"}],\"table\":[{\"cells\":{\"fill\":{\"color\":\"#EBF0F8\"},\"line\":{\"color\":\"white\"}},\"header\":{\"fill\":{\"color\":\"#C8D4E3\"},\"line\":{\"color\":\"white\"}},\"type\":\"table\"}]},\"layout\":{\"annotationdefaults\":{\"arrowcolor\":\"#2a3f5f\",\"arrowhead\":0,\"arrowwidth\":1},\"autotypenumbers\":\"strict\",\"coloraxis\":{\"colorbar\":{\"outlinewidth\":0,\"ticks\":\"\"}},\"colorscale\":{\"diverging\":[[0,\"#8e0152\"],[0.1,\"#c51b7d\"],[0.2,\"#de77ae\"],[0.3,\"#f1b6da\"],[0.4,\"#fde0ef\"],[0.5,\"#f7f7f7\"],[0.6,\"#e6f5d0\"],[0.7,\"#b8e186\"],[0.8,\"#7fbc41\"],[0.9,\"#4d9221\"],[1,\"#276419\"]],\"sequential\":[[0.0,\"#0d0887\"],[0.1111111111111111,\"#46039f\"],[0.2222222222222222,\"#7201a8\"],[0.3333333333333333,\"#9c179e\"],[0.4444444444444444,\"#bd3786\"],[0.5555555555555556,\"#d8576b\"],[0.6666666666666666,\"#ed7953\"],[0.7777777777777778,\"#fb9f3a\"],[0.8888888888888888,\"#fdca26\"],[1.0,\"#f0f921\"]],\"sequentialminus\":[[0.0,\"#0d0887\"],[0.1111111111111111,\"#46039f\"],[0.2222222222222222,\"#7201a8\"],[0.3333333333333333,\"#9c179e\"],[0.4444444444444444,\"#bd3786\"],[0.5555555555555556,\"#d8576b\"],[0.6666666666666666,\"#ed7953\"],[0.7777777777777778,\"#fb9f3a\"],[0.8888888888888888,\"#fdca26\"],[1.0,\"#f0f921\"]]},\"colorway\":[\"#636efa\",\"#EF553B\",\"#00cc96\",\"#ab63fa\",\"#FFA15A\",\"#19d3f3\",\"#FF6692\",\"#B6E880\",\"#FF97FF\",\"#FECB52\"],\"font\":{\"color\":\"#2a3f5f\"},\"geo\":{\"bgcolor\":\"white\",\"lakecolor\":\"white\",\"landcolor\":\"#E5ECF6\",\"showlakes\":true,\"showland\":true,\"subunitcolor\":\"white\"},\"hoverlabel\":{\"align\":\"left\"},\"hovermode\":\"closest\",\"mapbox\":{\"style\":\"light\"},\"paper_bgcolor\":\"white\",\"plot_bgcolor\":\"#E5ECF6\",\"polar\":{\"angularaxis\":{\"gridcolor\":\"white\",\"linecolor\":\"white\",\"ticks\":\"\"},\"bgcolor\":\"#E5ECF6\",\"radialaxis\":{\"gridcolor\":\"white\",\"linecolor\":\"white\",\"ticks\":\"\"}},\"scene\":{\"xaxis\":{\"backgroundcolor\":\"#E5ECF6\",\"gridcolor\":\"white\",\"gridwidth\":2,\"linecolor\":\"white\",\"showbackground\":true,\"ticks\":\"\",\"zerolinecolor\":\"white\"},\"yaxis\":{\"backgroundcolor\":\"#E5ECF6\",\"gridcolor\":\"white\",\"gridwidth\":2,\"linecolor\":\"white\",\"showbackground\":true,\"ticks\":\"\",\"zerolinecolor\":\"white\"},\"zaxis\":{\"backgroundcolor\":\"#E5ECF6\",\"gridcolor\":\"white\",\"gridwidth\":2,\"linecolor\":\"white\",\"showbackground\":true,\"ticks\":\"\",\"zerolinecolor\":\"white\"}},\"shapedefaults\":{\"line\":{\"color\":\"#2a3f5f\"}},\"ternary\":{\"aaxis\":{\"gridcolor\":\"white\",\"linecolor\":\"white\",\"ticks\":\"\"},\"baxis\":{\"gridcolor\":\"white\",\"linecolor\":\"white\",\"ticks\":\"\"},\"bgcolor\":\"#E5ECF6\",\"caxis\":{\"gridcolor\":\"white\",\"linecolor\":\"white\",\"ticks\":\"\"}},\"title\":{\"x\":0.05},\"xaxis\":{\"automargin\":true,\"gridcolor\":\"white\",\"linecolor\":\"white\",\"ticks\":\"\",\"title\":{\"standoff\":15},\"zerolinecolor\":\"white\",\"zerolinewidth\":2},\"yaxis\":{\"automargin\":true,\"gridcolor\":\"white\",\"linecolor\":\"white\",\"ticks\":\"\",\"title\":{\"standoff\":15},\"zerolinecolor\":\"white\",\"zerolinewidth\":2}}},\"xaxis\":{\"anchor\":\"y\",\"domain\":[0.0,1.0],\"title\":{\"text\":\"Data\"}},\"yaxis\":{\"anchor\":\"x\",\"domain\":[0.0,1.0],\"title\":{\"text\":\"M\\u00e9dia\"}},\"legend\":{\"tracegroupgap\":0},\"margin\":{\"t\":60}},                        {\"responsive\": true}                    ).then(function(){\n",
              "                            \n",
              "var gd = document.getElementById('9edad16c-91a8-41a9-b833-741e514614da');\n",
              "var x = new MutationObserver(function (mutations, observer) {{\n",
              "        var display = window.getComputedStyle(gd).display;\n",
              "        if (!display || display === 'none') {{\n",
              "            console.log([gd, 'removed!']);\n",
              "            Plotly.purge(gd);\n",
              "            observer.disconnect();\n",
              "        }}\n",
              "}});\n",
              "\n",
              "// Listen for the removal of the full notebook cells\n",
              "var notebookContainer = gd.closest('#notebook-container');\n",
              "if (notebookContainer) {{\n",
              "    x.observe(notebookContainer, {childList: true});\n",
              "}}\n",
              "\n",
              "// Listen for the clearing of the current output cell\n",
              "var outputEl = gd.closest('.output');\n",
              "if (outputEl) {{\n",
              "    x.observe(outputEl, {childList: true});\n",
              "}}\n",
              "\n",
              "                        })                };                            </script>        </div>\n",
              "</body>\n",
              "</html>"
            ]
          },
          "metadata": {}
        }
      ]
    },
    {
      "cell_type": "markdown",
      "source": [
        "criando média das colunas"
      ],
      "metadata": {
        "id": "5FrYxQeu4n5I"
      }
    },
    {
      "cell_type": "code",
      "source": [
        "mean_a = df2['Último'].mean()\n",
        "mean_a"
      ],
      "metadata": {
        "colab": {
          "base_uri": "https://localhost:8080/"
        },
        "id": "d11kVkYZ13aj",
        "outputId": "257bb176-5232-40d7-8c05-553b55a5c066"
      },
      "execution_count": null,
      "outputs": [
        {
          "output_type": "execute_result",
          "data": {
            "text/plain": [
              "4.926920833333333"
            ]
          },
          "metadata": {},
          "execution_count": 35
        }
      ]
    },
    {
      "cell_type": "code",
      "source": [
        "mean_d = df2['Abertura'].mean()\n",
        "mean_d"
      ],
      "metadata": {
        "colab": {
          "base_uri": "https://localhost:8080/"
        },
        "id": "-9zU0ld23jx2",
        "outputId": "95730b70-f948-4f70-814e-2d2cf443e944"
      },
      "execution_count": null,
      "outputs": [
        {
          "output_type": "execute_result",
          "data": {
            "text/plain": [
              "4.9390624999999995"
            ]
          },
          "metadata": {},
          "execution_count": 36
        }
      ]
    },
    {
      "cell_type": "code",
      "source": [
        "mean_c = df2['Máxima'].mean()\n",
        "mean_c"
      ],
      "metadata": {
        "colab": {
          "base_uri": "https://localhost:8080/"
        },
        "id": "3hvaQ4VT32g0",
        "outputId": "113e5611-7486-4b7d-ca91-13cd07a2c7ee"
      },
      "execution_count": null,
      "outputs": [
        {
          "output_type": "execute_result",
          "data": {
            "text/plain": [
              "4.9771125000000005"
            ]
          },
          "metadata": {},
          "execution_count": 37
        }
      ]
    },
    {
      "cell_type": "code",
      "source": [
        "mean_e = df2['Mínima'].mean()\n",
        "mean_e"
      ],
      "metadata": {
        "colab": {
          "base_uri": "https://localhost:8080/"
        },
        "id": "v4LkbLUI4JnG",
        "outputId": "0dcc04f5-381b-43b5-a8cb-82b7f1781072"
      },
      "execution_count": null,
      "outputs": [
        {
          "output_type": "execute_result",
          "data": {
            "text/plain": [
              "4.887770833333334"
            ]
          },
          "metadata": {},
          "execution_count": 38
        }
      ]
    },
    {
      "cell_type": "code",
      "source": [
        "labels = ['Último','Abertura','Máxima','Mínima']\n",
        "vals = [4.926920833333333,4.9390624999999995,4.9771125000000005,4.887770833333334]"
      ],
      "metadata": {
        "id": "hPUvzzP8419V"
      },
      "execution_count": null,
      "outputs": []
    },
    {
      "cell_type": "code",
      "source": [
        "fig, ax = plt.subplots(figsize=(12,5))\n",
        "explode = (0,0,0.1,0)\n",
        "\n",
        "ax.pie(vals, labels=labels,autopct=\"%.2f%%\", shadow=True, explode=explode)\n",
        "ax.set_title('Valor médio da cotação (Maio e Junho de 2022)', fontsize=16)\n",
        "\n",
        "plt.show()"
      ],
      "metadata": {
        "colab": {
          "base_uri": "https://localhost:8080/",
          "height": 322
        },
        "id": "cGGPmViL6_4S",
        "outputId": "0661730c-3232-4aae-9b71-7591e3cb6ced"
      },
      "execution_count": null,
      "outputs": [
        {
          "output_type": "display_data",
          "data": {
            "text/plain": [
              "<Figure size 864x360 with 1 Axes>"
            ],
            "image/png": "[encoded data removed]"
          },
          "metadata": {}
        }
      ]
    }
  ]
}
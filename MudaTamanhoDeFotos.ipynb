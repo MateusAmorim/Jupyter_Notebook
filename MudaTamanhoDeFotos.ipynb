{
 "cells": [
  {
   "cell_type": "code",
   "execution_count": 1,
   "id": "626da891",
   "metadata": {},
   "outputs": [
    {
     "name": "stdout",
     "output_type": "stream",
     "text": [
      "Qual é o seu nome? Mateus\n",
      "Olá, Mateus!\n"
     ]
    }
   ],
   "source": [
    "nome = input(\"Qual é o seu nome? \")\n",
    "print(\"Olá, \" + nome + \"!\")"
   ]
  },
  {
   "cell_type": "code",
   "execution_count": 1,
   "id": "225fbb19",
   "metadata": {},
   "outputs": [],
   "source": [
    "from PIL import Image\n",
    "import os"
   ]
  },
  {
   "cell_type": "markdown",
   "id": "9f444458",
   "metadata": {},
   "source": [
    "Auterando tamanho de imagens"
   ]
  },
  {
   "cell_type": "code",
   "execution_count": 9,
   "id": "2323dec7",
   "metadata": {},
   "outputs": [
    {
     "name": "stdout",
     "output_type": "stream",
     "text": [
      "Digite o caminho do diretório com as imagens: C:/PythonDSA/Cap02\n",
      "Digite a largura desejada: 750\n",
      "Digite a altura desejada: 1000\n"
     ]
    }
   ],
   "source": [
    "\n",
    "path = input(\"Digite o caminho do diretório com as imagens: \")\n",
    "width = int(input(\"Digite a largura desejada: \"))\n",
    "height = int(input(\"Digite a altura desejada: \"))\n",
    "\n",
    "for filename in os.listdir(path):\n",
    "    if filename.endswith(\".jpg\"):\n",
    "        image = Image.open(os.path.join(path, filename))\n",
    "        image = image.resize((width, height))\n",
    "        image.save(os.path.join(path, \"resized_\" + filename))\n"
   ]
  },
  {
   "cell_type": "code",
   "execution_count": null,
   "id": "7ecce9d2",
   "metadata": {},
   "outputs": [],
   "source": []
  }
 ],
 "metadata": {
  "kernelspec": {
   "display_name": "Python 3 (ipykernel)",
   "language": "python",
   "name": "python3"
  },
  "language_info": {
   "codemirror_mode": {
    "name": "ipython",
    "version": 3
   },
   "file_extension": ".py",
   "mimetype": "text/x-python",
   "name": "python",
   "nbconvert_exporter": "python",
   "pygments_lexer": "ipython3",
   "version": "3.9.13"
  }
 },
 "nbformat": 4,
 "nbformat_minor": 5
}

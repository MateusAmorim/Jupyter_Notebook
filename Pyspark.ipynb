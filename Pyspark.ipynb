{
  "nbformat": 4,
  "nbformat_minor": 0,
  "metadata": {
    "colab": {
      "provenance": [],
      "include_colab_link": true
    },
    "kernelspec": {
      "display_name": "Python 3",
      "name": "python3"
    },
    "accelerator": "GPU"
  },
  "cells": [
    {
      "cell_type": "markdown",
      "metadata": {
        "id": "view-in-github",
        "colab_type": "text"
      },
      "source": [
        "<a href=\"https://colab.research.google.com/github/MateusAmorim/Python/blob/master/Pyspark.ipynb\" target=\"_parent\"><img src=\"https://colab.research.google.com/assets/colab-badge.svg\" alt=\"Open In Colab\"/></a>"
      ]
    },
    {
      "cell_type": "code",
      "source": [
        "pip install pyspark"
      ],
      "metadata": {
        "colab": {
          "base_uri": "https://localhost:8080/",
          "height": 366
        },
        "id": "zu77ljIrHGvj",
        "outputId": "d77e2807-b9a9-4c80-b865-028032bf1bcd"
      },
      "execution_count": null,
      "outputs": [
        {
          "output_type": "stream",
          "name": "stdout",
          "text": [
            "Looking in indexes: https://pypi.org/simple, https://us-python.pkg.dev/colab-wheels/public/simple/\n",
            "Collecting pyspark\n",
            "  Downloading pyspark-3.3.0.tar.gz (281.3 MB)\n",
            "\u001b[K     |████████████████████████████████| 281.3 MB 50 kB/s \n",
            "\u001b[?25hCollecting py4j==0.10.9.5\n",
            "  Downloading py4j-0.10.9.5-py2.py3-none-any.whl (199 kB)\n",
            "\u001b[K     |████████████████████████████████| 199 kB 62.8 MB/s \n",
            "\u001b[?25hBuilding wheels for collected packages: pyspark\n",
            "  Building wheel for pyspark (setup.py) ... \u001b[?25l\u001b[?25hdone\n",
            "  Created wheel for pyspark: filename=pyspark-3.3.0-py2.py3-none-any.whl size=281764026 sha256=1fc6bcd4a56119c29542919489c3c60a1b7cffff94ba162ae945e7c9f969cdb7\n",
            "  Stored in directory: /root/.cache/pip/wheels/7a/8e/1b/f73a52650d2e5f337708d9f6a1750d451a7349a867f928b885\n",
            "Successfully built pyspark\n",
            "Installing collected packages: py4j, pyspark\n",
            "Successfully installed py4j-0.10.9.5 pyspark-3.3.0\n"
          ]
        },
        {
          "output_type": "display_data",
          "data": {
            "application/vnd.colab-display-data+json": {
              "pip_warning": {
                "packages": [
                  "py4j",
                  "pyspark"
                ]
              }
            }
          },
          "metadata": {}
        }
      ]
    },
    {
      "cell_type": "code",
      "source": [
        "# instalar as dependências\n",
        "!apt-get install openjdk-8-jdk-headless -qq > /dev/null\n",
        "!wget -q https://archive.apache.org/dist/spark/spark-2.4.4/spark-2.4.4-bin-hadoop2.7.tgz\n",
        "!tar xf spark-2.4.4-bin-hadoop2.7.tgz\n",
        "!pip install -q findspark"
      ],
      "metadata": {
        "colab": {
          "base_uri": "https://localhost:8080/"
        },
        "id": "JZi1udNCBhax",
        "outputId": "1234830d-5fdc-4ca7-d57f-efa5606357c1"
      },
      "execution_count": null,
      "outputs": [
        {
          "output_type": "stream",
          "name": "stdout",
          "text": [
            "E: Failed to fetch http://security.ubuntu.com/ubuntu/pool/universe/o/openjdk-8/openjdk-8-jre-headless_8u312-b07-0ubuntu1~18.04_amd64.deb  404  Not Found [IP: 91.189.91.39 80]\n",
            "E: Failed to fetch http://security.ubuntu.com/ubuntu/pool/universe/o/openjdk-8/openjdk-8-jdk-headless_8u312-b07-0ubuntu1~18.04_amd64.deb  404  Not Found [IP: 91.189.91.39 80]\n",
            "E: Unable to fetch some archives, maybe run apt-get update or try with --fix-missing?\n",
            "^C\n"
          ]
        }
      ]
    },
    {
      "cell_type": "code",
      "source": [
        "# Configurar as variáveis de ambiente\n",
        "import os\n",
        "os.environ[\"JAVA_HOME\"] = \"/usr/lib/jvm/java-8-openjdk-amd64\"\n",
        "os.environ[\"SPARK_HOME\"] = \"/content/spark-2.4.4-bin-hadoop2.7\"\n",
        "\n",
        "# Torna o pyspark \"importável\"\n",
        "import findspark\n",
        "findspark.init('spark-2.4.4-bin-hadoop2.7')"
      ],
      "metadata": {
        "id": "_GkL-Nd4COYm"
      },
      "execution_count": null,
      "outputs": []
    },
    {
      "cell_type": "code",
      "source": [
        "# iniciar uma sessão local \n",
        "from pyspark.sql import SparkSession\n",
        "#sc = SparkSession.builder.master('local[*]').getOrCreate()\n",
        "spark = SparkSession.builder.appName(\"Introducao\").getOrCreate()"
      ],
      "metadata": {
        "id": "gZohPEsECQ88"
      },
      "execution_count": null,
      "outputs": []
    },
    {
      "cell_type": "code",
      "source": [
        "# Verify SparkContext\n",
        "print(spark)\n",
        "\n",
        "# Print Spark version\n",
        "print(spark.version)"
      ],
      "metadata": {
        "colab": {
          "base_uri": "https://localhost:8080/"
        },
        "id": "Pv1VUNFnDNT9",
        "outputId": "ea7517bd-200d-43e7-8111-c05e2704a732"
      },
      "execution_count": null,
      "outputs": [
        {
          "output_type": "stream",
          "name": "stdout",
          "text": [
            "<pyspark.sql.session.SparkSession object at 0x7f555d040350>\n",
            "3.3.0\n"
          ]
        }
      ]
    },
    {
      "cell_type": "code",
      "source": [
        "# Print the tables in the catalog\n",
        "print(spark.catalog.listTables())"
      ],
      "metadata": {
        "colab": {
          "base_uri": "https://localhost:8080/"
        },
        "id": "Y20_1pzEKz1Z",
        "outputId": "59ed4a87-3a43-4743-c3a1-219e0d875d5a"
      },
      "execution_count": null,
      "outputs": [
        {
          "output_type": "stream",
          "name": "stdout",
          "text": [
            "[Table(name='flights', database=None, description=None, tableType='TEMPORARY', isTemporary=True)]\n"
          ]
        }
      ]
    },
    {
      "cell_type": "code",
      "source": [
        "from google.colab import files\n",
        "files.upload()"
      ],
      "metadata": {
        "colab": {
          "resources": {
            "http://localhost:8080/nbextensions/google.colab/files.js": {
              "data": "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",
              "ok": true,
              "headers": [
                [
                  "content-type",
                  "application/javascript"
                ]
              ],
              "status": 200,
              "status_text": ""
            }
          },
          "base_uri": "https://localhost:8080/",
          "height": 127
        },
        "id": "8jcNz0nrK4Be",
        "outputId": "a1edb938-a4ac-470d-d90f-595d5d33ccc6"
      },
      "execution_count": null,
      "outputs": [
        {
          "output_type": "display_data",
          "data": {
            "text/plain": [
              "<IPython.core.display.HTML object>"
            ],
            "text/html": [
              "\n",
              "     <input type=\"file\" id=\"files-f8f10223-cf0f-40f3-ba7d-df9dabb5d53c\" name=\"files[]\" multiple disabled\n",
              "        style=\"border:none\" />\n",
              "     <output id=\"result-f8f10223-cf0f-40f3-ba7d-df9dabb5d53c\">\n",
              "      Upload widget is only available when the cell has been executed in the\n",
              "      current browser session. Please rerun this cell to enable.\n",
              "      </output>\n",
              "      <script src=\"/nbextensions/google.colab/files.js\"></script> "
            ]
          },
          "metadata": {}
        },
        {
          "output_type": "stream",
          "name": "stdout",
          "text": [
            "Saving USD_BRL_hist.csv to USD_BRL_hist (1).csv\n"
          ]
        },
        {
          "output_type": "execute_result",
          "data": {
            "text/plain": [
              "{'USD_BRL_hist.csv': b'\"Data\",\"USD_BRL\"\\r\\n\"31.12.2019\",4.0195\\r\\n\"30.12.2019\",4.0195\\r\\n\"27.12.2019\",4.046\\r\\n\"26.12.2019\",4.056\\r\\n\"25.12.2019\",4.0838\\r\\n\"24.12.2019\",4.0838\\r\\n\"23.12.2019\",4.0835\\r\\n\"20.12.2019\",4.1025\\r\\n\"19.12.2019\",4.0697\\r\\n\"18.12.2019\",4.0634\\r\\n\"17.12.2019\",4.0719\\r\\n\"16.12.2019\",4.0632\\r\\n\"13.12.2019\",4.1082\\r\\n\"12.12.2019\",4.0908\\r\\n\"11.12.2019\",4.1242\\r\\n\"10.12.2019\",4.147\\r\\n\"09.12.2019\",4.1425\\r\\n\"06.12.2019\",4.1414\\r\\n\"05.12.2019\",4.186\\r\\n\"04.12.2019\",4.208\\r\\n\"03.12.2019\",4.2066\\r\\n\"02.12.2019\",4.2234\\r\\n\"29.11.2019\",4.2367\\r\\n\"28.11.2019\",4.1902\\r\\n\"27.11.2019\",4.2638\\r\\n\"26.11.2019\",4.2332\\r\\n\"25.11.2019\",4.2268\\r\\n\"22.11.2019\",4.1966\\r\\n\"21.11.2019\",4.1932\\r\\n\"20.11.2019\",4.1965\\r\\n\"19.11.2019\",4.1945\\r\\n\"18.11.2019\",4.218\\r\\n\"15.11.2019\",4.1962\\r\\n\"14.11.2019\",4.1951\\r\\n\"13.11.2019\",4.1704\\r\\n\"12.11.2019\",4.1677\\r\\n\"11.11.2019\",4.1518\\r\\n\"08.11.2019\",4.1635\\r\\n\"07.11.2019\",4.1007\\r\\n\"06.11.2019\",4.0836\\r\\n\"05.11.2019\",3.9937\\r\\n\"04.11.2019\",4.0156\\r\\n\"01.11.2019\",3.9903\\r\\n\"31.10.2019\",4.0184\\r\\n\"30.10.2019\",3.9909\\r\\n\"29.10.2019\",3.9986\\r\\n\"28.10.2019\",3.991\\r\\n\"25.10.2019\",4.0038\\r\\n\"24.10.2019\",4.0415\\r\\n\"23.10.2019\",4.0346\\r\\n\"22.10.2019\",4.0819\\r\\n\"21.10.2019\",4.1293\\r\\n\"18.10.2019\",4.1117\\r\\n\"17.10.2019\",4.1643\\r\\n\"16.10.2019\",4.1518\\r\\n\"15.10.2019\",4.1807\\r\\n\"14.10.2019\",4.1265\\r\\n\"11.10.2019\",4.1097\\r\\n\"10.10.2019\",4.1095\\r\\n\"09.10.2019\",4.1104\\r\\n\"08.10.2019\",4.0954\\r\\n\"07.10.2019\",4.1071\\r\\n\"04.10.2019\",4.0556\\r\\n\"03.10.2019\",4.0841\\r\\n\"02.10.2019\",4.1293\\r\\n\"01.10.2019\",4.159\\r\\n\"30.09.2019\",4.1556\\r\\n\"27.09.2019\",4.1602\\r\\n\"26.09.2019\",4.1711\\r\\n\"25.09.2019\",4.149\\r\\n\"24.09.2019\",4.165\\r\\n\"23.09.2019\",4.1638\\r\\n\"20.09.2019\",4.148\\r\\n\"19.09.2019\",4.1678\\r\\n\"18.09.2019\",4.1112\\r\\n\"17.09.2019\",4.0777\\r\\n\"16.09.2019\",4.081\\r\\n\"13.09.2019\",4.0849\\r\\n\"12.09.2019\",4.0608\\r\\n\"11.09.2019\",4.068\\r\\n\"10.09.2019\",4.0808\\r\\n\"09.09.2019\",4.0953\\r\\n\"06.09.2019\",4.0618\\r\\n\"05.09.2019\",4.1094\\r\\n\"04.09.2019\",4.095\\r\\n\"03.09.2019\",4.1681\\r\\n\"02.09.2019\",4.1871\\r\\n\"30.08.2019\",4.1453\\r\\n\"29.08.2019\",4.1688\\r\\n\"28.08.2019\",4.1682\\r\\n\"27.08.2019\",4.1311\\r\\n\"26.08.2019\",4.1571\\r\\n\"23.08.2019\",4.1198\\r\\n\"22.08.2019\",4.0706\\r\\n\"21.08.2019\",4.0269\\r\\n\"20.08.2019\",4.0542\\r\\n\"19.08.2019\",4.0743\\r\\n\"16.08.2019\",4.0058\\r\\n\"15.08.2019\",3.991\\r\\n\"14.08.2019\",4.0526\\r\\n\"13.08.2019\",3.966\\r\\n\"12.08.2019\",3.9855\\r\\n\"09.08.2019\",3.9416\\r\\n\"08.08.2019\",3.9199\\r\\n\"07.08.2019\",3.9691\\r\\n\"06.08.2019\",3.9612\\r\\n\"05.08.2019\",3.9783\\r\\n\"02.08.2019\",3.8893\\r\\n\"01.08.2019\",3.8403\\r\\n\"31.07.2019\",3.8129\\r\\n\"30.07.2019\",3.7906\\r\\n\"29.07.2019\",3.7816\\r\\n\"26.07.2019\",3.7761\\r\\n\"25.07.2019\",3.779\\r\\n\"24.07.2019\",3.7736\\r\\n\"23.07.2019\",3.7737\\r\\n\"22.07.2019\",3.7407\\r\\n\"19.07.2019\",3.7494\\r\\n\"18.07.2019\",3.7193\\r\\n\"17.07.2019\",3.7641\\r\\n\"16.07.2019\",3.7687\\r\\n\"15.07.2019\",3.7567\\r\\n\"12.07.2019\",3.7373\\r\\n\"11.07.2019\",3.7551\\r\\n\"10.07.2019\",3.7546\\r\\n\"09.07.2019\",3.8005\\r\\n\"08.07.2019\",3.8073\\r\\n\"05.07.2019\",3.8221\\r\\n\"04.07.2019\",3.8011\\r\\n\"03.07.2019\",3.8272\\r\\n\"02.07.2019\",3.8456\\r\\n\"01.07.2019\",3.8405\\r\\n\"28.06.2019\",3.852\\r\\n\"27.06.2019\",3.8196\\r\\n\"26.06.2019\",3.8445\\r\\n\"25.06.2019\",3.848\\r\\n\"24.06.2019\",3.8254\\r\\n\"21.06.2019\",3.8192\\r\\n\"20.06.2019\",3.839\\r\\n\"19.06.2019\",3.839\\r\\n\"18.06.2019\",3.8603\\r\\n\"17.06.2019\",3.8883\\r\\n\"14.06.2019\",3.8958\\r\\n\"13.06.2019\",3.8487\\r\\n\"12.06.2019\",3.8672\\r\\n\"11.06.2019\",3.8571\\r\\n\"10.06.2019\",3.8887\\r\\n\"07.06.2019\",3.8789\\r\\n\"06.06.2019\",3.8798\\r\\n\"05.06.2019\",3.8811\\r\\n\"04.06.2019\",3.8548\\r\\n\"03.06.2019\",3.8859\\r\\n\"31.05.2019\",3.9228\\r\\n\"30.05.2019\",3.9818\\r\\n\"29.05.2019\",3.9747\\r\\n\"28.05.2019\",4.0247\\r\\n\"27.05.2019\",4.0423\\r\\n\"24.05.2019\",4.0225\\r\\n\"23.05.2019\",4.0401\\r\\n\"22.05.2019\",4.0403\\r\\n\"21.05.2019\",4.039\\r\\n\"20.05.2019\",4.0968\\r\\n\"17.05.2019\",4.0999\\r\\n\"16.05.2019\",4.0469\\r\\n\"15.05.2019\",4.0017\\r\\n\"14.05.2019\",3.9751\\r\\n\"13.05.2019\",3.9939\\r\\n\"10.05.2019\",3.9572\\r\\n\"09.05.2019\",3.9466\\r\\n\"08.05.2019\",3.9285\\r\\n\"07.05.2019\",3.971\\r\\n\"06.05.2019\",3.9695\\r\\n\"03.05.2019\",3.9382\\r\\n\"02.05.2019\",3.9661\\r\\n\"01.05.2019\",3.9202\\r\\n\"30.04.2019\",3.9215\\r\\n\"29.04.2019\",3.9456\\r\\n\"26.04.2019\",3.9293\\r\\n\"25.04.2019\",3.9542\\r\\n\"24.04.2019\",3.9927\\r\\n\"23.04.2019\",3.9211\\r\\n\"22.04.2019\",3.9365\\r\\n\"19.04.2019\",3.9275\\r\\n\"18.04.2019\",3.9274\\r\\n\"17.04.2019\",3.9382\\r\\n\"16.04.2019\",3.904\\r\\n\"15.04.2019\",3.8723\\r\\n\"12.04.2019\",3.8819\\r\\n\"11.04.2019\",3.8582\\r\\n\"10.04.2019\",3.8251\\r\\n\"09.04.2019\",3.851\\r\\n\"08.04.2019\",3.8495\\r\\n\"05.04.2019\",3.8735\\r\\n\"04.04.2019\",3.859\\r\\n\"03.04.2019\",3.87\\r\\n\"02.04.2019\",3.8537\\r\\n\"01.04.2019\",3.8518\\r\\n\"29.03.2019\",3.9247\\r\\n\"28.03.2019\",3.901\\r\\n\"27.03.2019\",3.9935\\r\\n\"26.03.2019\",3.8773\\r\\n\"25.03.2019\",3.8544\\r\\n\"22.03.2019\",3.9071\\r\\n\"21.03.2019\",3.793\\r\\n\"20.03.2019\",3.7763\\r\\n\"19.03.2019\",3.7891\\r\\n\"18.03.2019\",3.7915\\r\\n\"15.03.2019\",3.8144\\r\\n\"14.03.2019\",3.8443\\r\\n\"13.03.2019\",3.8147\\r\\n\"12.03.2019\",3.8114\\r\\n\"11.03.2019\",3.8403\\r\\n\"08.03.2019\",3.8668\\r\\n\"07.03.2019\",3.8704\\r\\n\"06.03.2019\",3.8401\\r\\n\"05.03.2019\",3.7755\\r\\n\"04.03.2019\",3.7755\\r\\n\"01.03.2019\",3.7752\\r\\n\"28.02.2019\",3.7514\\r\\n\"27.02.2019\",3.7287\\r\\n\"26.02.2019\",3.7489\\r\\n\"25.02.2019\",3.7521\\r\\n\"22.02.2019\",3.7485\\r\\n\"21.02.2019\",3.7696\\r\\n\"20.02.2019\",3.7277\\r\\n\"19.02.2019\",3.7231\\r\\n\"18.02.2019\",3.7353\\r\\n\"15.02.2019\",3.7008\\r\\n\"14.02.2019\",3.7233\\r\\n\"13.02.2019\",3.7544\\r\\n\"12.02.2019\",3.7098\\r\\n\"11.02.2019\",3.7577\\r\\n\"08.02.2019\",3.7292\\r\\n\"07.02.2019\",3.7167\\r\\n\"06.02.2019\",3.6983\\r\\n\"05.02.2019\",3.6698\\r\\n\"04.02.2019\",3.6687\\r\\n\"01.02.2019\",3.6597\\r\\n\"31.01.2019\",3.644\\r\\n\"30.01.2019\",3.685\\r\\n\"29.01.2019\",3.7202\\r\\n\"28.01.2019\",3.7619\\r\\n\"25.01.2019\",3.7708\\r\\n\"24.01.2019\",3.7733\\r\\n\"23.01.2019\",3.7663\\r\\n\"22.01.2019\",3.8152\\r\\n\"21.01.2019\",3.755\\r\\n\"18.01.2019\",3.7517\\r\\n\"17.01.2019\",3.7504\\r\\n\"16.01.2019\",3.7366\\r\\n\"15.01.2019\",3.7172\\r\\n\"14.01.2019\",3.6991\\r\\n\"11.01.2019\",3.7113\\r\\n\"10.01.2019\",3.7105\\r\\n\"09.01.2019\",3.6807\\r\\n\"08.01.2019\",3.7133\\r\\n\"07.01.2019\",3.7356\\r\\n\"04.01.2019\",3.7155\\r\\n\"03.01.2019\",3.7565\\r\\n\"02.01.2019\",3.79\\r\\n\"01.01.2019\",3.8813\\r\\n\"31.12.2018\",3.8813\\r\\n\"28.12.2018\",3.8813\\r\\n\"27.12.2018\",3.8735\\r\\n\"26.12.2018\",3.922\\r\\n\"25.12.2018\",3.904\\r\\n\"24.12.2018\",3.904\\r\\n\"21.12.2018\",3.904\\r\\n\"20.12.2018\",3.8422\\r\\n\"19.12.2018\",3.8977\\r\\n\"18.12.2018\",3.9124\\r\\n\"17.12.2018\",3.8995\\r\\n\"14.12.2018\",3.9171\\r\\n\"13.12.2018\",3.8911\\r\\n\"12.12.2018\",3.8555\\r\\n\"11.12.2018\",3.904\\r\\n\"10.12.2018\",3.9181\\r\\n\"07.12.2018\",3.9075\\r\\n\"06.12.2018\",3.8793\\r\\n\"05.12.2018\",3.8686\\r\\n\"04.12.2018\",3.8525\\r\\n\"03.12.2018\",3.8423\\r\\n\"30.11.2018\",3.8669\\r\\n\"29.11.2018\",3.8527\\r\\n\"28.11.2018\",3.851\\r\\n\"27.11.2018\",3.8752\\r\\n\"26.11.2018\",3.941\\r\\n\"23.11.2018\",3.8283\\r\\n\"22.11.2018\",3.8045\\r\\n\"21.11.2018\",3.7976\\r\\n\"20.11.2018\",3.7572\\r\\n\"19.11.2018\",3.757\\r\\n\"16.11.2018\",3.7435\\r\\n\"15.11.2018\",3.7843\\r\\n\"14.11.2018\",3.7841\\r\\n\"13.11.2018\",3.8032\\r\\n\"12.11.2018\",3.7675\\r\\n\"09.11.2018\",3.7335\\r\\n\"08.11.2018\",3.7605\\r\\n\"07.11.2018\",3.7318\\r\\n\"06.11.2018\",3.7615\\r\\n\"05.11.2018\",3.7262\\r\\n\"02.11.2018\",3.6968\\r\\n\"01.11.2018\",3.7012\\r\\n\"31.10.2018\",3.722\\r\\n\"30.10.2018\",3.6974\\r\\n\"29.10.2018\",3.7187\\r\\n\"26.10.2018\",3.6429\\r\\n\"25.10.2018\",3.7058\\r\\n\"24.10.2018\",3.735\\r\\n\"23.10.2018\",3.6942\\r\\n\"22.10.2018\",3.686\\r\\n\"19.10.2018\",3.7149\\r\\n\"18.10.2018\",3.7216\\r\\n\"17.10.2018\",3.6875\\r\\n\"16.10.2018\",3.7252\\r\\n\"15.10.2018\",3.7357\\r\\n\"12.10.2018\",3.783\\r\\n\"11.10.2018\",3.7812\\r\\n\"10.10.2018\",3.7555\\r\\n\"09.10.2018\",3.7155\\r\\n\"08.10.2018\",3.779\\r\\n\"05.10.2018\",3.8413\\r\\n\"04.10.2018\",3.8745\\r\\n\"03.10.2018\",3.9015\\r\\n\"02.10.2018\",3.9414\\r\\n\"01.10.2018\",4.0181\\r\\n\"28.09.2018\",4.0491\\r\\n\"27.09.2018\",4.0123\\r\\n\"26.09.2018\",4.0322\\r\\n\"25.09.2018\",4.0757\\r\\n\"24.09.2018\",4.0928\\r\\n\"21.09.2018\",4.0516\\r\\n\"20.09.2018\",4.0771\\r\\n\"19.09.2018\",4.1315\\r\\n\"18.09.2018\",4.1604\\r\\n\"17.09.2018\",4.1324\\r\\n\"14.09.2018\",4.1742\\r\\n\"13.09.2018\",4.2077\\r\\n\"12.09.2018\",4.1579\\r\\n\"11.09.2018\",4.1535\\r\\n\"10.09.2018\",4.0867\\r\\n\"07.09.2018\",4.0597\\r\\n\"06.09.2018\",4.059\\r\\n\"05.09.2018\",4.1466\\r\\n\"04.09.2018\",4.1602\\r\\n\"03.09.2018\",4.159\\r\\n\"31.08.2018\",4.0556\\r\\n\"30.08.2018\",4.1495\\r\\n\"29.08.2018\",4.1074\\r\\n\"28.08.2018\",4.1342\\r\\n\"27.08.2018\",4.0775\\r\\n\"24.08.2018\",4.102\\r\\n\"23.08.2018\",4.1155\\r\\n\"22.08.2018\",4.0425\\r\\n\"21.08.2018\",4.0477\\r\\n\"20.08.2018\",3.97\\r\\n\"17.08.2018\",3.9116\\r\\n\"16.08.2018\",3.9072\\r\\n\"15.08.2018\",3.9055\\r\\n\"14.08.2018\",3.8673\\r\\n\"13.08.2018\",3.884\\r\\n\"10.08.2018\",3.8596\\r\\n\"09.08.2018\",3.8015\\r\\n\"08.08.2018\",3.7721\\r\\n\"07.08.2018\",3.7515\\r\\n\"06.08.2018\",3.7363\\r\\n\"03.08.2018\",3.708\\r\\n\"02.08.2018\",3.7503\\r\\n\"01.08.2018\",3.7499\\r\\n\"31.07.2018\",3.7563\\r\\n\"30.07.2018\",3.7307\\r\\n\"27.07.2018\",3.7114\\r\\n\"26.07.2018\",3.7462\\r\\n\"25.07.2018\",3.6886\\r\\n\"24.07.2018\",3.7481\\r\\n\"23.07.2018\",3.7826\\r\\n\"20.07.2018\",3.7681\\r\\n\"19.07.2018\",3.8295\\r\\n\"18.07.2018\",3.8512\\r\\n\"17.07.2018\",3.8388\\r\\n\"16.07.2018\",3.8605\\r\\n\"13.07.2018\",3.8518\\r\\n\"12.07.2018\",3.8822\\r\\n\"11.07.2018\",3.8773\\r\\n\"10.07.2018\",3.8152\\r\\n\"09.07.2018\",3.8727\\r\\n\"06.07.2018\",3.8628\\r\\n\"05.07.2018\",3.9327\\r\\n\"04.07.2018\",3.9137\\r\\n\"03.07.2018\",3.8975\\r\\n\"02.07.2018\",3.9129\\r\\n\"29.06.2018\",3.8771\\r\\n\"28.06.2018\",3.8624\\r\\n\"27.06.2018\",3.8628\\r\\n\"26.06.2018\",3.8016\\r\\n\"25.06.2018\",3.7767\\r\\n\"22.06.2018\",3.786\\r\\n\"21.06.2018\",3.7691\\r\\n\"20.06.2018\",3.7715\\r\\n\"19.06.2018\",3.7471\\r\\n\"18.06.2018\",3.747\\r\\n\"15.06.2018\",3.7296\\r\\n\"14.06.2018\",3.806\\r\\n\"13.06.2018\",3.7201\\r\\n\"12.06.2018\",3.7185\\r\\n\"11.06.2018\",3.7097\\r\\n\"08.06.2018\",3.7094\\r\\n\"07.06.2018\",3.9078\\r\\n\"06.06.2018\",3.8488\\r\\n\"05.06.2018\",3.8068\\r\\n\"04.06.2018\",3.7468\\r\\n\"01.06.2018\",3.7633\\r\\n\"31.05.2018\",3.7235\\r\\n\"30.05.2018\",3.7241\\r\\n\"29.05.2018\",3.7254\\r\\n\"28.05.2018\",3.7352\\r\\n\"25.05.2018\",3.6524\\r\\n\"24.05.2018\",3.6496\\r\\n\"23.05.2018\",3.6288\\r\\n\"22.05.2018\",3.6448\\r\\n\"21.05.2018\",3.6772\\r\\n\"18.05.2018\",3.737\\r\\n\"17.05.2018\",3.6966\\r\\n\"16.05.2018\",3.6761\\r\\n\"15.05.2018\",3.654\\r\\n\"14.05.2018\",3.6231\\r\\n\"11.05.2018\",3.5999\\r\\n\"10.05.2018\",3.5502\\r\\n\"09.05.2018\",3.5924\\r\\n\"08.05.2018\",3.5636\\r\\n\"07.05.2018\",3.5534\\r\\n\"04.05.2018\",3.5303\\r\\n\"03.05.2018\",3.5282\\r\\n\"02.05.2018\",3.5518\\r\\n\"01.05.2018\",3.5076\\r\\n\"30.04.2018\",3.5072\\r\\n\"27.04.2018\",3.4568\\r\\n\"26.04.2018\",3.4755\\r\\n\"25.04.2018\",3.485\\r\\n\"24.04.2018\",3.4714\\r\\n\"23.04.2018\",3.4527\\r\\n\"20.04.2018\",3.413\\r\\n\"19.04.2018\",3.3885\\r\\n\"18.04.2018\",3.3805\\r\\n\"17.04.2018\",3.408\\r\\n\"16.04.2018\",3.4194\\r\\n\"13.04.2018\",3.4223\\r\\n\"12.04.2018\",3.4133\\r\\n\"11.04.2018\",3.3746\\r\\n\"10.04.2018\",3.4088\\r\\n\"09.04.2018\",3.42\\r\\n\"06.04.2018\",3.3697\\r\\n\"05.04.2018\",3.3449\\r\\n\"04.04.2018\",3.3297\\r\\n\"03.04.2018\",3.3413\\r\\n\"02.04.2018\",3.3112\\r\\n\"30.03.2018\",3.3051\\r\\n\"29.03.2018\",3.306\\r\\n\"28.03.2018\",3.3205\\r\\n\"27.03.2018\",3.3288\\r\\n\"26.03.2018\",3.3119\\r\\n\"23.03.2018\",3.3123\\r\\n\"22.03.2018\",3.3159\\r\\n\"21.03.2018\",3.2725\\r\\n\"20.03.2018\",3.3117\\r\\n\"19.03.2018\",3.2862\\r\\n\"16.03.2018\",3.2811\\r\\n\"15.03.2018\",3.2862\\r\\n\"14.03.2018\",3.2607\\r\\n\"13.03.2018\",3.2607\\r\\n\"12.03.2018\",3.2622\\r\\n\"09.03.2018\",3.2553\\r\\n\"08.03.2018\",3.2669\\r\\n\"07.03.2018\",3.2454\\r\\n\"06.03.2018\",3.2117\\r\\n\"05.03.2018\",3.243\\r\\n\"02.03.2018\",3.2528\\r\\n\"01.03.2018\",3.2515\\r\\n\"28.02.2018\",3.2462\\r\\n\"27.02.2018\",3.2516\\r\\n\"26.02.2018\",3.2258\\r\\n\"23.02.2018\",3.2379\\r\\n\"22.02.2018\",3.2502\\r\\n\"21.02.2018\",3.2692\\r\\n\"20.02.2018\",3.2557\\r\\n\"19.02.2018\",3.2346\\r\\n\"16.02.2018\",3.2312\\r\\n\"15.02.2018\",3.2279\\r\\n\"14.02.2018\",3.2174\\r\\n\"13.02.2018\",3.2957\\r\\n\"12.02.2018\",3.2954\\r\\n\"09.02.2018\",3.2942\\r\\n\"08.02.2018\",3.2858\\r\\n\"07.02.2018\",3.2714\\r\\n\"06.02.2018\",3.2348\\r\\n\"05.02.2018\",3.2625\\r\\n\"02.02.2018\",3.2181\\r\\n\"01.02.2018\",3.1669\\r\\n\"31.01.2018\",3.1859\\r\\n\"30.01.2018\",3.1812\\r\\n\"29.01.2018\",3.155\\r\\n\"26.01.2018\",3.151\\r\\n\"25.01.2018\",3.1485\\r\\n\"24.01.2018\",3.1465\\r\\n\"23.01.2018\",3.237\\r\\n\"22.01.2018\",3.2021\\r\\n\"19.01.2018\",3.1962\\r\\n\"18.01.2018\",3.2065\\r\\n\"17.01.2018\",3.2238\\r\\n\"16.01.2018\",3.2243\\r\\n\"15.01.2018\",3.2163\\r\\n\"12.01.2018\",3.2064\\r\\n\"11.01.2018\",3.2155\\r\\n\"10.01.2018\",3.2283\\r\\n\"09.01.2018\",3.2483\\r\\n\"08.01.2018\",3.2407\\r\\n\"05.01.2018\",3.2292\\r\\n\"04.01.2018\",3.2346\\r\\n\"03.01.2018\",3.237\\r\\n\"02.01.2018\",3.2591\\r\\n\"01.01.2018\",3.3125\\r\\n\"29.12.2017\",3.3125\\r\\n\"28.12.2017\",3.3125\\r\\n\"27.12.2017\",3.315\\r\\n\"26.12.2017\",3.3111\\r\\n\"25.12.2017\",3.337\\r\\n\"22.12.2017\",3.337\\r\\n\"21.12.2017\",3.3084\\r\\n\"20.12.2017\",3.2979\\r\\n\"19.12.2017\",3.29\\r\\n\"18.12.2017\",3.2923\\r\\n\"15.12.2017\",3.2947\\r\\n\"14.12.2017\",3.3419\\r\\n\"13.12.2017\",3.31\\r\\n\"12.12.2017\",3.3065\\r\\n\"11.12.2017\",3.3048\\r\\n\"08.12.2017\",3.2919\\r\\n\"07.12.2017\",3.2907\\r\\n\"06.12.2017\",3.2357\\r\\n\"05.12.2017\",3.2418\\r\\n\"04.12.2017\",3.2442\\r\\n\"01.12.2017\",3.2581\\r\\n\"30.11.2017\",3.2727\\r\\n\"29.11.2017\",3.2461\\r\\n\"28.11.2017\",3.2131\\r\\n\"27.11.2017\",3.2278\\r\\n\"24.11.2017\",3.233\\r\\n\"23.11.2017\",3.2219\\r\\n\"22.11.2017\",3.2243\\r\\n\"21.11.2017\",3.2588\\r\\n\"20.11.2017\",3.2574\\r\\n\"17.11.2017\",3.2574\\r\\n\"16.11.2017\",3.274\\r\\n\"15.11.2017\",3.3133\\r\\n\"14.11.2017\",3.3131\\r\\n\"13.11.2017\",3.2794\\r\\n\"10.11.2017\",3.2779\\r\\n\"09.11.2017\",3.2521\\r\\n\"08.11.2017\",3.2548\\r\\n\"07.11.2017\",3.2714\\r\\n\"06.11.2017\",3.2495\\r\\n\"03.11.2017\",3.3144\\r\\n\"02.11.2017\",3.268\\r\\n\"01.11.2017\",3.2677\\r\\n\"31.10.2017\",3.2727\\r\\n\"30.10.2017\",3.2891\\r\\n\"27.10.2017\",3.2363\\r\\n\"26.10.2017\",3.2906\\r\\n\"25.10.2017\",3.2332\\r\\n\"24.10.2017\",3.2435\\r\\n\"23.10.2017\",3.2378\\r\\n\"20.10.2017\",3.1926\\r\\n\"19.10.2017\",3.1671\\r\\n\"18.10.2017\",3.1711\\r\\n\"17.10.2017\",3.158\\r\\n\"16.10.2017\",3.1712\\r\\n\"13.10.2017\",3.1452\\r\\n\"12.10.2017\",3.1705\\r\\n\"11.10.2017\",3.1724\\r\\n\"10.10.2017\",3.1795\\r\\n\"09.10.2017\",3.1888\\r\\n\"06.10.2017\",3.1561\\r\\n\"05.10.2017\",3.1545\\r\\n\"04.10.2017\",3.1351\\r\\n\"03.10.2017\",3.1427\\r\\n\"02.10.2017\",3.1545\\r\\n\"29.09.2017\",3.1619\\r\\n\"28.09.2017\",3.1825\\r\\n\"27.09.2017\",3.1932\\r\\n\"26.09.2017\",3.1666\\r\\n\"25.09.2017\",3.1599\\r\\n\"22.09.2017\",3.125\\r\\n\"21.09.2017\",3.1377\\r\\n\"20.09.2017\",3.1325\\r\\n\"19.09.2017\",3.1351\\r\\n\"18.09.2017\",3.1368\\r\\n\"15.09.2017\",3.1085\\r\\n\"14.09.2017\",3.119\\r\\n\"13.09.2017\",3.1353\\r\\n\"12.09.2017\",3.1252\\r\\n\"11.09.2017\",3.1029\\r\\n\"08.09.2017\",3.0867\\r\\n\"07.09.2017\",3.0993\\r\\n\"06.09.2017\",3.1004\\r\\n\"05.09.2017\",3.1174\\r\\n\"04.09.2017\",3.1417\\r\\n\"01.09.2017\",3.1416\\r\\n\"31.08.2017\",3.1479\\r\\n\"30.08.2017\",3.1603\\r\\n\"29.08.2017\",3.1652\\r\\n\"28.08.2017\",3.167\\r\\n\"25.08.2017\",3.1603\\r\\n\"24.08.2017\",3.1481\\r\\n\"23.08.2017\",3.1414\\r\\n\"22.08.2017\",3.1611\\r\\n\"21.08.2017\",3.1645\\r\\n\"18.08.2017\",3.1465\\r\\n\"17.08.2017\",3.1751\\r\\n\"16.08.2017\",3.1524\\r\\n\"15.08.2017\",3.1695\\r\\n\"14.08.2017\",3.189\\r\\n\"11.08.2017\",3.1938\\r\\n\"10.08.2017\",3.1757\\r\\n\"09.08.2017\",3.1559\\r\\n\"08.08.2017\",3.1269\\r\\n\"07.08.2017\",3.1265\\r\\n\"04.08.2017\",3.1313\\r\\n\"03.08.2017\",3.1126\\r\\n\"02.08.2017\",3.1137\\r\\n\"01.08.2017\",3.1265\\r\\n\"31.07.2017\",3.1264\\r\\n\"28.07.2017\",3.1319\\r\\n\"27.07.2017\",3.153\\r\\n\"26.07.2017\",3.1387\\r\\n\"25.07.2017\",3.1726\\r\\n\"24.07.2017\",3.147\\r\\n\"21.07.2017\",3.1418\\r\\n\"20.07.2017\",3.1208\\r\\n\"19.07.2017\",3.149\\r\\n\"18.07.2017\",3.1545\\r\\n\"17.07.2017\",3.1833\\r\\n\"14.07.2017\",3.1799\\r\\n\"13.07.2017\",3.2138\\r\\n\"12.07.2017\",3.2079\\r\\n\"11.07.2017\",3.2548\\r\\n\"10.07.2017\",3.2557\\r\\n\"07.07.2017\",3.2813\\r\\n\"06.07.2017\",3.2962\\r\\n\"05.07.2017\",3.2889\\r\\n\"04.07.2017\",3.3093\\r\\n\"03.07.2017\",3.3015\\r\\n\"30.06.2017\",3.3072\\r\\n\"29.06.2017\",3.3043\\r\\n\"28.06.2017\",3.2805\\r\\n\"27.06.2017\",3.3135\\r\\n\"26.06.2017\",3.2963\\r\\n\"23.06.2017\",3.343\\r\\n\"22.06.2017\",3.3425\\r\\n\"21.06.2017\",3.3363\\r\\n\"20.06.2017\",3.327\\r\\n\"19.06.2017\",3.2828\\r\\n\"16.06.2017\",3.2933\\r\\n\"15.06.2017\",3.275\\r\\n\"14.06.2017\",3.2742\\r\\n\"13.06.2017\",3.3154\\r\\n\"12.06.2017\",3.3181\\r\\n\"09.06.2017\",3.2971\\r\\n\"08.06.2017\",3.2617\\r\\n\"07.06.2017\",3.2695\\r\\n\"06.06.2017\",3.2778\\r\\n\"05.06.2017\",3.2969\\r\\n\"02.06.2017\",3.2483\\r\\n\"01.06.2017\",3.2506\\r\\n\"31.05.2017\",3.2266\\r\\n\"30.05.2017\",3.2577\\r\\n\"29.05.2017\",3.2567\\r\\n\"26.05.2017\",3.2601\\r\\n\"25.05.2017\",3.2736\\r\\n\"24.05.2017\",3.2784\\r\\n\"23.05.2017\",3.2705\\r\\n\"22.05.2017\",3.2656\\r\\n\"19.05.2017\",3.2529\\r\\n\"18.05.2017\",3.371\\r\\n\"17.05.2017\",3.138\\r\\n\"16.05.2017\",3.0964\\r\\n\"15.05.2017\",3.1113\\r\\n\"12.05.2017\",3.1218\\r\\n\"11.05.2017\",3.1403\\r\\n\"10.05.2017\",3.1678\\r\\n\"09.05.2017\",3.1902\\r\\n\"08.05.2017\",3.198\\r\\n\"05.05.2017\",3.1774\\r\\n\"04.05.2017\",3.1885\\r\\n\"03.05.2017\",3.1652\\r\\n\"02.05.2017\",3.1517\\r\\n\"01.05.2017\",3.1765\\r\\n\"28.04.2017\",3.1766\\r\\n\"27.04.2017\",3.1835\\r\\n\"26.04.2017\",3.1723\\r\\n\"25.04.2017\",3.1471\\r\\n\"24.04.2017\",3.128\\r\\n\"21.04.2017\",3.1482\\r\\n\"20.04.2017\",3.1486\\r\\n\"19.04.2017\",3.1522\\r\\n\"18.04.2017\",3.108\\r\\n\"17.04.2017\",3.0985\\r\\n\"14.04.2017\",3.1448\\r\\n\"13.04.2017\",3.1444\\r\\n\"12.04.2017\",3.1258\\r\\n\"11.04.2017\",3.1372\\r\\n\"10.04.2017\",3.132\\r\\n\"07.04.2017\",3.1462\\r\\n\"06.04.2017\",3.1427\\r\\n\"05.04.2017\",3.1203\\r\\n\"04.04.2017\",3.0939\\r\\n\"03.04.2017\",3.1147\\r\\n\"31.03.2017\",3.1233\\r\\n\"30.03.2017\",3.1496\\r\\n\"29.03.2017\",3.1199\\r\\n\"28.03.2017\",3.1412\\r\\n\"27.03.2017\",3.1265\\r\\n\"24.03.2017\",3.1086\\r\\n\"23.03.2017\",3.1395\\r\\n\"22.03.2017\",3.088\\r\\n\"21.03.2017\",3.0884\\r\\n\"20.03.2017\",3.0726\\r\\n\"17.03.2017\",3.0918\\r\\n\"16.03.2017\",3.1185\\r\\n\"15.03.2017\",3.1037\\r\\n\"14.03.2017\",3.1685\\r\\n\"13.03.2017\",3.153\\r\\n\"10.03.2017\",3.1395\\r\\n\"09.03.2017\",3.1932\\r\\n\"08.03.2017\",3.1631\\r\\n\"07.03.2017\",3.1195\\r\\n\"06.03.2017\",3.1386\\r\\n\"03.03.2017\",3.1158\\r\\n\"02.03.2017\",3.1565\\r\\n\"01.03.2017\",3.09\\r\\n\"28.02.2017\",3.1091\\r\\n\"27.02.2017\",3.109\\r\\n\"24.02.2017\",3.111\\r\\n\"23.02.2017\",3.0595\\r\\n\"22.02.2017\",3.064\\r\\n\"21.02.2017\",3.0951\\r\\n\"20.02.2017\",3.087\\r\\n\"17.02.2017\",3.1048\\r\\n\"16.02.2017\",3.0892\\r\\n\"15.02.2017\",3.0575\\r\\n\"14.02.2017\",3.085\\r\\n\"13.02.2017\",3.1115\\r\\n\"10.02.2017\",3.1157\\r\\n\"09.02.2017\",3.1301\\r\\n\"08.02.2017\",3.1175\\r\\n\"07.02.2017\",3.1205\\r\\n\"06.02.2017\",3.116\\r\\n\"03.02.2017\",3.1176\\r\\n\"02.02.2017\",3.124\\r\\n\"01.02.2017\",3.1295\\r\\n\"31.01.2017\",3.1509\\r\\n\"30.01.2017\",3.127\\r\\n\"27.01.2017\",3.141\\r\\n\"26.01.2017\",3.178\\r\\n\"25.01.2017\",3.1702\\r\\n\"24.01.2017\",3.1702\\r\\n\"23.01.2017\",3.1633\\r\\n\"20.01.2017\",3.169\\r\\n\"19.01.2017\",3.1965\\r\\n\"18.01.2017\",3.2309\\r\\n\"17.01.2017\",3.2115\\r\\n\"16.01.2017\",3.2418\\r\\n\"13.01.2017\",3.2213\\r\\n\"12.01.2017\",3.1881\\r\\n\"11.01.2017\",3.1975\\r\\n\"10.01.2017\",3.1961\\r\\n\"09.01.2017\",3.1969\\r\\n\"06.01.2017\",3.2241\\r\\n\"05.01.2017\",3.1991\\r\\n\"04.01.2017\",3.2163\\r\\n\"03.01.2017\",3.2652\\r\\n\"02.01.2017\",3.2857\\r\\n\"30.12.2016\",3.2547\\r\\n\"29.12.2016\",3.2547\\r\\n\"28.12.2016\",3.2845\\r\\n\"27.12.2016\",3.2712\\r\\n\"26.12.2016\",3.277\\r\\n\"23.12.2016\",3.271\\r\\n\"22.12.2016\",3.2875\\r\\n\"21.12.2016\",3.327\\r\\n\"20.12.2016\",3.3546\\r\\n\"19.12.2016\",3.365\\r\\n\"16.12.2016\",3.392\\r\\n\"15.12.2016\",3.3695\\r\\n\"14.12.2016\",3.3705\\r\\n\"13.12.2016\",3.3355\\r\\n\"12.12.2016\",3.3388\\r\\n\"09.12.2016\",3.3785\\r\\n\"08.12.2016\",3.3755\\r\\n\"07.12.2016\",3.383\\r\\n\"06.12.2016\",3.408\\r\\n\"05.12.2016\",3.4215\\r\\n\"02.12.2016\",3.4755\\r\\n\"01.12.2016\",3.4718\\r\\n\"30.11.2016\",3.3842\\r\\n\"29.11.2016\",3.399\\r\\n\"28.11.2016\",3.3859\\r\\n\"25.11.2016\",3.4223\\r\\n\"24.11.2016\",3.3915\\r\\n\"23.11.2016\",3.3945\\r\\n\"22.11.2016\",3.355\\r\\n\"21.11.2016\",3.3525\\r\\n\"18.11.2016\",3.3835\\r\\n\"17.11.2016\",3.4193\\r\\n\"16.11.2016\",3.42\\r\\n\"15.11.2016\",3.4404\\r\\n\"14.11.2016\",3.4331\\r\\n\"11.11.2016\",3.3915\\r\\n\"10.11.2016\",3.3864\\r\\n\"09.11.2016\",3.2172\\r\\n\"08.11.2016\",3.1695\\r\\n\"07.11.2016\",3.202\\r\\n\"04.11.2016\",3.2337\\r\\n\"03.11.2016\",3.2425\\r\\n\"02.11.2016\",3.2359\\r\\n\"01.11.2016\",3.2367\\r\\n\"31.10.2016\",3.1893\\r\\n\"28.10.2016\",3.2065\\r\\n\"27.10.2016\",3.1701\\r\\n\"26.10.2016\",3.1409\\r\\n\"25.10.2016\",3.1151\\r\\n\"24.10.2016\",3.1246\\r\\n\"21.10.2016\",3.1511\\r\\n\"20.10.2016\",3.1433\\r\\n\"19.10.2016\",3.1697\\r\\n\"18.10.2016\",3.1888\\r\\n\"17.10.2016\",3.2022\\r\\n\"14.10.2016\",3.2051\\r\\n\"13.10.2016\",3.178\\r\\n\"12.10.2016\",3.2025\\r\\n\"11.10.2016\",3.1953\\r\\n\"10.10.2016\",3.2065\\r\\n\"07.10.2016\",3.2204\\r\\n\"06.10.2016\",3.2298\\r\\n\"05.10.2016\",3.2202\\r\\n\"04.10.2016\",3.2578\\r\\n\"03.10.2016\",3.2105\\r\\n\"30.09.2016\",3.2603\\r\\n\"29.09.2016\",3.2595\\r\\n\"28.09.2016\",3.2167\\r\\n\"27.09.2016\",3.2346\\r\\n\"26.09.2016\",3.2401\\r\\n\"23.09.2016\",3.245\\r\\n\"22.09.2016\",3.2208\\r\\n\"21.09.2016\",3.2071\\r\\n\"20.09.2016\",3.2589\\r\\n\"19.09.2016\",3.2731\\r\\n\"16.09.2016\",3.2622\\r\\n\"15.09.2016\",3.3024\\r\\n\"14.09.2016\",3.3426\\r\\n\"13.09.2016\",3.3138\\r\\n\"12.09.2016\",3.2458\\r\\n\"09.09.2016\",3.2735\\r\\n\"08.09.2016\",3.2143\\r\\n\"07.09.2016\",3.193\\r\\n\"06.09.2016\",3.1953\\r\\n\"05.09.2016\",3.2833\\r\\n\"02.09.2016\",3.2568\\r\\n\"01.09.2016\",3.2582\\r\\n\"31.08.2016\",3.2273\\r\\n\"30.08.2016\",3.2419\\r\\n\"29.08.2016\",3.2298\\r\\n\"26.08.2016\",3.2655\\r\\n\"25.08.2016\",3.2367\\r\\n\"24.08.2016\",3.2257\\r\\n\"23.08.2016\",3.2338\\r\\n\"22.08.2016\",3.2014\\r\\n\"19.08.2016\",3.2038\\r\\n\"18.08.2016\",3.2393\\r\\n\"17.08.2016\",3.2037\\r\\n\"16.08.2016\",3.2027\\r\\n\"15.08.2016\",3.1862\\r\\n\"12.08.2016\",3.1925\\r\\n\"11.08.2016\",3.145\\r\\n\"10.08.2016\",3.1271\\r\\n\"09.08.2016\",3.1456\\r\\n\"08.08.2016\",3.1749\\r\\n\"05.08.2016\",3.166\\r\\n\"04.08.2016\",3.1938\\r\\n\"03.08.2016\",3.2377\\r\\n\"02.08.2016\",3.2571\\r\\n\"01.08.2016\",3.2649\\r\\n\"29.07.2016\",3.2486\\r\\n\"28.07.2016\",3.2892\\r\\n\"27.07.2016\",3.2637\\r\\n\"26.07.2016\",3.2768\\r\\n\"25.07.2016\",3.286\\r\\n\"22.07.2016\",3.2565\\r\\n\"21.07.2016\",3.2722\\r\\n\"20.07.2016\",3.2591\\r\\n\"19.07.2016\",3.249\\r\\n\"18.07.2016\",3.2532\\r\\n\"15.07.2016\",3.282\\r\\n\"14.07.2016\",3.2511\\r\\n\"13.07.2016\",3.2637\\r\\n\"12.07.2016\",3.296\\r\\n\"11.07.2016\",3.3094\\r\\n\"08.07.2016\",3.3006\\r\\n\"07.07.2016\",3.3678\\r\\n\"06.07.2016\",3.33\\r\\n\"05.07.2016\",3.3024\\r\\n\"04.07.2016\",3.2695\\r\\n\"01.07.2016\",3.2361\\r\\n\"30.06.2016\",3.2134\\r\\n\"29.06.2016\",3.222\\r\\n\"28.06.2016\",3.3029\\r\\n\"27.06.2016\",3.3926\\r\\n\"24.06.2016\",3.3739\\r\\n\"23.06.2016\",3.339\\r\\n\"22.06.2016\",3.377\\r\\n\"21.06.2016\",3.4158\\r\\n\"20.06.2016\",3.3945\\r\\n\"17.06.2016\",3.4163\\r\\n\"16.06.2016\",3.4661\\r\\n\"15.06.2016\",3.4741\\r\\n\"14.06.2016\",3.4812\\r\\n\"13.06.2016\",3.4827\\r\\n\"10.06.2016\",3.4188\\r\\n\"09.06.2016\",3.401\\r\\n\"08.06.2016\",3.363\\r\\n\"07.06.2016\",3.4421\\r\\n\"06.06.2016\",3.4896\\r\\n\"03.06.2016\",3.524\\r\\n\"02.06.2016\",3.5926\\r\\n\"01.06.2016\",3.6007\\r\\n\"31.05.2016\",3.6111\\r\\n\"30.05.2016\",3.5713\\r\\n\"27.05.2016\",3.6116\\r\\n\"26.05.2016\",3.5825\\r\\n\"25.05.2016\",3.5836\\r\\n\"24.05.2016\",3.5713\\r\\n\"23.05.2016\",3.5728\\r\\n\"20.05.2016\",3.5202\\r\\n\"19.05.2016\",3.5644\\r\\n\"18.05.2016\",3.5683\\r\\n\"17.05.2016\",3.4888\\r\\n\"16.05.2016\",3.5001\\r\\n\"13.05.2016\",3.534\\r\\n\"12.05.2016\",3.4855\\r\\n\"11.05.2016\",3.4528\\r\\n\"10.05.2016\",3.4758\\r\\n\"09.05.2016\",3.5164\\r\\n\"06.05.2016\",3.5023\\r\\n\"05.05.2016\",3.5349\\r\\n\"04.05.2016\",3.5473\\r\\n\"03.05.2016\",3.5599\\r\\n\"02.05.2016\",3.5011\\r\\n\"29.04.2016\",3.4358\\r\\n\"28.04.2016\",3.4878\\r\\n\"27.04.2016\",3.5267\\r\\n\"26.04.2016\",3.5297\\r\\n\"25.04.2016\",3.5558\\r\\n\"22.04.2016\",3.5646\\r\\n\"21.04.2016\",3.5386\\r\\n\"20.04.2016\",3.5299\\r\\n\"19.04.2016\",3.5341\\r\\n\"18.04.2016\",3.6155\\r\\n\"15.04.2016\",3.5332\\r\\n\"14.04.2016\",3.4838\\r\\n\"13.04.2016\",3.4983\\r\\n\"12.04.2016\",3.4928\\r\\n\"11.04.2016\",3.4924\\r\\n\"08.04.2016\",3.5901\\r\\n\"07.04.2016\",3.6905\\r\\n\"06.04.2016\",3.6413\\r\\n\"05.04.2016\",3.6805\\r\\n\"04.04.2016\",3.624\\r\\n\"01.04.2016\",3.5538\\r\\n\"31.03.2016\",3.5935\\r\\n\"30.03.2016\",3.6002\\r\\n\"29.03.2016\",3.6386\\r\\n\"28.03.2016\",3.6278\\r\\n\"25.03.2016\",3.6835\\r\\n\"24.03.2016\",3.6771\\r\\n\"23.03.2016\",3.6854\\r\\n\"22.03.2016\",3.5812\\r\\n\"21.03.2016\",3.6178\\r\\n\"18.03.2016\",3.624\\r\\n\"17.03.2016\",3.6267\\r\\n\"16.03.2016\",3.7422\\r\\n\"15.03.2016\",3.7656\\r\\n\"14.03.2016\",3.6618\\r\\n\"11.03.2016\",3.582\\r\\n\"10.03.2016\",3.6215\\r\\n\"09.03.2016\",3.6849\\r\\n\"08.03.2016\",3.7556\\r\\n\"07.03.2016\",3.783\\r\\n\"04.03.2016\",3.7593\\r\\n\"03.03.2016\",3.7991\\r\\n\"02.03.2016\",3.8932\\r\\n\"01.03.2016\",3.9275\\r\\n\"29.02.2016\",4.0171\\r\\n\"26.02.2016\",3.9933\\r\\n\"25.02.2016\",3.956\\r\\n\"24.02.2016\",3.9591\\r\\n\"23.02.2016\",3.9569\\r\\n\"22.02.2016\",3.9473\\r\\n\"19.02.2016\",4.0214\\r\\n\"18.02.2016\",4.0284\\r\\n\"17.02.2016\",3.9851\\r\\n\"16.02.2016\",4.0723\\r\\n\"15.02.2016\",4.006\\r\\n\"12.02.2016\",4.0027\\r\\n\"11.02.2016\",3.9946\\r\\n\"10.02.2016\",3.9285\\r\\n\"09.02.2016\",3.8856\\r\\n\"08.02.2016\",3.8954\\r\\n\"05.02.2016\",3.9035\\r\\n\"04.02.2016\",3.8897\\r\\n\"03.02.2016\",3.8954\\r\\n\"02.02.2016\",3.9895\\r\\n\"01.02.2016\",3.9629\\r\\n\"29.01.2016\",3.9988\\r\\n\"28.01.2016\",4.0699\\r\\n\"27.01.2016\",4.1077\\r\\n\"26.01.2016\",4.0536\\r\\n\"25.01.2016\",4.0903\\r\\n\"22.01.2016\",4.0945\\r\\n\"21.01.2016\",4.1575\\r\\n\"20.01.2016\",4.0971\\r\\n\"19.01.2016\",4.0626\\r\\n\"18.01.2016\",4.0557\\r\\n\"15.01.2016\",4.0479\\r\\n\"14.01.2016\",3.9996\\r\\n\"13.01.2016\",4.0158\\r\\n\"12.01.2016\",4.029\\r\\n\"11.01.2016\",4.0537\\r\\n\"08.01.2016\",4.0245\\r\\n\"07.01.2016\",4.0448\\r\\n\"06.01.2016\",4.0244\\r\\n\"05.01.2016\",4.0077\\r\\n\"04.01.2016\",4.0402\\r\\n\"01.01.2016\",3.9608\\r\\n\"31.12.2015\",3.9608\\r\\n\"30.12.2015\",3.9608\\r\\n\"29.12.2015\",3.8655\\r\\n\"28.12.2015\",3.8586\\r\\n\"25.12.2015\",3.9463\\r\\n\"24.12.2015\",3.953\\r\\n\"23.12.2015\",3.9419\\r\\n\"22.12.2015\",3.9899\\r\\n\"21.12.2015\",4.0134\\r\\n\"18.12.2015\",3.9824\\r\\n\"17.12.2015\",3.8796\\r\\n\"16.12.2015\",3.8848\\r\\n\"15.12.2015\",3.873\\r\\n\"14.12.2015\",3.8779\\r\\n\"11.12.2015\",3.873\\r\\n\"10.12.2015\",3.8126\\r\\n\"09.12.2015\",3.7502\\r\\n\"08.12.2015\",3.7962\\r\\n\"07.12.2015\",3.7681\\r\\n\"04.12.2015\",3.7521\\r\\n\"03.12.2015\",3.7596\\r\\n\"02.12.2015\",3.8352\\r\\n\"01.12.2015\",3.8575\\r\\n\"30.11.2015\",3.869\\r\\n\"27.11.2015\",3.8464\\r\\n\"26.11.2015\",3.7431\\r\\n\"25.11.2015\",3.7425\\r\\n\"24.11.2015\",3.7\\r\\n\"23.11.2015\",3.733\\r\\n\"20.11.2015\",3.7052\\r\\n\"19.11.2015\",3.7181\\r\\n\"18.11.2015\",3.7668\\r\\n\"17.11.2015\",3.8105\\r\\n\"16.11.2015\",3.8194\\r\\n\"13.11.2015\",3.8456\\r\\n\"12.11.2015\",3.771\\r\\n\"11.11.2015\",3.7639\\r\\n\"10.11.2015\",3.751\\r\\n\"09.11.2015\",3.799\\r\\n\"06.11.2015\",3.7713\\r\\n\"05.11.2015\",3.7813\\r\\n\"04.11.2015\",3.8003\\r\\n\"03.11.2015\",3.7712\\r\\n\"02.11.2015\",3.8507\\r\\n\"30.10.2015\",3.8564\\r\\n\"29.10.2015\",3.8509\\r\\n\"28.10.2015\",3.9094\\r\\n\"27.10.2015\",3.8883\\r\\n\"26.10.2015\",3.906\\r\\n\"23.10.2015\",3.8807\\r\\n\"22.10.2015\",3.9088\\r\\n\"21.10.2015\",3.9414\\r\\n\"20.10.2015\",3.9073\\r\\n\"19.10.2015\",3.8857\\r\\n\"16.10.2015\",3.9245\\r\\n\"15.10.2015\",3.8032\\r\\n\"14.10.2015\",3.8119\\r\\n\"13.10.2015\",3.8937\\r\\n\"12.10.2015\",3.7639\\r\\n\"09.10.2015\",3.766\\r\\n\"08.10.2015\",3.7839\\r\\n\"07.10.2015\",3.8838\\r\\n\"06.10.2015\",3.8539\\r\\n\"05.10.2015\",3.912\\r\\n\"02.10.2015\",3.9331\\r\\n\"01.10.2015\",4.01\\r\\n\"30.09.2015\",3.9491\\r\\n\"29.09.2015\",4.0634\\r\\n\"28.09.2015\",4.1083\\r\\n\"25.09.2015\",3.9777\\r\\n\"24.09.2015\",3.9368\\r\\n\"23.09.2015\",4.178\\r\\n\"22.09.2015\",4.0497\\r\\n\"21.09.2015\",3.9857\\r\\n\"18.09.2015\",3.9459\\r\\n\"17.09.2015\",3.899\\r\\n\"16.09.2015\",3.8289\\r\\n\"15.09.2015\",3.8634\\r\\n\"14.09.2015\",3.815\\r\\n\"11.09.2015\",3.8705\\r\\n\"10.09.2015\",3.8498\\r\\n\"09.09.2015\",3.7783\\r\\n\"08.09.2015\",3.82\\r\\n\"07.09.2015\",3.8387\\r\\n\"04.09.2015\",3.8442\\r\\n\"03.09.2015\",3.738\\r\\n\"02.09.2015\",3.7591\\r\\n\"01.09.2015\",3.702\\r\\n\"31.08.2015\",3.6193\\r\\n\"28.08.2015\",3.5823\\r\\n\"27.08.2015\",3.551\\r\\n\"26.08.2015\",3.5963\\r\\n\"25.08.2015\",3.6175\\r\\n\"24.08.2015\",3.5534\\r\\n\"21.08.2015\",3.5007\\r\\n\"20.08.2015\",3.457\\r\\n\"19.08.2015\",3.4932\\r\\n\"18.08.2015\",3.4681\\r\\n\"17.08.2015\",3.4812\\r\\n\"14.08.2015\",3.4845\\r\\n\"13.08.2015\",3.5194\\r\\n\"12.08.2015\",3.481\\r\\n\"11.08.2015\",3.475\\r\\n\"10.08.2015\",3.4345\\r\\n\"07.08.2015\",3.5071\\r\\n\"06.08.2015\",3.5361\\r\\n\"05.08.2015\",3.4867\\r\\n\"04.08.2015\",3.4712\\r\\n\"03.08.2015\",3.4514\\r\\n\"31.07.2015\",3.4212\\r\\n\"30.07.2015\",3.3715\\r\\n\"29.07.2015\",3.3308\\r\\n\"28.07.2015\",3.3577\\r\\n\"27.07.2015\",3.364\\r\\n\"24.07.2015\",3.3556\\r\\n\"23.07.2015\",3.286\\r\\n\"22.07.2015\",3.2239\\r\\n\"21.07.2015\",3.1717\\r\\n\"20.07.2015\",3.1981\\r\\n\"17.07.2015\",3.1881\\r\\n\"16.07.2015\",3.1587\\r\\n\"15.07.2015\",3.1391\\r\\n\"14.07.2015\",3.1399\\r\\n\"13.07.2015\",3.1348\\r\\n\"10.07.2015\",3.1593\\r\\n\"09.07.2015\",3.2203\\r\\n\"08.07.2015\",3.2346\\r\\n\"07.07.2015\",3.1867\\r\\n\"06.07.2015\",3.1391\\r\\n\"03.07.2015\",3.1347\\r\\n\"02.07.2015\",3.0967\\r\\n\"01.07.2015\",3.1498\\r\\n\"30.06.2015\",3.103\\r\\n\"29.06.2015\",3.1178\\r\\n\"26.06.2015\",3.1295\\r\\n\"25.06.2015\",3.1277\\r\\n\"24.06.2015\",3.0979\\r\\n\"23.06.2015\",3.076\\r\\n\"22.06.2015\",3.0814\\r\\n\"19.06.2015\",3.0976\\r\\n\"18.06.2015\",3.0605\\r\\n\"17.06.2015\",3.057\\r\\n\"16.06.2015\",3.0885\\r\\n\"15.06.2015\",3.13\\r\\n\"12.06.2015\",3.1185\\r\\n\"11.06.2015\",3.0896\\r\\n\"10.06.2015\",3.1187\\r\\n\"09.06.2015\",3.0966\\r\\n\"08.06.2015\",3.1132\\r\\n\"05.06.2015\",3.1439\\r\\n\"04.06.2015\",3.1418\\r\\n\"03.06.2015\",3.1345\\r\\n\"02.06.2015\",3.1306\\r\\n\"01.06.2015\",3.1718\\r\\n\"29.05.2015\",3.1798\\r\\n\"28.05.2015\",3.1624\\r\\n\"27.05.2015\",3.1409\\r\\n\"26.05.2015\",3.1536\\r\\n\"25.05.2015\",3.0968\\r\\n\"22.05.2015\",3.0949\\r\\n\"21.05.2015\",3.0379\\r\\n\"20.05.2015\",3.0027\\r\\n\"19.05.2015\",3.0394\\r\\n\"18.05.2015\",3.0076\\r\\n\"15.05.2015\",2.9972\\r\\n\"14.05.2015\",2.9935\\r\\n\"13.05.2015\",3.0403\\r\\n\"12.05.2015\",3.0206\\r\\n\"11.05.2015\",3.0614\\r\\n\"08.05.2015\",2.9733\\r\\n\"07.05.2015\",3.026\\r\\n\"06.05.2015\",3.0333\\r\\n\"05.05.2015\",3.0536\\r\\n\"04.05.2015\",3.0864\\r\\n\"01.05.2015\",3.0146\\r\\n\"30.04.2015\",3.0145\\r\\n\"29.04.2015\",2.9612\\r\\n\"28.04.2015\",2.9364\\r\\n\"27.04.2015\",2.9173\\r\\n\"24.04.2015\",2.9517\\r\\n\"23.04.2015\",2.9707\\r\\n\"22.04.2015\",3.0113\\r\\n\"21.04.2015\",3.034\\r\\n\"20.04.2015\",3.033\\r\\n\"17.04.2015\",3.0409\\r\\n\"16.04.2015\",3.0221\\r\\n\"15.04.2015\",3.0294\\r\\n\"14.04.2015\",3.0634\\r\\n\"13.04.2015\",3.1212\\r\\n\"10.04.2015\",3.0756\\r\\n\"09.04.2015\",3.0591\\r\\n\"08.04.2015\",3.0495\\r\\n\"07.04.2015\",3.1288\\r\\n\"06.04.2015\",3.1263\\r\\n\"03.04.2015\",3.121\\r\\n\"02.04.2015\",3.1205\\r\\n\"01.04.2015\",3.1655\\r\\n\"31.03.2015\",3.1958\\r\\n\"30.03.2015\",3.2306\\r\\n\"27.03.2015\",3.2496\\r\\n\"26.03.2015\",3.1828\\r\\n\"25.03.2015\",3.2012\\r\\n\"24.03.2015\",3.1398\\r\\n\"23.03.2015\",3.1322\\r\\n\"20.03.2015\",3.2293\\r\\n\"19.03.2015\",3.2921\\r\\n\"18.03.2015\",3.2097\\r\\n\"17.03.2015\",3.2395\\r\\n\"16.03.2015\",3.2488\\r\\n\"13.03.2015\",3.2492\\r\\n\"12.03.2015\",3.1661\\r\\n\"11.03.2015\",3.1257\\r\\n\"10.03.2015\",3.1022\\r\\n\"09.03.2015\",3.1223\\r\\n\"06.03.2015\",3.0617\\r\\n\"05.03.2015\",3.0035\\r\\n\"04.03.2015\",2.9766\\r\\n\"03.03.2015\",2.9311\\r\\n\"02.03.2015\",2.8965\\r\\n\"27.02.2015\",2.839\\r\\n\"26.02.2015\",2.9085\\r\\n\"25.02.2015\",2.875\\r\\n\"24.02.2015\",2.833\\r\\n\"23.02.2015\",2.8788\\r\\n\"20.02.2015\",2.868\\r\\n\"19.02.2015\",2.8665\\r\\n\"18.02.2015\",2.8374\\r\\n\"17.02.2015\",2.8296\\r\\n\"16.02.2015\",2.8346\\r\\n\"13.02.2015\",2.8346\\r\\n\"12.02.2015\",2.821\\r\\n\"11.02.2015\",2.8693\\r\\n\"10.02.2015\",2.8343\\r\\n\"09.02.2015\",2.7698\\r\\n\"06.02.2015\",2.7825\\r\\n\"05.02.2015\",2.7451\\r\\n\"04.02.2015\",2.7418\\r\\n\"03.02.2015\",2.6945\\r\\n\"02.02.2015\",2.7271\\r\\n\"30.01.2015\",2.6824\\r\\n\"29.01.2015\",2.6035\\r\\n\"28.01.2015\",2.5764\\r\\n\"27.01.2015\",2.5724\\r\\n\"26.01.2015\",2.5835\\r\\n\"23.01.2015\",2.5797\\r\\n\"22.01.2015\",2.5745\\r\\n\"21.01.2015\",2.6005\\r\\n\"20.01.2015\",2.6138\\r\\n\"19.01.2015\",2.6517\\r\\n\"16.01.2015\",2.621\\r\\n\"15.01.2015\",2.6422\\r\\n\"14.01.2015\",2.6159\\r\\n\"13.01.2015\",2.643\\r\\n\"12.01.2015\",2.6734\\r\\n\"09.01.2015\",2.6301\\r\\n\"08.01.2015\",2.663\\r\\n\"07.01.2015\",2.6835\\r\\n\"06.01.2015\",2.7001\\r\\n\"05.01.2015\",2.7064\\r\\n\"02.01.2015\",2.6941\\r\\n\"01.01.2015\",2.6575\\r\\n\"31.12.2014\",2.6575\\r\\n\"30.12.2014\",2.6575\\r\\n\"29.12.2014\",2.7027\\r\\n\"26.12.2014\",2.6685\\r\\n\"25.12.2014\",2.6957\\r\\n\"24.12.2014\",2.6955\\r\\n\"23.12.2014\",2.6946\\r\\n\"22.12.2014\",2.6645\\r\\n\"19.12.2014\",2.6598\\r\\n\"18.12.2014\",2.6625\\r\\n\"17.12.2014\",2.7154\\r\\n\"16.12.2014\",2.7384\\r\\n\"15.12.2014\",2.6955\\r\\n\"12.12.2014\",2.6545\\r\\n\"11.12.2014\",2.6498\\r\\n\"10.12.2014\",2.6162\\r\\n\"09.12.2014\",2.593\\r\\n\"08.12.2014\",2.6004\\r\\n\"05.12.2014\",2.5895\\r\\n\"04.12.2014\",2.5915\\r\\n\"03.12.2014\",2.5525\\r\\n\"02.12.2014\",2.5682\\r\\n\"01.12.2014\",2.56\\r\\n\"28.11.2014\",2.5659\\r\\n\"27.11.2014\",2.5304\\r\\n\"26.11.2014\",2.5011\\r\\n\"25.11.2014\",2.5303\\r\\n\"24.11.2014\",2.5457\\r\\n\"21.11.2014\",2.5153\\r\\n\"20.11.2014\",2.5731\\r\\n\"19.11.2014\",2.572\\r\\n\"18.11.2014\",2.5825\\r\\n\"17.11.2014\",2.6081\\r\\n\"14.11.2014\",2.6018\\r\\n\"13.11.2014\",2.5889\\r\\n\"12.11.2014\",2.5665\\r\\n\"11.11.2014\",2.5575\\r\\n\"10.11.2014\",2.5528\\r\\n\"07.11.2014\",2.5587\\r\\n\"06.11.2014\",2.5697\\r\\n\"05.11.2014\",2.5049\\r\\n\"04.11.2014\",2.497\\r\\n\"03.11.2014\",2.4966\\r\\n\"31.10.2014\",2.4783\\r\\n\"30.10.2014\",2.4036\\r\\n\"29.10.2014\",2.4612\\r\\n\"28.10.2014\",2.4613\\r\\n\"27.10.2014\",2.5226\\r\\n\"24.10.2014\",2.4739\\r\\n\"23.10.2014\",2.4988\\r\\n\"22.10.2014\",2.4873\\r\\n\"21.10.2014\",2.4809\\r\\n\"20.10.2014\",2.4652\\r\\n\"17.10.2014\",2.4356\\r\\n\"16.10.2014\",2.4728\\r\\n\"15.10.2014\",2.4583\\r\\n\"14.10.2014\",2.4002\\r\\n\"13.10.2014\",2.3942\\r\\n\"10.10.2014\",2.4295\\r\\n\"09.10.2014\",2.3982\\r\\n\"08.10.2014\",2.3769\\r\\n\"07.10.2014\",2.3961\\r\\n\"06.10.2014\",2.4238\\r\\n\"03.10.2014\",2.4588\\r\\n\"02.10.2014\",2.4952\\r\\n\"01.10.2014\",2.4815\\r\\n\"30.09.2014\",2.4462\\r\\n\"29.09.2014\",2.447\\r\\n\"26.09.2014\",2.42\\r\\n\"25.09.2014\",2.4283\\r\\n\"24.09.2014\",2.3836\\r\\n\"23.09.2014\",2.4118\\r\\n\"22.09.2014\",2.3984\\r\\n\"19.09.2014\",2.3682\\r\\n\"18.09.2014\",2.3646\\r\\n\"17.09.2014\",2.3583\\r\\n\"16.09.2014\",2.3325\\r\\n\"15.09.2014\",2.3427\\r\\n\"12.09.2014\",2.3392\\r\\n\"11.09.2014\",2.298\\r\\n\"10.09.2014\",2.2885\\r\\n\"09.09.2014\",2.2868\\r\\n\"08.09.2014\",2.2677\\r\\n\"05.09.2014\",2.2405\\r\\n\"04.09.2014\",2.2431\\r\\n\"03.09.2014\",2.237\\r\\n\"02.09.2014\",2.2435\\r\\n\"01.09.2014\",2.2458\\r\\n\"29.08.2014\",2.236\\r\\n\"28.08.2014\",2.2415\\r\\n\"27.08.2014\",2.2471\\r\\n\"26.08.2014\",2.2618\\r\\n\"25.08.2014\",2.2883\\r\\n\"22.08.2014\",2.2778\\r\\n\"21.08.2014\",2.2687\\r\\n\"20.08.2014\",2.2623\\r\\n\"19.08.2014\",2.2467\\r\\n\"18.08.2014\",2.2576\\r\\n\"15.08.2014\",2.2598\\r\\n\"14.08.2014\",2.2666\\r\\n\"13.08.2014\",2.2803\\r\\n\"12.08.2014\",2.2767\\r\\n\"11.08.2014\",2.2755\\r\\n\"08.08.2014\",2.2812\\r\\n\"07.08.2014\",2.2957\\r\\n\"06.08.2014\",2.2738\\r\\n\"05.08.2014\",2.2818\\r\\n\"04.08.2014\",2.2584\\r\\n\"01.08.2014\",2.2574\\r\\n\"31.07.2014\",2.2639\\r\\n\"30.07.2014\",2.2454\\r\\n\"29.07.2014\",2.2305\\r\\n\"28.07.2014\",2.2222\\r\\n\"25.07.2014\",2.229\\r\\n\"24.07.2014\",2.2228\\r\\n\"23.07.2014\",2.2182\\r\\n\"22.07.2014\",2.213\\r\\n\"21.07.2014\",2.22\\r\\n\"18.07.2014\",2.2255\\r\\n\"17.07.2014\",2.2582\\r\\n\"16.07.2014\",2.2238\\r\\n\"15.07.2014\",2.2199\\r\\n\"14.07.2014\",2.2107\\r\\n\"11.07.2014\",2.2208\\r\\n\"10.07.2014\",2.2192\\r\\n\"09.07.2014\",2.2123\\r\\n\"08.07.2014\",2.2123\\r\\n\"07.07.2014\",2.224\\r\\n\"04.07.2014\",2.2132\\r\\n\"03.07.2014\",2.2103\\r\\n\"02.07.2014\",2.2252\\r\\n\"01.07.2014\",2.2018\\r\\n\"30.06.2014\",2.2143\\r\\n\"27.06.2014\",2.194\\r\\n\"26.06.2014\",2.1969\\r\\n\"25.06.2014\",2.2078\\r\\n\"24.06.2014\",2.2252\\r\\n\"23.06.2014\",2.218\\r\\n\"20.06.2014\",2.2295\\r\\n\"19.06.2014\",2.2225\\r\\n\"18.06.2014\",2.228\\r\\n\"17.06.2014\",2.2618\\r\\n\"16.06.2014\",2.2343\\r\\n\"13.06.2014\",2.2241\\r\\n\"12.06.2014\",2.23\\r\\n\"11.06.2014\",2.2335\\r\\n\"10.06.2014\",2.2225\\r\\n\"09.06.2014\",2.2277\\r\\n\"06.06.2014\",2.2475\\r\\n\"05.06.2014\",2.2617\\r\\n\"04.06.2014\",2.2781\\r\\n\"03.06.2014\",2.2805\\r\\n\"02.06.2014\",2.2769\\r\\n\"30.05.2014\",2.2408\\r\\n\"29.05.2014\",2.2252\\r\\n\"28.05.2014\",2.2325\\r\\n\"27.05.2014\",2.2378\\r\\n\"26.05.2014\",2.2239\\r\\n\"23.05.2014\",2.2235\\r\\n\"22.05.2014\",2.2153\\r\\n\"21.05.2014\",2.2075\\r\\n\"20.05.2014\",2.2165\\r\\n\"19.05.2014\",2.2058\\r\\n\"16.05.2014\",2.2146\\r\\n\"15.05.2014\",2.2203\\r\\n\"14.05.2014\",2.2025\\r\\n\"13.05.2014\",2.2151\\r\\n\"12.05.2014\",2.2145\\r\\n\"09.05.2014\",2.2128\\r\\n\"08.05.2014\",2.2153\\r\\n\"07.05.2014\",2.2166\\r\\n\"06.05.2014\",2.2292\\r\\n\"05.05.2014\",2.2431\\r\\n\"02.05.2014\",2.22\\r\\n\"01.05.2014\",2.2335\\r\\n\"30.04.2014\",2.233\\r\\n\"29.04.2014\",2.2359\\r\\n\"28.04.2014\",2.2237\\r\\n\"25.04.2014\",2.2445\\r\\n\"24.04.2014\",2.2138\\r\\n\"23.04.2014\",2.2212\\r\\n\"22.04.2014\",2.238\\r\\n\"21.04.2014\",2.237\\r\\n\"18.04.2014\",2.2372\\r\\n\"17.04.2014\",2.2376\\r\\n\"16.04.2014\",2.2436\\r\\n\"15.04.2014\",2.2329\\r\\n\"14.04.2014\",2.214\\r\\n\"11.04.2014\",2.2184\\r\\n\"10.04.2014\",2.2067\\r\\n\"09.04.2014\",2.1856\\r\\n\"08.04.2014\",2.2012\\r\\n\"07.04.2014\",2.2189\\r\\n\"04.04.2014\",2.236\\r\\n\"03.04.2014\",2.2793\\r\\n\"02.04.2014\",2.2691\\r\\n\"01.04.2014\",2.2607\\r\\n\"31.03.2014\",2.2721\\r\\n\"28.03.2014\",2.2618\\r\\n\"27.03.2014\",2.2593\\r\\n\"26.03.2014\",2.3041\\r\\n\"25.03.2014\",2.3114\\r\\n\"24.03.2014\",2.3225\\r\\n\"21.03.2014\",2.3246\\r\\n\"20.03.2014\",2.3281\\r\\n\"19.03.2014\",2.3478\\r\\n\"18.03.2014\",2.3342\\r\\n\"17.03.2014\",2.3495\\r\\n\"14.03.2014\",2.3465\\r\\n\"13.03.2014\",2.3641\\r\\n\"12.03.2014\",2.3525\\r\\n\"11.03.2014\",2.3642\\r\\n\"10.03.2014\",2.3498\\r\\n\"07.03.2014\",2.3406\\r\\n\"06.03.2014\",2.3232\\r\\n\"05.03.2014\",2.3181\\r\\n\"04.03.2014\",2.3412\\r\\n\"03.03.2014\",2.3441\\r\\n\"28.02.2014\",2.3384\\r\\n\"27.02.2014\",2.322\\r\\n\"26.02.2014\",2.3497\\r\\n\"25.02.2014\",2.3411\\r\\n\"24.02.2014\",2.3392\\r\\n\"21.02.2014\",2.3456\\r\\n\"20.02.2014\",2.3704\\r\\n\"19.02.2014\",2.3942\\r\\n\"18.02.2014\",2.3955\\r\\n\"17.02.2014\",2.39\\r\\n\"14.02.2014\",2.3891\\r\\n\"13.02.2014\",2.3938\\r\\n\"12.02.2014\",2.4255\\r\\n\"11.02.2014\",2.4005\\r\\n\"10.02.2014\",2.409\\r\\n\"07.02.2014\",2.3802\\r\\n\"06.02.2014\",2.3825\\r\\n\"05.02.2014\",2.3986\\r\\n\"04.02.2014\",2.4055\\r\\n\"03.02.2014\",2.4402\\r\\n\"31.01.2014\",2.4127\\r\\n\"30.01.2014\",2.4118\\r\\n\"29.01.2014\",2.4352\\r\\n\"28.01.2014\",2.4263\\r\\n\"27.01.2014\",2.4215\\r\\n\"24.01.2014\",2.3982\\r\\n\"23.01.2014\",2.3959\\r\\n\"22.01.2014\",2.3731\\r\\n\"21.01.2014\",2.3575\\r\\n\"20.01.2014\",2.3442\\r\\n\"17.01.2014\",2.3426\\r\\n\"16.01.2014\",2.3636\\r\\n\"15.01.2014\",2.3605\\r\\n\"14.01.2014\",2.3503\\r\\n\"13.01.2014\",2.3598\\r\\n\"10.01.2014\",2.3584\\r\\n\"09.01.2014\",2.3904\\r\\n\"08.01.2014\",2.3967\\r\\n\"07.01.2014\",2.3725\\r\\n\"06.01.2014\",2.3761\\r\\n\"03.01.2014\",2.3765\\r\\n\"02.01.2014\",2.3876\\r\\n\"01.01.2014\",2.3621\\r\\n\"31.12.2013\",2.3621\\r\\n\"30.12.2013\",2.3621\\r\\n\"27.12.2013\",2.3384\\r\\n\"26.12.2013\",2.3518\\r\\n\"25.12.2013\",2.3571\\r\\n\"24.12.2013\",2.3573\\r\\n\"23.12.2013\",2.3571\\r\\n\"20.12.2013\",2.3876\\r\\n\"19.12.2013\",2.3535\\r\\n\"18.12.2013\",2.3262\\r\\n\"17.12.2013\",2.3194\\r\\n\"16.12.2013\",2.3278\\r\\n\"13.12.2013\",2.33\\r\\n\"12.12.2013\",2.3327\\r\\n\"11.12.2013\",2.3413\\r\\n\"10.12.2013\",2.309\\r\\n\"09.12.2013\",2.3197\\r\\n\"06.12.2013\",2.3267\\r\\n\"05.12.2013\",2.3612\\r\\n\"04.12.2013\",2.3914\\r\\n\"03.12.2013\",2.3758\\r\\n\"02.12.2013\",2.3559\\r\\n\"29.11.2013\",2.3358\\r\\n\"28.11.2013\",2.3176\\r\\n\"27.11.2013\",2.33\\r\\n\"26.11.2013\",2.2967\\r\\n\"25.11.2013\",2.2837\\r\\n\"22.11.2013\",2.2788\\r\\n\"21.11.2013\",2.3062\\r\\n\"20.11.2013\",2.2717\\r\\n\"19.11.2013\",2.2713\\r\\n\"18.11.2013\",2.2633\\r\\n\"15.11.2013\",2.319\\r\\n\"14.11.2013\",2.3137\\r\\n\"13.11.2013\",2.3335\\r\\n\"12.11.2013\",2.3333\\r\\n\"11.11.2013\",2.3308\\r\\n\"08.11.2013\",2.3142\\r\\n\"07.11.2013\",2.3058\\r\\n\"06.11.2013\",2.2855\\r\\n\"05.11.2013\",2.2823\\r\\n\"04.11.2013\",2.2458\\r\\n\"01.11.2013\",2.2567\\r\\n\"31.10.2013\",2.2401\\r\\n\"30.10.2013\",2.184\\r\\n\"29.10.2013\",2.185\\r\\n\"28.10.2013\",2.1805\\r\\n\"25.10.2013\",2.1877\\r\\n\"24.10.2013\",2.204\\r\\n\"23.10.2013\",2.1881\\r\\n\"22.10.2013\",2.1725\\r\\n\"21.10.2013\",2.1735\\r\\n\"18.10.2013\",2.1689\\r\\n\"17.10.2013\",2.1525\\r\\n\"16.10.2013\",2.1806\\r\\n\"15.10.2013\",2.1777\\r\\n\"14.10.2013\",2.1816\\r\\n\"11.10.2013\",2.174\\r\\n\"10.10.2013\",2.1799\\r\\n\"09.10.2013\",2.2075\\r\\n\"08.10.2013\",2.2115\\r\\n\"07.10.2013\",2.2047\\r\\n\"04.10.2013\",2.212\\r\\n\"03.10.2013\",2.207\\r\\n\"02.10.2013\",2.1914\\r\\n\"01.10.2013\",2.2157\\r\\n\"30.09.2013\",2.2162\\r\\n\"27.09.2013\",2.2523\\r\\n\"26.09.2013\",2.2459\\r\\n\"25.09.2013\",2.2324\\r\\n\"24.09.2013\",2.201\\r\\n\"23.09.2013\",2.1986\\r\\n\"20.09.2013\",2.2102\\r\\n\"19.09.2013\",2.2026\\r\\n\"18.09.2013\",2.1865\\r\\n\"17.09.2013\",2.256\\r\\n\"16.09.2013\",2.2843\\r\\n\"13.09.2013\",2.2803\\r\\n\"12.09.2013\",2.2752\\r\\n\"11.09.2013\",2.2772\\r\\n\"10.09.2013\",2.2836\\r\\n\"09.09.2013\",2.2763\\r\\n\"06.09.2013\",2.3066\\r\\n\"05.09.2013\",2.3249\\r\\n\"04.09.2013\",2.3605\\r\\n\"03.09.2013\",2.3585\\r\\n\"02.09.2013\",2.378\\r\\n\"30.08.2013\",2.3862\\r\\n\"29.08.2013\",2.3598\\r\\n\"28.08.2013\",2.3442\\r\\n\"27.08.2013\",2.372\\r\\n\"26.08.2013\",2.3792\\r\\n\"23.08.2013\",2.3486\\r\\n\"22.08.2013\",2.4348\\r\\n\"21.08.2013\",2.4524\\r\\n\"20.08.2013\",2.3936\\r\\n\"19.08.2013\",2.4129\\r\\n\"16.08.2013\",2.3925\\r\\n\"15.08.2013\",2.3407\\r\\n\"14.08.2013\",2.3244\\r\\n\"13.08.2013\",2.3138\\r\\n\"12.08.2013\",2.2873\\r\\n\"09.08.2013\",2.2717\\r\\n\"08.08.2013\",2.2844\\r\\n\"07.08.2013\",2.314\\r\\n\"06.08.2013\",2.2991\\r\\n\"05.08.2013\",2.3058\\r\\n\"02.08.2013\",2.2876\\r\\n\"01.08.2013\",2.3045\\r\\n\"31.07.2013\",2.2771\\r\\n\"30.07.2013\",2.2832\\r\\n\"29.07.2013\",2.2687\\r\\n\"26.07.2013\",2.2568\\r\\n\"25.07.2013\",2.2428\\r\\n\"24.07.2013\",2.2513\\r\\n\"23.07.2013\",2.2134\\r\\n\"22.07.2013\",2.2328\\r\\n\"19.07.2013\",2.2467\\r\\n\"18.07.2013\",2.2271\\r\\n\"17.07.2013\",2.2257\\r\\n\"16.07.2013\",2.2531\\r\\n\"15.07.2013\",2.2193\\r\\n\"12.07.2013\",2.2673\\r\\n\"11.07.2013\",2.2538\\r\\n\"10.07.2013\",2.2643\\r\\n\"09.07.2013\",2.2571\\r\\n\"08.07.2013\",2.2642\\r\\n\"05.07.2013\",2.2525\\r\\n\"04.07.2013\",2.248\\r\\n\"03.07.2013\",2.2681\\r\\n\"02.07.2013\",2.2546\\r\\n\"01.07.2013\",2.2283\\r\\n\"28.06.2013\",2.2321\\r\\n\"27.06.2013\",2.1989\\r\\n\"26.06.2013\",2.187\\r\\n\"25.06.2013\",2.2139\\r\\n\"24.06.2013\",2.226\\r\\n\"21.06.2013\",2.242\\r\\n\"20.06.2013\",2.2586\\r\\n\"19.06.2013\",2.225\\r\\n\"18.06.2013\",2.181\\r\\n\"17.06.2013\",2.1705\\r\\n\"14.06.2013\",2.1528\\r\\n\"13.06.2013\",2.1218\\r\\n\"12.06.2013\",2.156\\r\\n\"11.06.2013\",2.1323\\r\\n\"10.06.2013\",2.1466\\r\\n\"07.06.2013\",2.1321\\r\\n\"06.06.2013\",2.1304\\r\\n\"05.06.2013\",2.1288\\r\\n\"04.06.2013\",2.1258\\r\\n\"03.06.2013\",2.1243\\r\\n\"31.05.2013\",2.1423\\r\\n\"30.05.2013\",2.1103\\r\\n\"29.05.2013\",2.1106\\r\\n\"28.05.2013\",2.0757\\r\\n\"27.05.2013\",2.0545\\r\\n\"24.05.2013\",2.0518\\r\\n\"23.05.2013\",2.0442\\r\\n\"22.05.2013\",2.049\\r\\n\"21.05.2013\",2.0413\\r\\n\"20.05.2013\",2.0398\\r\\n\"17.05.2013\",2.0353\\r\\n\"16.05.2013\",2.0268\\r\\n\"15.05.2013\",2.0229\\r\\n\"14.05.2013\",2.0204\\r\\n\"13.05.2013\",2.0074\\r\\n\"10.05.2013\",2.0201\\r\\n\"09.05.2013\",2.0137\\r\\n\"08.05.2013\",2.0055\\r\\n\"07.05.2013\",2.0079\\r\\n\"06.05.2013\",2.0096\\r\\n\"03.05.2013\",2.0091\\r\\n\"02.05.2013\",2.0097\\r\\n\"01.05.2013\",2.0015\\r\\n\"30.04.2013\",2.0017\\r\\n\"29.04.2013\",2.0082\\r\\n\"26.04.2013\",1.9988\\r\\n\"25.04.2013\",2.0017\\r\\n\"24.04.2013\",2.0109\\r\\n\"23.04.2013\",2.0248\\r\\n\"22.04.2013\",2.0213\\r\\n\"19.04.2013\",2.0108\\r\\n\"18.04.2013\",2.0187\\r\\n\"17.04.2013\",2.0012\\r\\n\"16.04.2013\",1.987\\r\\n\"15.04.2013\",2.0012\\r\\n\"12.04.2013\",1.9695\\r\\n\"11.04.2013\",1.9737\\r\\n\"10.04.2013\",1.9743\\r\\n\"09.04.2013\",1.9811\\r\\n\"08.04.2013\",1.9922\\r\\n\"05.04.2013\",1.986\\r\\n\"04.04.2013\",2.0137\\r\\n\"03.04.2013\",2.0245\\r\\n\"02.04.2013\",2.019\\r\\n\"01.04.2013\",2.0205\\r\\n\"29.03.2013\",2.0242\\r\\n\"28.03.2013\",2.0224\\r\\n\"27.03.2013\",2.011\\r\\n\"26.03.2013\",2.0173\\r\\n\"25.03.2013\",2.0123\\r\\n\"22.03.2013\",2.0091\\r\\n\"21.03.2013\",2.0082\\r\\n\"20.03.2013\",1.9903\\r\\n\"19.03.2013\",1.9855\\r\\n\"18.03.2013\",1.982\\r\\n\"15.03.2013\",1.9817\\r\\n\"14.03.2013\",1.9717\\r\\n\"13.03.2013\",1.9723\\r\\n\"12.03.2013\",1.9647\\r\\n\"11.03.2013\",1.9567\\r\\n\"08.03.2013\",1.9447\\r\\n\"07.03.2013\",1.9607\\r\\n\"06.03.2013\",1.9708\\r\\n\"05.03.2013\",1.9644\\r\\n\"04.03.2013\",1.9708\\r\\n\"01.03.2013\",1.9792\\r\\n\"28.02.2013\",1.9803\\r\\n\"27.02.2013\",1.9732\\r\\n\"26.02.2013\",1.9825\\r\\n\"25.02.2013\",1.983\\r\\n\"22.02.2013\",1.9727\\r\\n\"21.02.2013\",1.9735\\r\\n\"20.02.2013\",1.9611\\r\\n\"19.02.2013\",1.9543\\r\\n\"18.02.2013\",1.9634\\r\\n\"15.02.2013\",1.9688\\r\\n\"14.02.2013\",1.9577\\r\\n\"13.02.2013\",1.9647\\r\\n\"12.02.2013\",1.969\\r\\n\"11.02.2013\",1.9728\\r\\n\"08.02.2013\",1.9732\\r\\n\"07.02.2013\",1.9667\\r\\n\"06.02.2013\",1.9903\\r\\n\"05.02.2013\",1.9845\\r\\n\"04.02.2013\",1.996\\r\\n\"01.02.2013\",1.9878\\r\\n\"31.01.2013\",1.9908\\r\\n\"30.01.2013\",1.9914\\r\\n\"29.01.2013\",1.9859\\r\\n\"28.01.2013\",1.9958\\r\\n\"25.01.2013\",2.03\\r\\n\"24.01.2013\",2.03\\r\\n\"23.01.2013\",2.0354\\r\\n\"22.01.2013\",2.0429\\r\\n\"21.01.2013\",2.0418\\r\\n\"18.01.2013\",2.0408\\r\\n\"17.01.2013\",2.0385\\r\\n\"16.01.2013\",2.0424\\r\\n\"15.01.2013\",2.0358\\r\\n\"14.01.2013\",2.0318\\r\\n\"11.01.2013\",2.0332\\r\\n\"10.01.2013\",2.029\\r\\n\"09.01.2013\",2.0381\\r\\n\"08.01.2013\",2.0415\\r\\n\"07.01.2013\",2.0267\\r\\n\"04.01.2013\",2.0347\\r\\n\"03.01.2013\",2.0459\\r\\n\"02.01.2013\",2.0452\\r\\n\"01.01.2013\",2.0485\\r\\n\"31.12.2012\",2.0485\\r\\n\"28.12.2012\",2.0475\\r\\n\"27.12.2012\",2.0434\\r\\n\"26.12.2012\",2.0491\\r\\n\"25.12.2012\",2.0783\\r\\n\"24.12.2012\",2.0783\\r\\n\"21.12.2012\",2.0783\\r\\n\"20.12.2012\",2.0694\\r\\n\"19.12.2012\",2.0716\\r\\n\"18.12.2012\",2.089\\r\\n\"17.12.2012\",2.0995\\r\\n\"14.12.2012\",2.0856\\r\\n\"13.12.2012\",2.0852\\r\\n\"12.12.2012\",2.072\\r\\n\"11.12.2012\",2.0787\\r\\n\"10.12.2012\",2.0768\\r\\n\"07.12.2012\",2.0747\\r\\n\"06.12.2012\",2.0774\\r\\n\"05.12.2012\",2.0878\\r\\n\"04.12.2012\",2.1197\\r\\n\"03.12.2012\",2.1193\\r\\n\"30.11.2012\",2.1361\\r\\n\"29.11.2012\",2.0987\\r\\n\"28.11.2012\",2.0928\\r\\n\"27.11.2012\",2.0842\\r\\n\"26.11.2012\",2.083\\r\\n\"23.11.2012\",2.0816\\r\\n\"22.11.2012\",2.1048\\r\\n\"21.11.2012\",2.0988\\r\\n\"20.11.2012\",2.0805\\r\\n\"19.11.2012\",2.0762\\r\\n\"16.11.2012\",2.0842\\r\\n\"15.11.2012\",2.0665\\r\\n\"14.11.2012\",2.0669\\r\\n\"13.11.2012\",2.0583\\r\\n\"12.11.2012\",2.051\\r\\n\"09.11.2012\",2.0463\\r\\n\"08.11.2012\",2.0404\\r\\n\"07.11.2012\",2.0337\\r\\n\"06.11.2012\",2.0321\\r\\n\"05.11.2012\",2.0353\\r\\n\"02.11.2012\",2.0316\\r\\n\"01.11.2012\",2.031\\r\\n\"31.10.2012\",2.0309\\r\\n\"30.10.2012\",2.0307\\r\\n\"29.10.2012\",2.0335\\r\\n\"26.10.2012\",2.027\\r\\n\"25.10.2012\",2.0252\\r\\n\"24.10.2012\",2.0252\\r\\n\"23.10.2012\",2.027\\r\\n\"22.10.2012\",2.0242\\r\\n\"19.10.2012\",2.0277\\r\\n\"18.10.2012\",2.0263\\r\\n\"17.10.2012\",2.032\\r\\n\"16.10.2012\",2.033\\r\\n\"15.10.2012\",2.0363\\r\\n\"12.10.2012\",2.0445\\r\\n\"11.10.2012\",2.0423\\r\\n\"10.10.2012\",2.0426\\r\\n\"09.10.2012\",2.0362\\r\\n\"08.10.2012\",2.0297\\r\\n\"05.10.2012\",2.031\\r\\n\"04.10.2012\",2.0177\\r\\n\"03.10.2012\",2.022\\r\\n\"02.10.2012\",2.0257\\r\\n\"01.10.2012\",2.0264\\r\\n\"28.09.2012\",2.0257\\r\\n\"27.09.2012\",2.0293\\r\\n\"26.09.2012\",2.0362\\r\\n\"25.09.2012\",2.0315\\r\\n\"24.09.2012\",2.0264\\r\\n\"21.09.2012\",2.0225\\r\\n\"20.09.2012\",2.0213\\r\\n\"19.09.2012\",2.0242\\r\\n\"18.09.2012\",2.0231\\r\\n\"17.09.2012\",2.0329\\r\\n\"14.09.2012\",2.0119\\r\\n\"13.09.2012\",2.0211\\r\\n\"12.09.2012\",2.0271\\r\\n\"11.09.2012\",2.0167\\r\\n\"10.09.2012\",2.0224\\r\\n\"07.09.2012\",2.0281\\r\\n\"06.09.2012\",2.0281\\r\\n\"05.09.2012\",2.0393\\r\\n\"04.09.2012\",2.0427\\r\\n\"03.09.2012\",2.033\\r\\n\"31.08.2012\",2.0293\\r\\n\"30.08.2012\",2.0488\\r\\n\"29.08.2012\",2.05\\r\\n\"28.08.2012\",2.044\\r\\n\"27.08.2012\",2.0342\\r\\n\"24.08.2012\",2.0271\\r\\n\"23.08.2012\",2.0237\\r\\n\"22.08.2012\",2.0165\\r\\n\"21.08.2012\",2.0158\\r\\n\"20.08.2012\",2.0168\\r\\n\"17.08.2012\",2.0155\\r\\n\"16.08.2012\",2.0168\\r\\n\"15.08.2012\",2.0225\\r\\n\"14.08.2012\",2.0266\\r\\n\"13.08.2012\",2.0204\\r\\n\"10.08.2012\",2.0149\\r\\n\"09.08.2012\",2.013\\r\\n\"08.08.2012\",2.0205\\r\\n\"07.08.2012\",2.0285\\r\\n\"06.08.2012\",2.0312\\r\\n\"03.08.2012\",2.0282\\r\\n\"02.08.2012\",2.0497\\r\\n\"01.08.2012\",2.0443\\r\\n\"31.07.2012\",2.0567\\r\\n\"30.07.2012\",2.0405\\r\\n\"27.07.2012\",2.0212\\r\\n\"26.07.2012\",2.0213\\r\\n\"25.07.2012\",2.0331\\r\\n\"24.07.2012\",2.0477\\r\\n\"23.07.2012\",2.0389\\r\\n\"20.07.2012\",2.0236\\r\\n\"19.07.2012\",2.0125\\r\\n\"18.07.2012\",2.0227\\r\\n\"17.07.2012\",2.022\\r\\n\"16.07.2012\",2.0347\\r\\n\"13.07.2012\",2.037\\r\\n\"12.07.2012\",2.0373\\r\\n\"11.07.2012\",2.0345\\r\\n\"10.07.2012\",2.0333\\r\\n\"09.07.2012\",2.0323\\r\\n\"06.07.2012\",2.0281\\r\\n\"05.07.2012\",2.0194\\r\\n\"04.07.2012\",2.0279\\r\\n\"03.07.2012\",2.0156\\r\\n\"02.07.2012\",1.9849\\r\\n\"29.06.2012\",2.0095\\r\\n\"28.06.2012\",2.0765\\r\\n\"27.06.2012\",2.0764\\r\\n\"26.06.2012\",2.0724\\r\\n\"25.06.2012\",2.0613\\r\\n\"22.06.2012\",2.0675\\r\\n\"21.06.2012\",2.0631\\r\\n\"20.06.2012\",2.0256\\r\\n\"19.06.2012\",2.0279\\r\\n\"18.06.2012\",2.0641\\r\\n\"15.06.2012\",2.0484\\r\\n\"14.06.2012\",2.0569\\r\\n\"13.06.2012\",2.0719\\r\\n\"12.06.2012\",2.0684\\r\\n\"11.06.2012\",2.0652\\r\\n\"08.06.2012\",2.0213\\r\\n\"07.06.2012\",2.0328\\r\\n\"06.06.2012\",2.0328\\r\\n\"05.06.2012\",2.0248\\r\\n\"04.06.2012\",2.056\\r\\n\"01.06.2012\",2.04\\r\\n\"31.05.2012\",2.0226\\r\\n\"30.05.2012\",2.016\\r\\n\"29.05.2012\",1.9895\\r\\n\"28.05.2012\",1.9832\\r\\n\"25.05.2012\",1.9846\\r\\n\"24.05.2012\",2.0282\\r\\n\"23.05.2012\",2.0309\\r\\n\"22.05.2012\",2.0907\\r\\n\"21.05.2012\",2.0417\\r\\n\"18.05.2012\",2.0237\\r\\n\"17.05.2012\",2.0092\\r\\n\"16.05.2012\",2.0005\\r\\n\"15.05.2012\",2.0017\\r\\n\"14.05.2012\",1.9951\\r\\n\"11.05.2012\",1.966\\r\\n\"10.05.2012\",1.9529\\r\\n\"09.05.2012\",1.9715\\r\\n\"08.05.2012\",1.9397\\r\\n\"07.05.2012\",1.9194\\r\\n\"04.05.2012\",1.9275\\r\\n\"03.05.2012\",1.9085\\r\\n\"02.05.2012\",1.9243\\r\\n\"01.05.2012\",1.9047\\r\\n\"30.04.2012\",1.9088\\r\\n\"27.04.2012\",1.8861\\r\\n\"26.04.2012\",1.8855\\r\\n\"25.04.2012\",1.8788\\r\\n\"24.04.2012\",1.8821\\r\\n\"23.04.2012\",1.8802\\r\\n\"20.04.2012\",1.8724\\r\\n\"19.04.2012\",1.8806\\r\\n\"18.04.2012\",1.879\\r\\n\"17.04.2012\",1.8612\\r\\n\"16.04.2012\",1.8478\\r\\n\"13.04.2012\",1.8372\\r\\n\"12.04.2012\",1.8272\\r\\n\"11.04.2012\",1.8358\\r\\n\"10.04.2012\",1.8337\\r\\n\"09.04.2012\",1.8173\\r\\n\"06.04.2012\",1.8214\\r\\n\"05.04.2012\",1.8214\\r\\n\"04.04.2012\",1.8263\\r\\n\"03.04.2012\",1.8255\\r\\n\"02.04.2012\",1.8329\\r\\n\"30.03.2012\",1.8264\\r\\n\"29.03.2012\",1.8224\\r\\n\"28.03.2012\",1.823\\r\\n\"27.03.2012\",1.8219\\r\\n\"26.03.2012\",1.8175\\r\\n\"23.03.2012\",1.8106\\r\\n\"22.03.2012\",1.8199\\r\\n\"21.03.2012\",1.8226\\r\\n\"20.03.2012\",1.8144\\r\\n\"19.03.2012\",1.8215\\r\\n\"16.03.2012\",1.8003\\r\\n\"15.03.2012\",1.7991\\r\\n\"14.03.2012\",1.8054\\r\\n\"13.03.2012\",1.7926\\r\\n\"12.03.2012\",1.7995\\r\\n\"09.03.2012\",1.7914\\r\\n\"08.03.2012\",1.7612\\r\\n\"07.03.2012\",1.7665\\r\\n\"06.03.2012\",1.7584\\r\\n\"05.03.2012\",1.7394\\r\\n\"02.03.2012\",1.7311\\r\\n\"01.03.2012\",1.7138\\r\\n\"29.02.2012\",1.7174\\r\\n\"28.02.2012\",1.695\\r\\n\"27.02.2012\",1.7077\\r\\n\"24.02.2012\",1.7094\\r\\n\"23.02.2012\",1.7137\\r\\n\"22.02.2012\",1.7064\\r\\n\"21.02.2012\",1.7175\\r\\n\"20.02.2012\",1.7178\\r\\n\"17.02.2012\",1.715\\r\\n\"16.02.2012\",1.7165\\r\\n\"15.02.2012\",1.7289\\r\\n\"14.02.2012\",1.7211\\r\\n\"13.02.2012\",1.7165\\r\\n\"10.02.2012\",1.7208\\r\\n\"09.02.2012\",1.7163\\r\\n\"08.02.2012\",1.7214\\r\\n\"07.02.2012\",1.726\\r\\n\"06.02.2012\",1.7266\\r\\n\"03.02.2012\",1.7161\\r\\n\"02.02.2012\",1.7195\\r\\n\"01.02.2012\",1.7342\\r\\n\"31.01.2012\",1.7472\\r\\n\"30.01.2012\",1.75\\r\\n\"27.01.2012\",1.7374\\r\\n\"26.01.2012\",1.7505\\r\\n\"25.01.2012\",1.7605\\r\\n\"24.01.2012\",1.7585\\r\\n\"23.01.2012\",1.7552\\r\\n\"20.01.2012\",1.7548\\r\\n\"19.01.2012\",1.7655\\r\\n\"18.01.2012\",1.7649\\r\\n\"17.01.2012\",1.788\\r\\n\"16.01.2012\",1.7859\\r\\n\"13.01.2012\",1.7849\\r\\n\"12.01.2012\",1.778\\r\\n\"11.01.2012\",1.803\\r\\n\"10.01.2012\",1.7995\\r\\n\"09.01.2012\",1.8329\\r\\n\"06.01.2012\",1.8579\\r\\n\"05.01.2012\",1.8437\\r\\n\"04.01.2012\",1.8323\\r\\n\"03.01.2012\",1.8304\\r\\n\"02.01.2012\",1.8708\\r\\n\"30.12.2011\",1.8632\\r\\n\"29.12.2011\",1.8657\\r\\n\"28.12.2011\",1.874\\r\\n\"27.12.2011\",1.8613\\r\\n\"26.12.2011\",1.8558\\r\\n\"23.12.2011\",1.8567\\r\\n\"22.12.2011\",1.8562\\r\\n\"21.12.2011\",1.8607\\r\\n\"20.12.2011\",1.845\\r\\n\"19.12.2011\",1.8687\\r\\n\"16.12.2011\",1.852\\r\\n\"15.12.2011\",1.8602\\r\\n\"14.12.2011\",1.8798\\r\\n\"13.12.2011\",1.8647\\r\\n\"12.12.2011\",1.8439\\r\\n\"09.12.2011\",1.7979\\r\\n\"08.12.2011\",1.822\\r\\n\"07.12.2011\",1.7992\\r\\n\"06.12.2011\",1.7915\\r\\n\"05.12.2011\",1.7857\\r\\n\"02.12.2011\",1.7912\\r\\n\"01.12.2011\",1.8\\r\\n\"30.11.2011\",1.8083\\r\\n\"29.11.2011\",1.845\\r\\n\"28.11.2011\",1.8542\\r\\n\"25.11.2011\",1.892\\r\\n\"24.11.2011\",1.8981\\r\\n\"23.11.2011\",1.8672\\r\\n\"22.11.2011\",1.8184\\r\\n\"21.11.2011\",1.8081\\r\\n\"18.11.2011\",1.786\\r\\n\"17.11.2011\",1.7785\\r\\n\"16.11.2011\",1.7697\\r\\n\"15.11.2011\",1.7721\\r\\n\"14.11.2011\",1.7671\\r\\n\"11.11.2011\",1.7424\\r\\n\"10.11.2011\",1.7614\\r\\n\"09.11.2011\",1.7795\\r\\n\"08.11.2011\",1.7323\\r\\n\"07.11.2011\",1.7464\\r\\n\"04.11.2011\",1.7525\\r\\n\"03.11.2011\",1.7367\\r\\n\"02.11.2011\",1.736\\r\\n\"01.11.2011\",1.745\\r\\n\"31.10.2011\",1.7172\\r\\n\"28.10.2011\",1.6725\\r\\n\"27.10.2011\",1.7095\\r\\n\"26.10.2011\",1.7584\\r\\n\"25.10.2011\",1.766\\r\\n\"24.10.2011\",1.7508\\r\\n\"21.10.2011\",1.7748\\r\\n\"20.10.2011\",1.7812\\r\\n\"19.10.2011\",1.7731\\r\\n\"18.10.2011\",1.7524\\r\\n\"17.10.2011\",1.7736\\r\\n\"14.10.2011\",1.7319\\r\\n\"13.10.2011\",1.7508\\r\\n\"12.10.2011\",1.775\\r\\n\"11.10.2011\",1.775\\r\\n\"10.10.2011\",1.7624\\r\\n\"07.10.2011\",1.7717\\r\\n\"06.10.2011\",1.7805\\r\\n\"05.10.2011\",1.8317\\r\\n\"04.10.2011\",1.8575\\r\\n\"03.10.2011\",1.893\\r\\n\"30.09.2011\",1.879\\r\\n\"29.09.2011\",1.8425\\r\\n\"28.09.2011\",1.8372\\r\\n\"27.09.2011\",1.8042\\r\\n\"26.09.2011\",1.8225\\r\\n\"23.09.2011\",1.8333\\r\\n\"22.09.2011\",1.9033\\r\\n\"21.09.2011\",1.8838\\r\\n\"20.09.2011\",1.7856\\r\\n\"19.09.2011\",1.7997\\r\\n\"16.09.2011\",1.7327\\r\\n\"15.09.2011\",1.705\\r\\n\"14.09.2011\",1.714\\r\\n\"13.09.2011\",1.71\\r\\n\"12.09.2011\",1.7037\\r\\n\"09.09.2011\",1.6729\\r\\n\"08.09.2011\",1.6595\\r\\n\"07.09.2011\",1.654\\r\\n\"06.09.2011\",1.6553\\r\\n\"05.09.2011\",1.6454\\r\\n\"02.09.2011\",1.6415\\r\\n\"01.09.2011\",1.62\\r\\n\"31.08.2011\",1.5892\\r\\n\"30.08.2011\",1.5963\\r\\n\"29.08.2011\",1.5912\\r\\n\"26.08.2011\",1.6031\\r\\n\"25.08.2011\",1.6096\\r\\n\"24.08.2011\",1.6137\\r\\n\"23.08.2011\",1.5968\\r\\n\"22.08.2011\",1.6073\\r\\n\"19.08.2011\",1.5998\\r\\n\"18.08.2011\",1.5989\\r\\n\"17.08.2011\",1.5888\\r\\n\"16.08.2011\",1.5899\\r\\n\"15.08.2011\",1.5882\\r\\n\"12.08.2011\",1.611\\r\\n\"11.08.2011\",1.6272\\r\\n\"10.08.2011\",1.6235\\r\\n\"09.08.2011\",1.5894\\r\\n\"08.08.2011\",1.6265\\r\\n\"05.08.2011\",1.5759\\r\\n\"04.08.2011\",1.5873\\r\\n\"03.08.2011\",1.5621\\r\\n\"02.08.2011\",1.566\\r\\n\"01.08.2011\",1.5666\\r\\n\"29.07.2011\",1.549\\r\\n\"28.07.2011\",1.567\\r\\n\"27.07.2011\",1.5553\\r\\n\"26.07.2011\",1.5383\\r\\n\"25.07.2011\",1.5402\\r\\n\"22.07.2011\",1.5522\\r\\n\"21.07.2011\",1.5527\\r\\n\"20.07.2011\",1.5654\\r\\n\"19.07.2011\",1.5663\\r\\n\"18.07.2011\",1.5771\\r\\n\"15.07.2011\",1.5746\\r\\n\"14.07.2011\",1.577\\r\\n\"13.07.2011\",1.5719\\r\\n\"12.07.2011\",1.5795\\r\\n\"11.07.2011\",1.5803\\r\\n\"08.07.2011\",1.5654\\r\\n\"07.07.2011\",1.5553\\r\\n\"06.07.2011\",1.5692\\r\\n\"05.07.2011\",1.5653\\r\\n\"04.07.2011\",1.5527\\r\\n\"01.07.2011\",1.5573\\r\\n\"30.06.2011\",1.5622\\r\\n\"29.06.2011\",1.5674\\r\\n\"28.06.2011\",1.5762\\r\\n\"27.06.2011\",1.594\\r\\n\"24.06.2011\",1.6044\\r\\n\"23.06.2011\",1.5913\\r\\n\"22.06.2011\",1.5914\\r\\n\"21.06.2011\",1.5865\\r\\n\"20.06.2011\",1.5962\\r\\n\"17.06.2011\",1.598\\r\\n\"16.06.2011\",1.6024\\r\\n\"15.06.2011\",1.6002\\r\\n\"14.06.2011\",1.5828\\r\\n\"13.06.2011\",1.5832\\r\\n\"10.06.2011\",1.5963\\r\\n\"09.06.2011\",1.5829\\r\\n\"08.06.2011\",1.5812\\r\\n\"07.06.2011\",1.5808\\r\\n\"06.06.2011\",1.5841\\r\\n\"03.06.2011\",1.576\\r\\n\"02.06.2011\",1.5754\\r\\n\"01.06.2011\",1.5933\\r\\n\"31.05.2011\",1.58\\r\\n\"30.05.2011\",1.5885\\r\\n\"27.05.2011\",1.5945\\r\\n\"26.05.2011\",1.6158\\r\\n\"25.05.2011\",1.6289\\r\\n\"24.05.2011\",1.624\\r\\n\"23.05.2011\",1.6335\\r\\n\"20.05.2011\",1.6225\\r\\n\"19.05.2011\",1.6165\\r\\n\"18.05.2011\",1.6093\\r\\n\"17.05.2011\",1.6159\\r\\n\"16.05.2011\",1.6346\\r\\n\"13.05.2011\",1.6361\\r\\n\"12.05.2011\",1.6196\\r\\n\"11.05.2011\",1.6209\\r\\n\"10.05.2011\",1.6037\\r\\n\"09.05.2011\",1.6134\\r\\n\"06.05.2011\",1.6153\\r\\n\"05.05.2011\",1.6215\\r\\n\"04.05.2011\",1.6158\\r\\n\"03.05.2011\",1.5883\\r\\n\"02.05.2011\",1.5888\\r\\n\"29.04.2011\",1.5775\\r\\n\"28.04.2011\",1.5817\\r\\n\"27.04.2011\",1.5669\\r\\n\"26.04.2011\",1.5619\\r\\n\"25.04.2011\",1.5685\\r\\n\"22.04.2011\",1.564\\r\\n\"21.04.2011\",1.564\\r\\n\"20.04.2011\",1.5664\\r\\n\"19.04.2011\",1.5755\\r\\n\"18.04.2011\",1.5882\\r\\n\"15.04.2011\",1.5758\\r\\n\"14.04.2011\",1.5778\\r\\n\"13.04.2011\",1.5862\\r\\n\"12.04.2011\",1.596\\r\\n\"11.04.2011\",1.5829\\r\\n\"08.04.2011\",1.5689\\r\\n\"07.04.2011\",1.586\\r\\n\"06.04.2011\",1.6149\\r\\n\"05.04.2011\",1.6082\\r\\n\"04.04.2011\",1.6072\\r\\n\"01.04.2011\",1.6275\\r\\n\"31.03.2011\",1.632\\r\\n\"30.03.2011\",1.6284\\r\\n\"29.03.2011\",1.646\\r\\n\"28.03.2011\",1.6629\\r\\n\"25.03.2011\",1.6615\\r\\n\"24.03.2011\",1.6593\\r\\n\"23.03.2011\",1.6611\\r\\n\"22.03.2011\",1.6595\\r\\n\"21.03.2011\",1.6669\\r\\n\"18.03.2011\",1.6655\\r\\n\"17.03.2011\",1.6782\\r\\n\"16.03.2011\",1.6757\\r\\n\"15.03.2011\",1.6655\\r\\n\"14.03.2011\",1.6593\\r\\n\"11.03.2011\",1.665\\r\\n\"10.03.2011\",1.6623\\r\\n\"09.03.2011\",1.6538\\r\\n\"08.03.2011\",1.654\\r\\n\"07.03.2011\",1.6526\\r\\n\"04.03.2011\",1.6555\\r\\n\"03.03.2011\",1.6489\\r\\n\"02.03.2011\",1.6575\\r\\n\"01.03.2011\",1.6633\\r\\n\"28.02.2011\",1.6638\\r\\n\"25.02.2011\",1.6632\\r\\n\"24.02.2011\",1.664\\r\\n\"23.02.2011\",1.6745\\r\\n\"22.02.2011\",1.6721\\r\\n\"21.02.2011\",1.6684\\r\\n\"18.02.2011\",1.6628\\r\\n\"17.02.2011\",1.6615\\r\\n\"16.02.2011\",1.6705\\r\\n\"15.02.2011\",1.669\\r\\n\"14.02.2011\",1.667\\r\\n\"11.02.2011\",1.6656\\r\\n\"10.02.2011\",1.6686\\r\\n\"09.02.2011\",1.6596\\r\\n\"08.02.2011\",1.665\\r\\n\"07.02.2011\",1.6789\\r\\n\"04.02.2011\",1.6735\\r\\n\"03.02.2011\",1.6683\\r\\n\"02.02.2011\",1.6681\\r\\n\"01.02.2011\",1.6648\\r\\n\"31.01.2011\",1.6675\\r\\n\"28.01.2011\",1.6823\\r\\n\"27.01.2011\",1.6762\\r\\n\"26.01.2011\",1.6678\\r\\n\"25.01.2011\",1.6717\\r\\n\"24.01.2011\",1.6713\\r\\n\"21.01.2011\",1.6764\\r\\n\"20.01.2011\",1.6738\\r\\n\"19.01.2011\",1.6705\\r\\n\"18.01.2011\",1.6742\\r\\n\"17.01.2011\",1.6801\\r\\n\"14.01.2011\",1.6856\\r\\n\"13.01.2011\",1.6726\\r\\n\"12.01.2011\",1.6731\\r\\n\"11.01.2011\",1.6834\\r\\n\"10.01.2011\",1.6888\\r\\n\"07.01.2011\",1.6832\\r\\n\"06.01.2011\",1.6856\\r\\n\"05.01.2011\",1.6737\\r\\n\"04.01.2011\",1.661\\r\\n\"03.01.2011\",1.647\\r\\n\"31.12.2010\",1.6595\\r\\n\"30.12.2010\",1.66\\r\\n\"29.12.2010\",1.677\\r\\n\"28.12.2010\",1.6912\\r\\n\"27.12.2010\",1.6856\\r\\n\"24.12.2010\",1.6909\\r\\n\"23.12.2010\",1.6903\\r\\n\"22.12.2010\",1.6999\\r\\n\"21.12.2010\",1.6952\\r\\n\"20.12.2010\",1.7062\\r\\n\"17.12.2010\",1.7138\\r\\n\"16.12.2010\",1.7031\\r\\n\"15.12.2010\",1.7096\\r\\n\"14.12.2010\",1.6971\\r\\n\"13.12.2010\",1.6935\\r\\n\"10.12.2010\",1.7066\\r\\n\"09.12.2010\",1.7094\\r\\n\"08.12.2010\",1.6898\\r\\n\"07.12.2010\",1.682\\r\\n\"06.12.2010\",1.6749\\r\\n\"03.12.2010\",1.6875\\r\\n\"02.12.2010\",1.696\\r\\n\"01.12.2010\",1.7052\\r\\n\"30.11.2010\",1.715\\r\\n\"29.11.2010\",1.7183\\r\\n\"26.11.2010\",1.7269\\r\\n\"25.11.2010\",1.7211\\r\\n\"24.11.2010\",1.721\\r\\n\"23.11.2010\",1.7357\\r\\n\"22.11.2010\",1.7213\\r\\n\"19.11.2010\",1.7154\\r\\n\"18.11.2010\",1.7115\\r\\n\"17.11.2010\",1.7264\\r\\n\"16.11.2010\",1.7403\\r\\n\"15.11.2010\",1.7218\\r\\n\"12.11.2010\",1.7219\\r\\n\"11.11.2010\",1.7158\\r\\n\"10.11.2010\",1.7076\\r\\n\"09.11.2010\",1.7007\\r\\n\"08.11.2010\",1.7003\\r\\n\"05.11.2010\",1.6785\\r\\n\"04.11.2010\",1.67\\r\\n\"03.11.2010\",1.6899\\r\\n\"02.11.2010\",1.7039\\r\\n\"01.11.2010\",1.7038\\r\\n\"29.10.2010\",1.7012\\r\\n\"28.10.2010\",1.7045\\r\\n\"27.10.2010\",1.7203\\r\\n\"26.10.2010\",1.7033\\r\\n\"25.10.2010\",1.6958\\r\\n\"22.10.2010\",1.7059\\r\\n\"21.10.2010\",1.6969\\r\\n\"20.10.2010\",1.6762\\r\\n\"19.10.2010\",1.6824\\r\\n\"18.10.2010\",1.6725\\r\\n\"15.10.2010\",1.6656\\r\\n\"14.10.2010\",1.6597\\r\\n\"13.10.2010\",1.6522\\r\\n\"12.10.2010\",1.6707\\r\\n\"11.10.2010\",1.6706\\r\\n\"08.10.2010\",1.6656\\r\\n\"07.10.2010\",1.6812\\r\\n\"06.10.2010\",1.6782\\r\\n\"05.10.2010\",1.6636\\r\\n\"04.10.2010\",1.6977\\r\\n\"01.10.2010\",1.6897\\r\\n\"30.09.2010\",1.6876\\r\\n\"29.09.2010\",1.7005\\r\\n\"28.09.2010\",1.708\\r\\n\"27.09.2010\",1.7099\\r\\n\"24.09.2010\",1.7088\\r\\n\"23.09.2010\",1.7228\\r\\n\"22.09.2010\",1.7187\\r\\n\"21.09.2010\",1.7116\\r\\n\"20.09.2010\",1.7328\\r\\n\"17.09.2010\",1.7217\\r\\n\"16.09.2010\",1.7123\\r\\n\"15.09.2010\",1.7237\\r\\n\"14.09.2010\",1.71\\r\\n\"13.09.2010\",1.7098\\r\\n\"10.09.2010\",1.7218\\r\\n\"09.09.2010\",1.7201\\r\\n\"08.09.2010\",1.7256\\r\\n\"07.09.2010\",1.734\\r\\n\"06.09.2010\",1.7269\\r\\n\"03.09.2010\",1.7325\\r\\n\"02.09.2010\",1.7256\\r\\n\"01.09.2010\",1.745\\r\\n\"31.08.2010\",1.755\\r\\n\"30.08.2010\",1.759\\r\\n\"27.08.2010\",1.7493\\r\\n\"26.08.2010\",1.7616\\r\\n\"25.08.2010\",1.7635\\r\\n\"24.08.2010\",1.7713\\r\\n\"23.08.2010\",1.77\\r\\n\"20.08.2010\",1.7562\\r\\n\"19.08.2010\",1.7569\\r\\n\"18.08.2010\",1.7515\\r\\n\"17.08.2010\",1.7549\\r\\n\"16.08.2010\",1.757\\r\\n\"13.08.2010\",1.7723\\r\\n\"12.08.2010\",1.7687\\r\\n\"11.08.2010\",1.774\\r\\n\"10.08.2010\",1.7527\\r\\n\"09.08.2010\",1.748\\r\\n\"06.08.2010\",1.76\\r\\n\"05.08.2010\",1.7525\\r\\n\"04.08.2010\",1.7517\\r\\n\"03.08.2010\",1.7557\\r\\n\"02.08.2010\",1.7511\\r\\n\"30.07.2010\",1.754\\r\\n\"29.07.2010\",1.7599\\r\\n\"28.07.2010\",1.7658\\r\\n\"27.07.2010\",1.7687\\r\\n\"26.07.2010\",1.7622\\r\\n\"23.07.2010\",1.7732\\r\\n\"22.07.2010\",1.7578\\r\\n\"21.07.2010\",1.7807\\r\\n\"20.07.2010\",1.7738\\r\\n\"19.07.2010\",1.7924\\r\\n\"16.07.2010\",1.783\\r\\n\"15.07.2010\",1.7631\\r\\n\"14.07.2010\",1.7631\\r\\n\"13.07.2010\",1.754\\r\\n\"12.07.2010\",1.7607\\r\\n\"09.07.2010\",1.7585\\r\\n\"08.07.2010\",1.7639\\r\\n\"07.07.2010\",1.7658\\r\\n\"06.07.2010\",1.7792\\r\\n\"05.07.2010\",1.7751\\r\\n\"02.07.2010\",1.771\\r\\n\"01.07.2010\",1.7901\\r\\n\"30.06.2010\",1.8039\\r\\n\"29.06.2010\",1.8119\\r\\n\"28.06.2010\",1.7814\\r\\n\"25.06.2010\",1.7785\\r\\n\"24.06.2010\",1.7822\\r\\n\"23.06.2010\",1.7873\\r\\n\"22.06.2010\",1.7881\\r\\n\"21.06.2010\",1.7712\\r\\n\"18.06.2010\",1.7713\\r\\n\"17.06.2010\",1.7808\\r\\n\"16.06.2010\",1.7853\\r\\n\"15.06.2010\",1.7847\\r\\n\"14.06.2010\",1.8113\\r\\n\"11.06.2010\",1.8092\\r\\n\"10.06.2010\",1.8025\\r\\n\"09.06.2010\",1.8502\\r\\n\"08.06.2010\",1.8538\\r\\n\"07.06.2010\",1.8795\\r\\n\"04.06.2010\",1.8647\\r\\n\"03.06.2010\",1.8196\\r\\n\"02.06.2010\",1.818\\r\\n\"01.06.2010\",1.848\\r\\n\"31.05.2010\",1.8201\\r\\n\"28.05.2010\",1.8173\\r\\n\"27.05.2010\",1.8143\\r\\n\"26.05.2010\",1.8722\\r\\n\"25.05.2010\",1.8438\\r\\n\"24.05.2010\",1.8695\\r\\n\"21.05.2010\",1.853\\r\\n\"20.05.2010\",1.8819\\r\\n\"19.05.2010\",1.8272\\r\\n\"18.05.2010\",1.8206\\r\\n\"17.05.2010\",1.8003\\r\\n\"14.05.2010\",1.7993\\r\\n\"13.05.2010\",1.7736\\r\\n\"12.05.2010\",1.7723\\r\\n\"11.05.2010\",1.7892\\r\\n\"10.05.2010\",1.7715\\r\\n\"07.05.2010\",1.837\\r\\n\"06.05.2010\",1.8547\\r\\n\"05.05.2010\",1.7933\\r\\n\"04.05.2010\",1.7635\\r\\n\"03.05.2010\",1.7272\\r\\n\"30.04.2010\",1.7375\\r\\n\"29.04.2010\",1.729\\r\\n\"28.04.2010\",1.751\\r\\n\"27.04.2010\",1.7711\\r\\n\"26.04.2010\",1.7462\\r\\n\"23.04.2010\",1.7567\\r\\n\"22.04.2010\",1.7643\\r\\n\"21.04.2010\",1.7523\\r\\n\"20.04.2010\",1.7523\\r\\n\"19.04.2010\",1.755\\r\\n\"16.04.2010\",1.7575\\r\\n\"15.04.2010\",1.7487\\r\\n\"14.04.2010\",1.7449\\r\\n\"13.04.2010\",1.7495\\r\\n\"12.04.2010\",1.7537\\r\\n\"09.04.2010\",1.7652\\r\\n\"08.04.2010\",1.7795\\r\\n\"07.04.2010\",1.781\\r\\n\"06.04.2010\",1.7544\\r\\n\"05.04.2010\",1.7611\\r\\n\"02.04.2010\",1.765\\r\\n\"01.04.2010\",1.7647\\r\\n\"31.03.2010\",1.7837\\r\\n\"30.03.2010\",1.7891\\r\\n\"29.03.2010\",1.7949\\r\\n\"26.03.2010\",1.8181\\r\\n\"25.03.2010\",1.8197\\r\\n\"24.03.2010\",1.8002\\r\\n\"23.03.2010\",1.7767\\r\\n\"22.03.2010\",1.7869\\r\\n\"19.03.2010\",1.8009\\r\\n\"18.03.2010\",1.791\\r\\n\"17.03.2010\",1.7674\\r\\n\"16.03.2010\",1.7673\\r\\n\"15.03.2010\",1.7635\\r\\n\"12.03.2010\",1.763\\r\\n\"11.03.2010\",1.7641\\r\\n\"10.03.2010\",1.7685\\r\\n\"09.03.2010\",1.7752\\r\\n\"08.03.2010\",1.7873\\r\\n\"05.03.2010\",1.7784\\r\\n\"04.03.2010\",1.7885\\r\\n\"03.03.2010\",1.79\\r\\n\"02.03.2010\",1.7919\\r\\n\"01.03.2010\",1.7957\\r\\n\"26.02.2010\",1.8072\\r\\n\"25.02.2010\",1.8235\\r\\n\"24.02.2010\",1.825\\r\\n\"23.02.2010\",1.8255\\r\\n\"22.02.2010\",1.8115\\r\\n\"19.02.2010\",1.8045\\r\\n\"18.02.2010\",1.8275\\r\\n\"17.02.2010\",1.8326\\r\\n\"16.02.2010\",1.8379\\r\\n\"15.02.2010\",1.8545\\r\\n\"12.02.2010\",1.8509\\r\\n\"11.02.2010\",1.8535\\r\\n\"10.02.2010\",1.8565\\r\\n\"09.02.2010\",1.8475\\r\\n\"08.02.2010\",1.8762\\r\\n\"05.02.2010\",1.882\\r\\n\"04.02.2010\",1.8739\\r\\n\"03.02.2010\",1.8505\\r\\n\"02.02.2010\",1.8297\\r\\n\"01.02.2010\",1.8575\\r\\n\"29.01.2010\",1.885\\r\\n\"28.01.2010\",1.87\\r\\n\"27.01.2010\",1.853\\r\\n\"26.01.2010\",1.836\\r\\n\"25.01.2010\",1.821\\r\\n\"22.01.2010\",1.8162\\r\\n\"21.01.2010\",1.8035\\r\\n\"20.01.2010\",1.7895\\r\\n\"19.01.2010\",1.7708\\r\\n\"18.01.2010\",1.76\\r\\n\"15.01.2010\",1.7717\\r\\n\"14.01.2010\",1.7585\\r\\n\"13.01.2010\",1.757\\r\\n\"12.01.2010\",1.748\\r\\n\"11.01.2010\",1.736\\r\\n\"08.01.2010\",1.7262\\r\\n\"07.01.2010\",1.7465\\r\\n\"06.01.2010\",1.7325\\r\\n\"05.01.2010\",1.731\\r\\n\"04.01.2010\",1.7212\\r\\n\"01.01.2010\",1.743\\r\\n'}"
            ]
          },
          "metadata": {},
          "execution_count": 25
        }
      ]
    },
    {
      "cell_type": "code",
      "source": [
        "arquivo = \"USD_BRL_hist.csv\"\n",
        "flights = spark\\\n",
        "        .read.format(\"csv\")\\\n",
        "        .option(\"inferSchema\", \"True\")\\\n",
        "        .option(\"header\", \"True\")\\\n",
        "        .csv(arquivo)"
      ],
      "metadata": {
        "id": "7YOK7U1mLxNf"
      },
      "execution_count": null,
      "outputs": []
    },
    {
      "cell_type": "code",
      "source": [
        "#Verificando o shape do pyspark dataframe\n",
        "print((flights.count(), len(flights.columns)))"
      ],
      "metadata": {
        "colab": {
          "base_uri": "https://localhost:8080/"
        },
        "id": "Pj8IDBR9Mtev",
        "outputId": "785e4a3f-83be-41d7-dc64-2dea4caa580e"
      },
      "execution_count": null,
      "outputs": [
        {
          "output_type": "stream",
          "name": "stdout",
          "text": [
            "(2608, 2)\n"
          ]
        }
      ]
    },
    {
      "cell_type": "code",
      "source": [
        "flights.show(10)"
      ],
      "metadata": {
        "colab": {
          "base_uri": "https://localhost:8080/"
        },
        "id": "iy9EmU8EM4i3",
        "outputId": "00557aeb-654c-4388-c5d2-fd72482a45db"
      },
      "execution_count": null,
      "outputs": [
        {
          "output_type": "stream",
          "name": "stdout",
          "text": [
            "+----------+-------+\n",
            "|      Data|USD_BRL|\n",
            "+----------+-------+\n",
            "|31.12.2019| 4.0195|\n",
            "|30.12.2019| 4.0195|\n",
            "|27.12.2019|  4.046|\n",
            "|26.12.2019|  4.056|\n",
            "|25.12.2019| 4.0838|\n",
            "|24.12.2019| 4.0838|\n",
            "|23.12.2019| 4.0835|\n",
            "|20.12.2019| 4.1025|\n",
            "|19.12.2019| 4.0697|\n",
            "|18.12.2019| 4.0634|\n",
            "+----------+-------+\n",
            "only showing top 10 rows\n",
            "\n"
          ]
        }
      ]
    },
    {
      "cell_type": "code",
      "source": [
        "flights.printSchema()"
      ],
      "metadata": {
        "colab": {
          "base_uri": "https://localhost:8080/"
        },
        "id": "T11z5SNtNEwT",
        "outputId": "b1435131-5e90-4d84-bc87-15ffc1ba5912"
      },
      "execution_count": null,
      "outputs": [
        {
          "output_type": "stream",
          "name": "stdout",
          "text": [
            "root\n",
            " |-- Data: string (nullable = true)\n",
            " |-- USD_BRL: double (nullable = true)\n",
            "\n"
          ]
        }
      ]
    },
    {
      "cell_type": "code",
      "source": [
        "from pyspark.sql.functions import col"
      ],
      "metadata": {
        "id": "w4o0R05ZNJUO"
      },
      "execution_count": null,
      "outputs": []
    },
    {
      "cell_type": "code",
      "source": [
        "#Retirando as datas e passando colunas para tipos corretos.\n",
        "flights = flights.\\\n",
        "        withColumn(\"new_Data\", col(\"Data\").cast(\"string\")).drop(\"Data\")"
      ],
      "metadata": {
        "id": "bIguosWTNUUt"
      },
      "execution_count": null,
      "outputs": []
    },
    {
      "cell_type": "code",
      "source": [
        "#renomeando colunas\n",
        "flights = flights.withColumnRenamed(\"new_Data\",\"Data\")"
      ],
      "metadata": {
        "id": "KHX3lYY_N1-X"
      },
      "execution_count": null,
      "outputs": []
    },
    {
      "cell_type": "code",
      "source": [
        "#Registrando o dataframe em uma view temporária\n",
        "flights.createOrReplaceTempView(\"flights\")\n",
        "\n",
        "query = \"FROM flights SELECT * LIMIT 10\"\n",
        "\n",
        "# Selecionando as 10 primeiras linhas do dataset\n",
        "flights10 = spark.sql(query)\n",
        "\n",
        "# Print o resultado\n",
        "flights10.show()"
      ],
      "metadata": {
        "colab": {
          "base_uri": "https://localhost:8080/"
        },
        "id": "kkBIMUq5N8FC",
        "outputId": "eeb8fa97-439f-488b-bcf2-cba7173d8892"
      },
      "execution_count": null,
      "outputs": [
        {
          "output_type": "stream",
          "name": "stdout",
          "text": [
            "+-------+----------+\n",
            "|USD_BRL|      Data|\n",
            "+-------+----------+\n",
            "| 4.0195|31.12.2019|\n",
            "| 4.0195|30.12.2019|\n",
            "|  4.046|27.12.2019|\n",
            "|  4.056|26.12.2019|\n",
            "| 4.0838|25.12.2019|\n",
            "| 4.0838|24.12.2019|\n",
            "| 4.0835|23.12.2019|\n",
            "| 4.1025|20.12.2019|\n",
            "| 4.0697|19.12.2019|\n",
            "| 4.0634|18.12.2019|\n",
            "+-------+----------+\n",
            "\n"
          ]
        }
      ]
    },
    {
      "cell_type": "code",
      "source": [
        "sqlDF = spark.sql(\"SELECT * FROM flights LIMIT 10\")\n",
        "sqlDF.show()"
      ],
      "metadata": {
        "colab": {
          "base_uri": "https://localhost:8080/"
        },
        "id": "lOv0tlrGOHip",
        "outputId": "f4865840-9cd1-4bf8-f387-c8774047065a"
      },
      "execution_count": null,
      "outputs": [
        {
          "output_type": "stream",
          "name": "stdout",
          "text": [
            "+-------+----------+\n",
            "|USD_BRL|      Data|\n",
            "+-------+----------+\n",
            "| 4.0195|31.12.2019|\n",
            "| 4.0195|30.12.2019|\n",
            "|  4.046|27.12.2019|\n",
            "|  4.056|26.12.2019|\n",
            "| 4.0838|25.12.2019|\n",
            "| 4.0838|24.12.2019|\n",
            "| 4.0835|23.12.2019|\n",
            "| 4.1025|20.12.2019|\n",
            "| 4.0697|19.12.2019|\n",
            "| 4.0634|18.12.2019|\n",
            "+-------+----------+\n",
            "\n"
          ]
        }
      ]
    },
    {
      "cell_type": "code",
      "source": [
        "# Registtrando o dataframe como view global\n",
        "flights.createGlobalTempView(\"flights1\")\n",
        "\n",
        "# A visão temporária global está vinculada a um banco de dados preservado pelo sistema `global_temp`\n",
        "spark.sql(\"SELECT * FROM global_temp.flights LIMIT 10\").show()"
      ],
      "metadata": {
        "colab": {
          "base_uri": "https://localhost:8080/"
        },
        "id": "wxYKXChQVXb6",
        "outputId": "e9a41c7e-e4a0-44b9-e66a-c7c319e6831e"
      },
      "execution_count": null,
      "outputs": [
        {
          "output_type": "stream",
          "name": "stdout",
          "text": [
            "+-------+----------+\n",
            "|USD_BRL|      Data|\n",
            "+-------+----------+\n",
            "| 4.0195|31.12.2019|\n",
            "| 4.0195|30.12.2019|\n",
            "|  4.046|27.12.2019|\n",
            "|  4.056|26.12.2019|\n",
            "| 4.0838|25.12.2019|\n",
            "| 4.0838|24.12.2019|\n",
            "| 4.0835|23.12.2019|\n",
            "| 4.1025|20.12.2019|\n",
            "| 4.0697|19.12.2019|\n",
            "| 4.0634|18.12.2019|\n",
            "+-------+----------+\n",
            "\n"
          ]
        }
      ]
    },
    {
      "cell_type": "code",
      "source": [
        "query = \"SELECT Data, USD_BRL, COUNT(*) as N FROM flights GROUP BY Data, USD_BRL\"\n",
        "\n",
        "# Rodando a query\n",
        "flight_counts = spark.sql(query)"
      ],
      "metadata": {
        "id": "6I-b3FegXB2D"
      },
      "execution_count": null,
      "outputs": []
    },
    {
      "cell_type": "code",
      "source": [
        "import pandas as pd"
      ],
      "metadata": {
        "id": "gM8IiWCFYJKt"
      },
      "execution_count": null,
      "outputs": []
    },
    {
      "cell_type": "code",
      "source": [
        "# Convertendo o resultado para pandas\n",
        "df = flights.toPandas()"
      ],
      "metadata": {
        "id": "0UNUMj5vYNUh"
      },
      "execution_count": null,
      "outputs": []
    },
    {
      "cell_type": "code",
      "source": [
        "df.head()"
      ],
      "metadata": {
        "colab": {
          "base_uri": "https://localhost:8080/",
          "height": 206
        },
        "id": "vic-_q4mYRF5",
        "outputId": "3cc026ca-4520-4e83-8493-7cac0a107da5"
      },
      "execution_count": null,
      "outputs": [
        {
          "output_type": "execute_result",
          "data": {
            "text/plain": [
              "   USD_BRL        Data\n",
              "0   4.0195  31.12.2019\n",
              "1   4.0195  30.12.2019\n",
              "2   4.0460  27.12.2019\n",
              "3   4.0560  26.12.2019\n",
              "4   4.0838  25.12.2019"
            ],
            "text/html": [
              "\n",
              "  <div id=\"df-758c0224-51b5-441c-9224-5ed8590b8f91\">\n",
              "    <div class=\"colab-df-container\">\n",
              "      <div>\n",
              "<style scoped>\n",
              "    .dataframe tbody tr th:only-of-type {\n",
              "        vertical-align: middle;\n",
              "    }\n",
              "\n",
              "    .dataframe tbody tr th {\n",
              "        vertical-align: top;\n",
              "    }\n",
              "\n",
              "    .dataframe thead th {\n",
              "        text-align: right;\n",
              "    }\n",
              "</style>\n",
              "<table border=\"1\" class=\"dataframe\">\n",
              "  <thead>\n",
              "    <tr style=\"text-align: right;\">\n",
              "      <th></th>\n",
              "      <th>USD_BRL</th>\n",
              "      <th>Data</th>\n",
              "    </tr>\n",
              "  </thead>\n",
              "  <tbody>\n",
              "    <tr>\n",
              "      <th>0</th>\n",
              "      <td>4.0195</td>\n",
              "      <td>31.12.2019</td>\n",
              "    </tr>\n",
              "    <tr>\n",
              "      <th>1</th>\n",
              "      <td>4.0195</td>\n",
              "      <td>30.12.2019</td>\n",
              "    </tr>\n",
              "    <tr>\n",
              "      <th>2</th>\n",
              "      <td>4.0460</td>\n",
              "      <td>27.12.2019</td>\n",
              "    </tr>\n",
              "    <tr>\n",
              "      <th>3</th>\n",
              "      <td>4.0560</td>\n",
              "      <td>26.12.2019</td>\n",
              "    </tr>\n",
              "    <tr>\n",
              "      <th>4</th>\n",
              "      <td>4.0838</td>\n",
              "      <td>25.12.2019</td>\n",
              "    </tr>\n",
              "  </tbody>\n",
              "</table>\n",
              "</div>\n",
              "      <button class=\"colab-df-convert\" onclick=\"convertToInteractive('df-758c0224-51b5-441c-9224-5ed8590b8f91')\"\n",
              "              title=\"Convert this dataframe to an interactive table.\"\n",
              "              style=\"display:none;\">\n",
              "        \n",
              "  <svg xmlns=\"http://www.w3.org/2000/svg\" height=\"24px\"viewBox=\"0 0 24 24\"\n",
              "       width=\"24px\">\n",
              "    <path d=\"M0 0h24v24H0V0z\" fill=\"none\"/>\n",
              "    <path d=\"M18.56 5.44l.94 2.06.94-2.06 2.06-.94-2.06-.94-.94-2.06-.94 2.06-2.06.94zm-11 1L8.5 8.5l.94-2.06 2.06-.94-2.06-.94L8.5 2.5l-.94 2.06-2.06.94zm10 10l.94 2.06.94-2.06 2.06-.94-2.06-.94-.94-2.06-.94 2.06-2.06.94z\"/><path d=\"M17.41 7.96l-1.37-1.37c-.4-.4-.92-.59-1.43-.59-.52 0-1.04.2-1.43.59L10.3 9.45l-7.72 7.72c-.78.78-.78 2.05 0 2.83L4 21.41c.39.39.9.59 1.41.59.51 0 1.02-.2 1.41-.59l7.78-7.78 2.81-2.81c.8-.78.8-2.07 0-2.86zM5.41 20L4 18.59l7.72-7.72 1.47 1.35L5.41 20z\"/>\n",
              "  </svg>\n",
              "      </button>\n",
              "      \n",
              "  <style>\n",
              "    .colab-df-container {\n",
              "      display:flex;\n",
              "      flex-wrap:wrap;\n",
              "      gap: 12px;\n",
              "    }\n",
              "\n",
              "    .colab-df-convert {\n",
              "      background-color: #E8F0FE;\n",
              "      border: none;\n",
              "      border-radius: 50%;\n",
              "      cursor: pointer;\n",
              "      display: none;\n",
              "      fill: #1967D2;\n",
              "      height: 32px;\n",
              "      padding: 0 0 0 0;\n",
              "      width: 32px;\n",
              "    }\n",
              "\n",
              "    .colab-df-convert:hover {\n",
              "      background-color: #E2EBFA;\n",
              "      box-shadow: 0px 1px 2px rgba(60, 64, 67, 0.3), 0px 1px 3px 1px rgba(60, 64, 67, 0.15);\n",
              "      fill: #174EA6;\n",
              "    }\n",
              "\n",
              "    [theme=dark] .colab-df-convert {\n",
              "      background-color: #3B4455;\n",
              "      fill: #D2E3FC;\n",
              "    }\n",
              "\n",
              "    [theme=dark] .colab-df-convert:hover {\n",
              "      background-color: #434B5C;\n",
              "      box-shadow: 0px 1px 3px 1px rgba(0, 0, 0, 0.15);\n",
              "      filter: drop-shadow(0px 1px 2px rgba(0, 0, 0, 0.3));\n",
              "      fill: #FFFFFF;\n",
              "    }\n",
              "  </style>\n",
              "\n",
              "      <script>\n",
              "        const buttonEl =\n",
              "          document.querySelector('#df-758c0224-51b5-441c-9224-5ed8590b8f91 button.colab-df-convert');\n",
              "        buttonEl.style.display =\n",
              "          google.colab.kernel.accessAllowed ? 'block' : 'none';\n",
              "\n",
              "        async function convertToInteractive(key) {\n",
              "          const element = document.querySelector('#df-758c0224-51b5-441c-9224-5ed8590b8f91');\n",
              "          const dataTable =\n",
              "            await google.colab.kernel.invokeFunction('convertToInteractive',\n",
              "                                                     [key], {});\n",
              "          if (!dataTable) return;\n",
              "\n",
              "          const docLinkHtml = 'Like what you see? Visit the ' +\n",
              "            '<a target=\"_blank\" href=https://colab.research.google.com/notebooks/data_table.ipynb>data table notebook</a>'\n",
              "            + ' to learn more about interactive tables.';\n",
              "          element.innerHTML = '';\n",
              "          dataTable['output_type'] = 'display_data';\n",
              "          await google.colab.output.renderOutput(dataTable, element);\n",
              "          const docLink = document.createElement('div');\n",
              "          docLink.innerHTML = docLinkHtml;\n",
              "          element.appendChild(docLink);\n",
              "        }\n",
              "      </script>\n",
              "    </div>\n",
              "  </div>\n",
              "  "
            ]
          },
          "metadata": {},
          "execution_count": 62
        }
      ]
    },
    {
      "cell_type": "code",
      "source": [
        "# Criando pandas dataframe\n",
        "arq = \"USD_BRL_hist.csv\"\n",
        "pd_temp = pd.read_csv(arq)"
      ],
      "metadata": {
        "id": "Dg4BJEaEYgDD"
      },
      "execution_count": null,
      "outputs": []
    },
    {
      "cell_type": "code",
      "source": [
        "pd_temp.head()"
      ],
      "metadata": {
        "colab": {
          "base_uri": "https://localhost:8080/",
          "height": 206
        },
        "id": "n-i8F8H9aOTC",
        "outputId": "0e5753e0-1eda-4181-d23a-73ca7ab927dd"
      },
      "execution_count": null,
      "outputs": [
        {
          "output_type": "execute_result",
          "data": {
            "text/plain": [
              "         Data  USD_BRL\n",
              "0  31.12.2019   4.0195\n",
              "1  30.12.2019   4.0195\n",
              "2  27.12.2019   4.0460\n",
              "3  26.12.2019   4.0560\n",
              "4  25.12.2019   4.0838"
            ],
            "text/html": [
              "\n",
              "  <div id=\"df-07f7dc30-8bba-4805-9006-5e99c47e3511\">\n",
              "    <div class=\"colab-df-container\">\n",
              "      <div>\n",
              "<style scoped>\n",
              "    .dataframe tbody tr th:only-of-type {\n",
              "        vertical-align: middle;\n",
              "    }\n",
              "\n",
              "    .dataframe tbody tr th {\n",
              "        vertical-align: top;\n",
              "    }\n",
              "\n",
              "    .dataframe thead th {\n",
              "        text-align: right;\n",
              "    }\n",
              "</style>\n",
              "<table border=\"1\" class=\"dataframe\">\n",
              "  <thead>\n",
              "    <tr style=\"text-align: right;\">\n",
              "      <th></th>\n",
              "      <th>Data</th>\n",
              "      <th>USD_BRL</th>\n",
              "    </tr>\n",
              "  </thead>\n",
              "  <tbody>\n",
              "    <tr>\n",
              "      <th>0</th>\n",
              "      <td>31.12.2019</td>\n",
              "      <td>4.0195</td>\n",
              "    </tr>\n",
              "    <tr>\n",
              "      <th>1</th>\n",
              "      <td>30.12.2019</td>\n",
              "      <td>4.0195</td>\n",
              "    </tr>\n",
              "    <tr>\n",
              "      <th>2</th>\n",
              "      <td>27.12.2019</td>\n",
              "      <td>4.0460</td>\n",
              "    </tr>\n",
              "    <tr>\n",
              "      <th>3</th>\n",
              "      <td>26.12.2019</td>\n",
              "      <td>4.0560</td>\n",
              "    </tr>\n",
              "    <tr>\n",
              "      <th>4</th>\n",
              "      <td>25.12.2019</td>\n",
              "      <td>4.0838</td>\n",
              "    </tr>\n",
              "  </tbody>\n",
              "</table>\n",
              "</div>\n",
              "      <button class=\"colab-df-convert\" onclick=\"convertToInteractive('df-07f7dc30-8bba-4805-9006-5e99c47e3511')\"\n",
              "              title=\"Convert this dataframe to an interactive table.\"\n",
              "              style=\"display:none;\">\n",
              "        \n",
              "  <svg xmlns=\"http://www.w3.org/2000/svg\" height=\"24px\"viewBox=\"0 0 24 24\"\n",
              "       width=\"24px\">\n",
              "    <path d=\"M0 0h24v24H0V0z\" fill=\"none\"/>\n",
              "    <path d=\"M18.56 5.44l.94 2.06.94-2.06 2.06-.94-2.06-.94-.94-2.06-.94 2.06-2.06.94zm-11 1L8.5 8.5l.94-2.06 2.06-.94-2.06-.94L8.5 2.5l-.94 2.06-2.06.94zm10 10l.94 2.06.94-2.06 2.06-.94-2.06-.94-.94-2.06-.94 2.06-2.06.94z\"/><path d=\"M17.41 7.96l-1.37-1.37c-.4-.4-.92-.59-1.43-.59-.52 0-1.04.2-1.43.59L10.3 9.45l-7.72 7.72c-.78.78-.78 2.05 0 2.83L4 21.41c.39.39.9.59 1.41.59.51 0 1.02-.2 1.41-.59l7.78-7.78 2.81-2.81c.8-.78.8-2.07 0-2.86zM5.41 20L4 18.59l7.72-7.72 1.47 1.35L5.41 20z\"/>\n",
              "  </svg>\n",
              "      </button>\n",
              "      \n",
              "  <style>\n",
              "    .colab-df-container {\n",
              "      display:flex;\n",
              "      flex-wrap:wrap;\n",
              "      gap: 12px;\n",
              "    }\n",
              "\n",
              "    .colab-df-convert {\n",
              "      background-color: #E8F0FE;\n",
              "      border: none;\n",
              "      border-radius: 50%;\n",
              "      cursor: pointer;\n",
              "      display: none;\n",
              "      fill: #1967D2;\n",
              "      height: 32px;\n",
              "      padding: 0 0 0 0;\n",
              "      width: 32px;\n",
              "    }\n",
              "\n",
              "    .colab-df-convert:hover {\n",
              "      background-color: #E2EBFA;\n",
              "      box-shadow: 0px 1px 2px rgba(60, 64, 67, 0.3), 0px 1px 3px 1px rgba(60, 64, 67, 0.15);\n",
              "      fill: #174EA6;\n",
              "    }\n",
              "\n",
              "    [theme=dark] .colab-df-convert {\n",
              "      background-color: #3B4455;\n",
              "      fill: #D2E3FC;\n",
              "    }\n",
              "\n",
              "    [theme=dark] .colab-df-convert:hover {\n",
              "      background-color: #434B5C;\n",
              "      box-shadow: 0px 1px 3px 1px rgba(0, 0, 0, 0.15);\n",
              "      filter: drop-shadow(0px 1px 2px rgba(0, 0, 0, 0.3));\n",
              "      fill: #FFFFFF;\n",
              "    }\n",
              "  </style>\n",
              "\n",
              "      <script>\n",
              "        const buttonEl =\n",
              "          document.querySelector('#df-07f7dc30-8bba-4805-9006-5e99c47e3511 button.colab-df-convert');\n",
              "        buttonEl.style.display =\n",
              "          google.colab.kernel.accessAllowed ? 'block' : 'none';\n",
              "\n",
              "        async function convertToInteractive(key) {\n",
              "          const element = document.querySelector('#df-07f7dc30-8bba-4805-9006-5e99c47e3511');\n",
              "          const dataTable =\n",
              "            await google.colab.kernel.invokeFunction('convertToInteractive',\n",
              "                                                     [key], {});\n",
              "          if (!dataTable) return;\n",
              "\n",
              "          const docLinkHtml = 'Like what you see? Visit the ' +\n",
              "            '<a target=\"_blank\" href=https://colab.research.google.com/notebooks/data_table.ipynb>data table notebook</a>'\n",
              "            + ' to learn more about interactive tables.';\n",
              "          element.innerHTML = '';\n",
              "          dataTable['output_type'] = 'display_data';\n",
              "          await google.colab.output.renderOutput(dataTable, element);\n",
              "          const docLink = document.createElement('div');\n",
              "          docLink.innerHTML = docLinkHtml;\n",
              "          element.appendChild(docLink);\n",
              "        }\n",
              "      </script>\n",
              "    </div>\n",
              "  </div>\n",
              "  "
            ]
          },
          "metadata": {},
          "execution_count": 65
        }
      ]
    },
    {
      "cell_type": "code",
      "source": [
        "# Cria spark_temp a partir de pd_temp\n",
        "spark_temp = spark.createDataFrame(pd_temp)"
      ],
      "metadata": {
        "id": "02xQgi9HaS_o"
      },
      "execution_count": null,
      "outputs": []
    },
    {
      "cell_type": "code",
      "source": [
        "spark_temp.show(5)"
      ],
      "metadata": {
        "colab": {
          "base_uri": "https://localhost:8080/"
        },
        "id": "OHIBhPqZaW5A",
        "outputId": "935bb18e-beb8-475b-e8c3-88c5d09a79ff"
      },
      "execution_count": null,
      "outputs": [
        {
          "output_type": "stream",
          "name": "stdout",
          "text": [
            "+----------+-------+\n",
            "|      Data|USD_BRL|\n",
            "+----------+-------+\n",
            "|31.12.2019| 4.0195|\n",
            "|30.12.2019| 4.0195|\n",
            "|27.12.2019|  4.046|\n",
            "|26.12.2019|  4.056|\n",
            "|25.12.2019| 4.0838|\n",
            "+----------+-------+\n",
            "only showing top 5 rows\n",
            "\n"
          ]
        }
      ]
    }
  ]
}
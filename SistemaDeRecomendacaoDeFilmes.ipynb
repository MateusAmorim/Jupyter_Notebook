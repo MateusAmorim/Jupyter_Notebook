{
 "cells": [
  {
   "cell_type": "markdown",
   "id": "23c5e5ab",
   "metadata": {},
   "source": [
    "# Criação de sistema de recomendação de filmes\n",
    "\n",
    "#### https://www.kaggle.com/code/alyssonbispopereira/recomenda-o-de-filmes-ptbr/data"
   ]
  },
  {
   "cell_type": "code",
   "execution_count": 2,
   "id": "cf71fb6a",
   "metadata": {},
   "outputs": [],
   "source": [
    "#importando bibliotecas\n",
    "import pandas as pd\n",
    "import numpy as np"
   ]
  },
  {
   "cell_type": "code",
   "execution_count": 3,
   "id": "aa8bcaa2",
   "metadata": {},
   "outputs": [
    {
     "data": {
      "text/html": [
       "<div>\n",
       "<style scoped>\n",
       "    .dataframe tbody tr th:only-of-type {\n",
       "        vertical-align: middle;\n",
       "    }\n",
       "\n",
       "    .dataframe tbody tr th {\n",
       "        vertical-align: top;\n",
       "    }\n",
       "\n",
       "    .dataframe thead th {\n",
       "        text-align: right;\n",
       "    }\n",
       "</style>\n",
       "<table border=\"1\" class=\"dataframe\">\n",
       "  <thead>\n",
       "    <tr style=\"text-align: right;\">\n",
       "      <th></th>\n",
       "      <th>adult</th>\n",
       "      <th>belongs_to_collection</th>\n",
       "      <th>budget</th>\n",
       "      <th>genres</th>\n",
       "      <th>homepage</th>\n",
       "      <th>id</th>\n",
       "      <th>imdb_id</th>\n",
       "      <th>original_language</th>\n",
       "      <th>original_title</th>\n",
       "      <th>overview</th>\n",
       "      <th>...</th>\n",
       "      <th>release_date</th>\n",
       "      <th>revenue</th>\n",
       "      <th>runtime</th>\n",
       "      <th>spoken_languages</th>\n",
       "      <th>status</th>\n",
       "      <th>tagline</th>\n",
       "      <th>title</th>\n",
       "      <th>video</th>\n",
       "      <th>vote_average</th>\n",
       "      <th>vote_count</th>\n",
       "    </tr>\n",
       "  </thead>\n",
       "  <tbody>\n",
       "    <tr>\n",
       "      <th>0</th>\n",
       "      <td>False</td>\n",
       "      <td>{'id': 10194, 'name': 'Toy Story Collection', ...</td>\n",
       "      <td>30000000</td>\n",
       "      <td>[{'id': 16, 'name': 'Animation'}, {'id': 35, '...</td>\n",
       "      <td>http://toystory.disney.com/toy-story</td>\n",
       "      <td>862</td>\n",
       "      <td>tt0114709</td>\n",
       "      <td>en</td>\n",
       "      <td>Toy Story</td>\n",
       "      <td>Led by Woody, Andy's toys live happily in his ...</td>\n",
       "      <td>...</td>\n",
       "      <td>1995-10-30</td>\n",
       "      <td>373554033.0</td>\n",
       "      <td>81.0</td>\n",
       "      <td>[{'iso_639_1': 'en', 'name': 'English'}]</td>\n",
       "      <td>Released</td>\n",
       "      <td>NaN</td>\n",
       "      <td>Toy Story</td>\n",
       "      <td>False</td>\n",
       "      <td>7.7</td>\n",
       "      <td>5415.0</td>\n",
       "    </tr>\n",
       "    <tr>\n",
       "      <th>1</th>\n",
       "      <td>False</td>\n",
       "      <td>NaN</td>\n",
       "      <td>65000000</td>\n",
       "      <td>[{'id': 12, 'name': 'Adventure'}, {'id': 14, '...</td>\n",
       "      <td>NaN</td>\n",
       "      <td>8844</td>\n",
       "      <td>tt0113497</td>\n",
       "      <td>en</td>\n",
       "      <td>Jumanji</td>\n",
       "      <td>When siblings Judy and Peter discover an encha...</td>\n",
       "      <td>...</td>\n",
       "      <td>1995-12-15</td>\n",
       "      <td>262797249.0</td>\n",
       "      <td>104.0</td>\n",
       "      <td>[{'iso_639_1': 'en', 'name': 'English'}, {'iso...</td>\n",
       "      <td>Released</td>\n",
       "      <td>Roll the dice and unleash the excitement!</td>\n",
       "      <td>Jumanji</td>\n",
       "      <td>False</td>\n",
       "      <td>6.9</td>\n",
       "      <td>2413.0</td>\n",
       "    </tr>\n",
       "    <tr>\n",
       "      <th>2</th>\n",
       "      <td>False</td>\n",
       "      <td>{'id': 119050, 'name': 'Grumpy Old Men Collect...</td>\n",
       "      <td>0</td>\n",
       "      <td>[{'id': 10749, 'name': 'Romance'}, {'id': 35, ...</td>\n",
       "      <td>NaN</td>\n",
       "      <td>15602</td>\n",
       "      <td>tt0113228</td>\n",
       "      <td>en</td>\n",
       "      <td>Grumpier Old Men</td>\n",
       "      <td>A family wedding reignites the ancient feud be...</td>\n",
       "      <td>...</td>\n",
       "      <td>1995-12-22</td>\n",
       "      <td>0.0</td>\n",
       "      <td>101.0</td>\n",
       "      <td>[{'iso_639_1': 'en', 'name': 'English'}]</td>\n",
       "      <td>Released</td>\n",
       "      <td>Still Yelling. Still Fighting. Still Ready for...</td>\n",
       "      <td>Grumpier Old Men</td>\n",
       "      <td>False</td>\n",
       "      <td>6.5</td>\n",
       "      <td>92.0</td>\n",
       "    </tr>\n",
       "    <tr>\n",
       "      <th>3</th>\n",
       "      <td>False</td>\n",
       "      <td>NaN</td>\n",
       "      <td>16000000</td>\n",
       "      <td>[{'id': 35, 'name': 'Comedy'}, {'id': 18, 'nam...</td>\n",
       "      <td>NaN</td>\n",
       "      <td>31357</td>\n",
       "      <td>tt0114885</td>\n",
       "      <td>en</td>\n",
       "      <td>Waiting to Exhale</td>\n",
       "      <td>Cheated on, mistreated and stepped on, the wom...</td>\n",
       "      <td>...</td>\n",
       "      <td>1995-12-22</td>\n",
       "      <td>81452156.0</td>\n",
       "      <td>127.0</td>\n",
       "      <td>[{'iso_639_1': 'en', 'name': 'English'}]</td>\n",
       "      <td>Released</td>\n",
       "      <td>Friends are the people who let you be yourself...</td>\n",
       "      <td>Waiting to Exhale</td>\n",
       "      <td>False</td>\n",
       "      <td>6.1</td>\n",
       "      <td>34.0</td>\n",
       "    </tr>\n",
       "  </tbody>\n",
       "</table>\n",
       "<p>4 rows × 24 columns</p>\n",
       "</div>"
      ],
      "text/plain": [
       "   adult                              belongs_to_collection    budget  \\\n",
       "0  False  {'id': 10194, 'name': 'Toy Story Collection', ...  30000000   \n",
       "1  False                                                NaN  65000000   \n",
       "2  False  {'id': 119050, 'name': 'Grumpy Old Men Collect...         0   \n",
       "3  False                                                NaN  16000000   \n",
       "\n",
       "                                              genres  \\\n",
       "0  [{'id': 16, 'name': 'Animation'}, {'id': 35, '...   \n",
       "1  [{'id': 12, 'name': 'Adventure'}, {'id': 14, '...   \n",
       "2  [{'id': 10749, 'name': 'Romance'}, {'id': 35, ...   \n",
       "3  [{'id': 35, 'name': 'Comedy'}, {'id': 18, 'nam...   \n",
       "\n",
       "                               homepage     id    imdb_id original_language  \\\n",
       "0  http://toystory.disney.com/toy-story    862  tt0114709                en   \n",
       "1                                   NaN   8844  tt0113497                en   \n",
       "2                                   NaN  15602  tt0113228                en   \n",
       "3                                   NaN  31357  tt0114885                en   \n",
       "\n",
       "      original_title                                           overview  ...  \\\n",
       "0          Toy Story  Led by Woody, Andy's toys live happily in his ...  ...   \n",
       "1            Jumanji  When siblings Judy and Peter discover an encha...  ...   \n",
       "2   Grumpier Old Men  A family wedding reignites the ancient feud be...  ...   \n",
       "3  Waiting to Exhale  Cheated on, mistreated and stepped on, the wom...  ...   \n",
       "\n",
       "  release_date      revenue runtime  \\\n",
       "0   1995-10-30  373554033.0    81.0   \n",
       "1   1995-12-15  262797249.0   104.0   \n",
       "2   1995-12-22          0.0   101.0   \n",
       "3   1995-12-22   81452156.0   127.0   \n",
       "\n",
       "                                    spoken_languages    status  \\\n",
       "0           [{'iso_639_1': 'en', 'name': 'English'}]  Released   \n",
       "1  [{'iso_639_1': 'en', 'name': 'English'}, {'iso...  Released   \n",
       "2           [{'iso_639_1': 'en', 'name': 'English'}]  Released   \n",
       "3           [{'iso_639_1': 'en', 'name': 'English'}]  Released   \n",
       "\n",
       "                                             tagline              title  \\\n",
       "0                                                NaN          Toy Story   \n",
       "1          Roll the dice and unleash the excitement!            Jumanji   \n",
       "2  Still Yelling. Still Fighting. Still Ready for...   Grumpier Old Men   \n",
       "3  Friends are the people who let you be yourself...  Waiting to Exhale   \n",
       "\n",
       "   video vote_average vote_count  \n",
       "0  False          7.7     5415.0  \n",
       "1  False          6.9     2413.0  \n",
       "2  False          6.5       92.0  \n",
       "3  False          6.1       34.0  \n",
       "\n",
       "[4 rows x 24 columns]"
      ]
     },
     "execution_count": 3,
     "metadata": {},
     "output_type": "execute_result"
    }
   ],
   "source": [
    "#importando a base de dados com os filmes\n",
    "filmes = pd.read_csv('movies_metadata.csv', low_memory=False)\n",
    "filmes.head(4)"
   ]
  },
  {
   "cell_type": "code",
   "execution_count": 4,
   "id": "b72e6d38",
   "metadata": {},
   "outputs": [
    {
     "data": {
      "text/html": [
       "<div>\n",
       "<style scoped>\n",
       "    .dataframe tbody tr th:only-of-type {\n",
       "        vertical-align: middle;\n",
       "    }\n",
       "\n",
       "    .dataframe tbody tr th {\n",
       "        vertical-align: top;\n",
       "    }\n",
       "\n",
       "    .dataframe thead th {\n",
       "        text-align: right;\n",
       "    }\n",
       "</style>\n",
       "<table border=\"1\" class=\"dataframe\">\n",
       "  <thead>\n",
       "    <tr style=\"text-align: right;\">\n",
       "      <th></th>\n",
       "      <th>userId</th>\n",
       "      <th>movieId</th>\n",
       "      <th>rating</th>\n",
       "      <th>timestamp</th>\n",
       "    </tr>\n",
       "  </thead>\n",
       "  <tbody>\n",
       "    <tr>\n",
       "      <th>0</th>\n",
       "      <td>1</td>\n",
       "      <td>110</td>\n",
       "      <td>1.0</td>\n",
       "      <td>1425941529</td>\n",
       "    </tr>\n",
       "    <tr>\n",
       "      <th>1</th>\n",
       "      <td>1</td>\n",
       "      <td>147</td>\n",
       "      <td>4.5</td>\n",
       "      <td>1425942435</td>\n",
       "    </tr>\n",
       "    <tr>\n",
       "      <th>2</th>\n",
       "      <td>1</td>\n",
       "      <td>858</td>\n",
       "      <td>5.0</td>\n",
       "      <td>1425941523</td>\n",
       "    </tr>\n",
       "    <tr>\n",
       "      <th>3</th>\n",
       "      <td>1</td>\n",
       "      <td>1221</td>\n",
       "      <td>5.0</td>\n",
       "      <td>1425941546</td>\n",
       "    </tr>\n",
       "  </tbody>\n",
       "</table>\n",
       "</div>"
      ],
      "text/plain": [
       "   userId  movieId  rating   timestamp\n",
       "0       1      110     1.0  1425941529\n",
       "1       1      147     4.5  1425942435\n",
       "2       1      858     5.0  1425941523\n",
       "3       1     1221     5.0  1425941546"
      ]
     },
     "execution_count": 4,
     "metadata": {},
     "output_type": "execute_result"
    }
   ],
   "source": [
    "#importando a base de dados de avaliação\n",
    "avaliacoes = pd.read_csv('ratings.csv')\n",
    "avaliacoes.head(4)"
   ]
  },
  {
   "cell_type": "markdown",
   "id": "ad7b6567",
   "metadata": {},
   "source": [
    "# Fazer pré processamento dos dados"
   ]
  },
  {
   "cell_type": "code",
   "execution_count": 5,
   "id": "d278ea35",
   "metadata": {},
   "outputs": [
    {
     "data": {
      "text/html": [
       "<div>\n",
       "<style scoped>\n",
       "    .dataframe tbody tr th:only-of-type {\n",
       "        vertical-align: middle;\n",
       "    }\n",
       "\n",
       "    .dataframe tbody tr th {\n",
       "        vertical-align: top;\n",
       "    }\n",
       "\n",
       "    .dataframe thead th {\n",
       "        text-align: right;\n",
       "    }\n",
       "</style>\n",
       "<table border=\"1\" class=\"dataframe\">\n",
       "  <thead>\n",
       "    <tr style=\"text-align: right;\">\n",
       "      <th></th>\n",
       "      <th>ID_FILME</th>\n",
       "      <th>TITULO</th>\n",
       "      <th>LINGUAGEM</th>\n",
       "      <th>QT_AVALIACOES</th>\n",
       "    </tr>\n",
       "  </thead>\n",
       "  <tbody>\n",
       "    <tr>\n",
       "      <th>0</th>\n",
       "      <td>862</td>\n",
       "      <td>Toy Story</td>\n",
       "      <td>en</td>\n",
       "      <td>5415.0</td>\n",
       "    </tr>\n",
       "    <tr>\n",
       "      <th>1</th>\n",
       "      <td>8844</td>\n",
       "      <td>Jumanji</td>\n",
       "      <td>en</td>\n",
       "      <td>2413.0</td>\n",
       "    </tr>\n",
       "    <tr>\n",
       "      <th>2</th>\n",
       "      <td>15602</td>\n",
       "      <td>Grumpier Old Men</td>\n",
       "      <td>en</td>\n",
       "      <td>92.0</td>\n",
       "    </tr>\n",
       "    <tr>\n",
       "      <th>3</th>\n",
       "      <td>31357</td>\n",
       "      <td>Waiting to Exhale</td>\n",
       "      <td>en</td>\n",
       "      <td>34.0</td>\n",
       "    </tr>\n",
       "  </tbody>\n",
       "</table>\n",
       "</div>"
      ],
      "text/plain": [
       "  ID_FILME             TITULO LINGUAGEM  QT_AVALIACOES\n",
       "0      862          Toy Story        en         5415.0\n",
       "1     8844            Jumanji        en         2413.0\n",
       "2    15602   Grumpier Old Men        en           92.0\n",
       "3    31357  Waiting to Exhale        en           34.0"
      ]
     },
     "execution_count": 5,
     "metadata": {},
     "output_type": "execute_result"
    }
   ],
   "source": [
    "# filtrando as colunas que serão usadas\n",
    "# renomeando as variaveis\n",
    "\n",
    "filmes = filmes [['id','original_title','original_language','vote_count']]\n",
    "\n",
    "# renomeando\n",
    "filmes.rename(columns = {'id':'ID_FILME','original_title':'TITULO','original_language':'LINGUAGEM','vote_count':'QT_AVALIACOES'}, inplace = True)\n",
    "\n",
    "#exibindo\n",
    "filmes.head(4)"
   ]
  },
  {
   "cell_type": "code",
   "execution_count": 6,
   "id": "adc0821c",
   "metadata": {},
   "outputs": [
    {
     "data": {
      "text/html": [
       "<div>\n",
       "<style scoped>\n",
       "    .dataframe tbody tr th:only-of-type {\n",
       "        vertical-align: middle;\n",
       "    }\n",
       "\n",
       "    .dataframe tbody tr th {\n",
       "        vertical-align: top;\n",
       "    }\n",
       "\n",
       "    .dataframe thead th {\n",
       "        text-align: right;\n",
       "    }\n",
       "</style>\n",
       "<table border=\"1\" class=\"dataframe\">\n",
       "  <thead>\n",
       "    <tr style=\"text-align: right;\">\n",
       "      <th></th>\n",
       "      <th>ID_USUARIO</th>\n",
       "      <th>ID_FILME</th>\n",
       "      <th>AVALIACAO</th>\n",
       "    </tr>\n",
       "  </thead>\n",
       "  <tbody>\n",
       "    <tr>\n",
       "      <th>0</th>\n",
       "      <td>1</td>\n",
       "      <td>110</td>\n",
       "      <td>1.0</td>\n",
       "    </tr>\n",
       "    <tr>\n",
       "      <th>1</th>\n",
       "      <td>1</td>\n",
       "      <td>147</td>\n",
       "      <td>4.5</td>\n",
       "    </tr>\n",
       "    <tr>\n",
       "      <th>2</th>\n",
       "      <td>1</td>\n",
       "      <td>858</td>\n",
       "      <td>5.0</td>\n",
       "    </tr>\n",
       "    <tr>\n",
       "      <th>3</th>\n",
       "      <td>1</td>\n",
       "      <td>1221</td>\n",
       "      <td>5.0</td>\n",
       "    </tr>\n",
       "  </tbody>\n",
       "</table>\n",
       "</div>"
      ],
      "text/plain": [
       "   ID_USUARIO  ID_FILME  AVALIACAO\n",
       "0           1       110        1.0\n",
       "1           1       147        4.5\n",
       "2           1       858        5.0\n",
       "3           1      1221        5.0"
      ]
     },
     "execution_count": 6,
     "metadata": {},
     "output_type": "execute_result"
    }
   ],
   "source": [
    "# filtrando as variaveis que serão usadas\n",
    "avaliacoes = avaliacoes [['userId','movieId','rating']]\n",
    "\n",
    "# renomeando as variaveis \n",
    "avaliacoes.rename(columns = {'userId':'ID_USUARIO','movieId':'ID_FILME','rating':'AVALIACAO'}, inplace = True)\n",
    "\n",
    "avaliacoes.head(4)"
   ]
  },
  {
   "cell_type": "code",
   "execution_count": 7,
   "id": "7a5248cc",
   "metadata": {},
   "outputs": [
    {
     "data": {
      "text/plain": [
       "ID_FILME          0\n",
       "TITULO            0\n",
       "LINGUAGEM        11\n",
       "QT_AVALIACOES     6\n",
       "dtype: int64"
      ]
     },
     "execution_count": 7,
     "metadata": {},
     "output_type": "execute_result"
    }
   ],
   "source": [
    "# verificando se existe valores nulos\n",
    "filmes.isna().sum()"
   ]
  },
  {
   "cell_type": "code",
   "execution_count": 8,
   "id": "29da49b7",
   "metadata": {},
   "outputs": [],
   "source": [
    "# como são poucos valores faltantes, podemos remover\n",
    "filmes.dropna(inplace=True)"
   ]
  },
  {
   "cell_type": "code",
   "execution_count": 9,
   "id": "e122847b",
   "metadata": {},
   "outputs": [
    {
     "data": {
      "text/plain": [
       "ID_FILME         0\n",
       "TITULO           0\n",
       "LINGUAGEM        0\n",
       "QT_AVALIACOES    0\n",
       "dtype: int64"
      ]
     },
     "execution_count": 9,
     "metadata": {},
     "output_type": "execute_result"
    }
   ],
   "source": [
    "# verificando se os valores nulos foram removidos\n",
    "filmes.isna().sum()"
   ]
  },
  {
   "cell_type": "code",
   "execution_count": 10,
   "id": "7da9b0ce",
   "metadata": {},
   "outputs": [
    {
     "data": {
      "text/plain": [
       "ID_USUARIO    0\n",
       "ID_FILME      0\n",
       "AVALIACAO     0\n",
       "dtype: int64"
      ]
     },
     "execution_count": 10,
     "metadata": {},
     "output_type": "execute_result"
    }
   ],
   "source": [
    "# verificando se existe valores nulos em 'avaliacoes'\n",
    "avaliacoes.isna().sum()"
   ]
  },
  {
   "cell_type": "code",
   "execution_count": 11,
   "id": "0bde936f",
   "metadata": {},
   "outputs": [
    {
     "data": {
      "text/plain": [
       "45811     18276\n",
       "8659       9279\n",
       "270123     7638\n",
       "179792     7515\n",
       "228291     7410\n",
       "          ...  \n",
       "30155         1\n",
       "9641          1\n",
       "164717        1\n",
       "243426        1\n",
       "234625        1\n",
       "Name: ID_USUARIO, Length: 270896, dtype: int64"
      ]
     },
     "execution_count": 11,
     "metadata": {},
     "output_type": "execute_result"
    }
   ],
   "source": [
    "#observando a quantidade de avaliacoes por usuarios\n",
    "avaliacoes['ID_USUARIO'].value_counts()"
   ]
  },
  {
   "cell_type": "code",
   "execution_count": 12,
   "id": "ccf25ce9",
   "metadata": {},
   "outputs": [
    {
     "data": {
      "text/plain": [
       "(2509,)"
      ]
     },
     "execution_count": 12,
     "metadata": {},
     "output_type": "execute_result"
    }
   ],
   "source": [
    "# pegando apenas os usuarios que fizeram assima de 999 avaliacoes\n",
    "qt_avaliacoes = avaliacoes['ID_USUARIO'].value_counts() > 999\n",
    "y = qt_avaliacoes[qt_avaliacoes].index\n",
    "y.shape"
   ]
  },
  {
   "cell_type": "code",
   "execution_count": 13,
   "id": "b7826670",
   "metadata": {},
   "outputs": [
    {
     "data": {
      "text/plain": [
       "Int64Index([ 45811,   8659, 270123, 179792, 228291, 243443,  98415, 229879,\n",
       "             98787, 172224,\n",
       "            ...\n",
       "            227649, 244253, 257117,  30733, 196384,  53075, 220764, 214328,\n",
       "             14354, 182812],\n",
       "           dtype='int64', length=2509)"
      ]
     },
     "execution_count": 13,
     "metadata": {},
     "output_type": "execute_result"
    }
   ],
   "source": [
    "# observando os usuarios selecionados\n",
    "y"
   ]
  },
  {
   "cell_type": "code",
   "execution_count": 14,
   "id": "fdd0fc35",
   "metadata": {},
   "outputs": [
    {
     "data": {
      "text/plain": [
       "(26024289, 3)"
      ]
     },
     "execution_count": 14,
     "metadata": {},
     "output_type": "execute_result"
    }
   ],
   "source": [
    "#observando o tamanho do dataset 'avaliacoes'\n",
    "avaliacoes.shape"
   ]
  },
  {
   "cell_type": "code",
   "execution_count": 15,
   "id": "8bc64e63",
   "metadata": {},
   "outputs": [],
   "source": [
    "# pegando os usuarios que avaliaram assima de 999 vezes\n",
    "avaliacoes = avaliacoes[avaliacoes['ID_USUARIO'].isin(y)]"
   ]
  },
  {
   "cell_type": "code",
   "execution_count": 16,
   "id": "c1c42d4a",
   "metadata": {},
   "outputs": [
    {
     "data": {
      "text/plain": [
       "(3844582, 3)"
      ]
     },
     "execution_count": 16,
     "metadata": {},
     "output_type": "execute_result"
    }
   ],
   "source": [
    "# observando tamanho do dataset avaliacoes\n",
    "avaliacoes.shape"
   ]
  },
  {
   "cell_type": "code",
   "execution_count": 17,
   "id": "ee30a4c8",
   "metadata": {},
   "outputs": [
    {
     "data": {
      "text/html": [
       "<div>\n",
       "<style scoped>\n",
       "    .dataframe tbody tr th:only-of-type {\n",
       "        vertical-align: middle;\n",
       "    }\n",
       "\n",
       "    .dataframe tbody tr th {\n",
       "        vertical-align: top;\n",
       "    }\n",
       "\n",
       "    .dataframe thead th {\n",
       "        text-align: right;\n",
       "    }\n",
       "</style>\n",
       "<table border=\"1\" class=\"dataframe\">\n",
       "  <thead>\n",
       "    <tr style=\"text-align: right;\">\n",
       "      <th></th>\n",
       "      <th>ID_USUARIO</th>\n",
       "      <th>ID_FILME</th>\n",
       "      <th>AVALIACAO</th>\n",
       "    </tr>\n",
       "  </thead>\n",
       "  <tbody>\n",
       "    <tr>\n",
       "      <th>17291</th>\n",
       "      <td>229</td>\n",
       "      <td>1</td>\n",
       "      <td>3.0</td>\n",
       "    </tr>\n",
       "    <tr>\n",
       "      <th>17292</th>\n",
       "      <td>229</td>\n",
       "      <td>2</td>\n",
       "      <td>3.0</td>\n",
       "    </tr>\n",
       "    <tr>\n",
       "      <th>17293</th>\n",
       "      <td>229</td>\n",
       "      <td>4</td>\n",
       "      <td>2.0</td>\n",
       "    </tr>\n",
       "    <tr>\n",
       "      <th>17294</th>\n",
       "      <td>229</td>\n",
       "      <td>5</td>\n",
       "      <td>1.0</td>\n",
       "    </tr>\n",
       "    <tr>\n",
       "      <th>17295</th>\n",
       "      <td>229</td>\n",
       "      <td>7</td>\n",
       "      <td>2.0</td>\n",
       "    </tr>\n",
       "  </tbody>\n",
       "</table>\n",
       "</div>"
      ],
      "text/plain": [
       "       ID_USUARIO  ID_FILME  AVALIACAO\n",
       "17291         229         1        3.0\n",
       "17292         229         2        3.0\n",
       "17293         229         4        2.0\n",
       "17294         229         5        1.0\n",
       "17295         229         7        2.0"
      ]
     },
     "execution_count": 17,
     "metadata": {},
     "output_type": "execute_result"
    }
   ],
   "source": [
    "#observando o dataframe avaliacoes\n",
    "avaliacoes.head()"
   ]
  },
  {
   "cell_type": "code",
   "execution_count": 18,
   "id": "720e784c",
   "metadata": {},
   "outputs": [
    {
     "data": {
      "text/html": [
       "<div>\n",
       "<style scoped>\n",
       "    .dataframe tbody tr th:only-of-type {\n",
       "        vertical-align: middle;\n",
       "    }\n",
       "\n",
       "    .dataframe tbody tr th {\n",
       "        vertical-align: top;\n",
       "    }\n",
       "\n",
       "    .dataframe thead th {\n",
       "        text-align: right;\n",
       "    }\n",
       "</style>\n",
       "<table border=\"1\" class=\"dataframe\">\n",
       "  <thead>\n",
       "    <tr style=\"text-align: right;\">\n",
       "      <th></th>\n",
       "      <th>ID_FILME</th>\n",
       "      <th>TITULO</th>\n",
       "      <th>LINGUAGEM</th>\n",
       "      <th>QT_AVALIACOES</th>\n",
       "    </tr>\n",
       "  </thead>\n",
       "  <tbody>\n",
       "    <tr>\n",
       "      <th>0</th>\n",
       "      <td>862</td>\n",
       "      <td>Toy Story</td>\n",
       "      <td>en</td>\n",
       "      <td>5415.0</td>\n",
       "    </tr>\n",
       "    <tr>\n",
       "      <th>1</th>\n",
       "      <td>8844</td>\n",
       "      <td>Jumanji</td>\n",
       "      <td>en</td>\n",
       "      <td>2413.0</td>\n",
       "    </tr>\n",
       "    <tr>\n",
       "      <th>2</th>\n",
       "      <td>15602</td>\n",
       "      <td>Grumpier Old Men</td>\n",
       "      <td>en</td>\n",
       "      <td>92.0</td>\n",
       "    </tr>\n",
       "    <tr>\n",
       "      <th>3</th>\n",
       "      <td>31357</td>\n",
       "      <td>Waiting to Exhale</td>\n",
       "      <td>en</td>\n",
       "      <td>34.0</td>\n",
       "    </tr>\n",
       "    <tr>\n",
       "      <th>4</th>\n",
       "      <td>11862</td>\n",
       "      <td>Father of the Bride Part II</td>\n",
       "      <td>en</td>\n",
       "      <td>173.0</td>\n",
       "    </tr>\n",
       "  </tbody>\n",
       "</table>\n",
       "</div>"
      ],
      "text/plain": [
       "  ID_FILME                       TITULO LINGUAGEM  QT_AVALIACOES\n",
       "0      862                    Toy Story        en         5415.0\n",
       "1     8844                      Jumanji        en         2413.0\n",
       "2    15602             Grumpier Old Men        en           92.0\n",
       "3    31357            Waiting to Exhale        en           34.0\n",
       "4    11862  Father of the Bride Part II        en          173.0"
      ]
     },
     "execution_count": 18,
     "metadata": {},
     "output_type": "execute_result"
    }
   ],
   "source": [
    "#observando o dataframe filmes\n",
    "filmes.head()"
   ]
  },
  {
   "cell_type": "code",
   "execution_count": 19,
   "id": "d2ac58e4",
   "metadata": {},
   "outputs": [],
   "source": [
    "# separando somente os filmes que tiveram assima de 999 avaliacoes\n",
    "filmes = filmes[filmes['QT_AVALIACOES'] > 999]"
   ]
  },
  {
   "cell_type": "code",
   "execution_count": 20,
   "id": "b0303261",
   "metadata": {},
   "outputs": [
    {
     "data": {
      "text/plain": [
       "en    1100\n",
       "fr       5\n",
       "ja       5\n",
       "it       3\n",
       "ko       2\n",
       "pt       1\n",
       "de       1\n",
       "es       1\n",
       "cn       1\n",
       "sv       1\n",
       "id       1\n",
       "Name: LINGUAGEM, dtype: int64"
      ]
     },
     "execution_count": 20,
     "metadata": {},
     "output_type": "execute_result"
    }
   ],
   "source": [
    "# separando quantidade de filmes por linguagem\n",
    "filmes_linguagem = filmes['LINGUAGEM'].value_counts()\n",
    "filmes_linguagem.head(20)"
   ]
  },
  {
   "cell_type": "code",
   "execution_count": 21,
   "id": "b33ac53f",
   "metadata": {},
   "outputs": [],
   "source": [
    "# filtrando apenas filmes em inglês(en)\n",
    "filmes = filmes[filmes['LINGUAGEM'] == 'en']"
   ]
  },
  {
   "cell_type": "code",
   "execution_count": 22,
   "id": "b42d65c6",
   "metadata": {},
   "outputs": [
    {
     "name": "stdout",
     "output_type": "stream",
     "text": [
      "<class 'pandas.core.frame.DataFrame'>\n",
      "Int64Index: 1100 entries, 0 to 44842\n",
      "Data columns (total 4 columns):\n",
      " #   Column         Non-Null Count  Dtype  \n",
      "---  ------         --------------  -----  \n",
      " 0   ID_FILME       1100 non-null   object \n",
      " 1   TITULO         1100 non-null   object \n",
      " 2   LINGUAGEM      1100 non-null   object \n",
      " 3   QT_AVALIACOES  1100 non-null   float64\n",
      "dtypes: float64(1), object(3)\n",
      "memory usage: 43.0+ KB\n"
     ]
    }
   ],
   "source": [
    "#observando os tipos das variaveis\n",
    "filmes.info()"
   ]
  },
  {
   "cell_type": "code",
   "execution_count": 23,
   "id": "e0876dec",
   "metadata": {},
   "outputs": [
    {
     "name": "stdout",
     "output_type": "stream",
     "text": [
      "<class 'pandas.core.frame.DataFrame'>\n",
      "Int64Index: 3844582 entries, 17291 to 26023521\n",
      "Data columns (total 3 columns):\n",
      " #   Column      Dtype  \n",
      "---  ------      -----  \n",
      " 0   ID_USUARIO  int64  \n",
      " 1   ID_FILME    int64  \n",
      " 2   AVALIACAO   float64\n",
      "dtypes: float64(1), int64(2)\n",
      "memory usage: 117.3 MB\n"
     ]
    }
   ],
   "source": [
    "avaliacoes.info()"
   ]
  },
  {
   "cell_type": "code",
   "execution_count": 24,
   "id": "f7df81ef",
   "metadata": {},
   "outputs": [],
   "source": [
    "# modificando a variavel id_filme para int para unir os dataframes\n",
    "filmes['ID_FILME'] = filmes['ID_FILME'].astype(int)"
   ]
  },
  {
   "cell_type": "code",
   "execution_count": 25,
   "id": "331f2b77",
   "metadata": {},
   "outputs": [
    {
     "name": "stdout",
     "output_type": "stream",
     "text": [
      "<class 'pandas.core.frame.DataFrame'>\n",
      "Int64Index: 1100 entries, 0 to 44842\n",
      "Data columns (total 4 columns):\n",
      " #   Column         Non-Null Count  Dtype  \n",
      "---  ------         --------------  -----  \n",
      " 0   ID_FILME       1100 non-null   int32  \n",
      " 1   TITULO         1100 non-null   object \n",
      " 2   LINGUAGEM      1100 non-null   object \n",
      " 3   QT_AVALIACOES  1100 non-null   float64\n",
      "dtypes: float64(1), int32(1), object(2)\n",
      "memory usage: 38.7+ KB\n"
     ]
    }
   ],
   "source": [
    "# observando se o tipo da coluna mudou \n",
    "filmes.info()"
   ]
  },
  {
   "cell_type": "code",
   "execution_count": 26,
   "id": "adc755d7",
   "metadata": {},
   "outputs": [
    {
     "data": {
      "text/html": [
       "<div>\n",
       "<style scoped>\n",
       "    .dataframe tbody tr th:only-of-type {\n",
       "        vertical-align: middle;\n",
       "    }\n",
       "\n",
       "    .dataframe tbody tr th {\n",
       "        vertical-align: top;\n",
       "    }\n",
       "\n",
       "    .dataframe thead th {\n",
       "        text-align: right;\n",
       "    }\n",
       "</style>\n",
       "<table border=\"1\" class=\"dataframe\">\n",
       "  <thead>\n",
       "    <tr style=\"text-align: right;\">\n",
       "      <th></th>\n",
       "      <th>ID_USUARIO</th>\n",
       "      <th>ID_FILME</th>\n",
       "      <th>AVALIACAO</th>\n",
       "      <th>TITULO</th>\n",
       "      <th>LINGUAGEM</th>\n",
       "      <th>QT_AVALIACOES</th>\n",
       "    </tr>\n",
       "  </thead>\n",
       "  <tbody>\n",
       "    <tr>\n",
       "      <th>0</th>\n",
       "      <td>229</td>\n",
       "      <td>12</td>\n",
       "      <td>1.0</td>\n",
       "      <td>Finding Nemo</td>\n",
       "      <td>en</td>\n",
       "      <td>6292.0</td>\n",
       "    </tr>\n",
       "    <tr>\n",
       "      <th>1</th>\n",
       "      <td>741</td>\n",
       "      <td>12</td>\n",
       "      <td>3.0</td>\n",
       "      <td>Finding Nemo</td>\n",
       "      <td>en</td>\n",
       "      <td>6292.0</td>\n",
       "    </tr>\n",
       "    <tr>\n",
       "      <th>2</th>\n",
       "      <td>1932</td>\n",
       "      <td>12</td>\n",
       "      <td>0.5</td>\n",
       "      <td>Finding Nemo</td>\n",
       "      <td>en</td>\n",
       "      <td>6292.0</td>\n",
       "    </tr>\n",
       "    <tr>\n",
       "      <th>3</th>\n",
       "      <td>3437</td>\n",
       "      <td>12</td>\n",
       "      <td>2.0</td>\n",
       "      <td>Finding Nemo</td>\n",
       "      <td>en</td>\n",
       "      <td>6292.0</td>\n",
       "    </tr>\n",
       "    <tr>\n",
       "      <th>4</th>\n",
       "      <td>3694</td>\n",
       "      <td>12</td>\n",
       "      <td>1.5</td>\n",
       "      <td>Finding Nemo</td>\n",
       "      <td>en</td>\n",
       "      <td>6292.0</td>\n",
       "    </tr>\n",
       "  </tbody>\n",
       "</table>\n",
       "</div>"
      ],
      "text/plain": [
       "   ID_USUARIO  ID_FILME  AVALIACAO        TITULO LINGUAGEM  QT_AVALIACOES\n",
       "0         229        12        1.0  Finding Nemo        en         6292.0\n",
       "1         741        12        3.0  Finding Nemo        en         6292.0\n",
       "2        1932        12        0.5  Finding Nemo        en         6292.0\n",
       "3        3437        12        2.0  Finding Nemo        en         6292.0\n",
       "4        3694        12        1.5  Finding Nemo        en         6292.0"
      ]
     },
     "execution_count": 26,
     "metadata": {},
     "output_type": "execute_result"
    }
   ],
   "source": [
    "# concatenando os DataFrames(unindo)\n",
    "avaliacoes_e_filmes = avaliacoes.merge(filmes, on = 'ID_FILME')\n",
    "avaliacoes_e_filmes.head()"
   ]
  },
  {
   "cell_type": "code",
   "execution_count": 27,
   "id": "f563ca3f",
   "metadata": {},
   "outputs": [
    {
     "data": {
      "text/plain": [
       "(189882, 6)"
      ]
     },
     "execution_count": 27,
     "metadata": {},
     "output_type": "execute_result"
    }
   ],
   "source": [
    "# observando quantidade de filmes com avaliacoes pelo tamnho do arquivo\n",
    "avaliacoes_e_filmes.shape"
   ]
  },
  {
   "cell_type": "code",
   "execution_count": 28,
   "id": "89812ae5",
   "metadata": {},
   "outputs": [
    {
     "data": {
      "text/plain": [
       "ID_USUARIO       0\n",
       "ID_FILME         0\n",
       "AVALIACAO        0\n",
       "TITULO           0\n",
       "LINGUAGEM        0\n",
       "QT_AVALIACOES    0\n",
       "dtype: int64"
      ]
     },
     "execution_count": 28,
     "metadata": {},
     "output_type": "execute_result"
    }
   ],
   "source": [
    "#observando se ficol valor nulo\n",
    "avaliacoes_e_filmes.isna().sum()"
   ]
  },
  {
   "cell_type": "code",
   "execution_count": 29,
   "id": "a9c2c06b",
   "metadata": {},
   "outputs": [],
   "source": [
    "# descartando valores duplicados\n",
    "avaliacoes_e_filmes.drop_duplicates(['ID_USUARIO','ID_FILME'], inplace = True)"
   ]
  },
  {
   "cell_type": "code",
   "execution_count": 31,
   "id": "118eca65",
   "metadata": {},
   "outputs": [
    {
     "data": {
      "text/plain": [
       "(189882, 6)"
      ]
     },
     "execution_count": 31,
     "metadata": {},
     "output_type": "execute_result"
    }
   ],
   "source": [
    "#observando a quantidade de registros\n",
    "avaliacoes_e_filmes.shape"
   ]
  },
  {
   "cell_type": "code",
   "execution_count": 34,
   "id": "f8c30886",
   "metadata": {},
   "outputs": [],
   "source": [
    "# excluindo variavel ID_FILMES porque não sera utilizada\n",
    "del avaliacoes_e_filmes['ID_FILME']"
   ]
  },
  {
   "cell_type": "code",
   "execution_count": 35,
   "id": "8d35faee",
   "metadata": {},
   "outputs": [
    {
     "data": {
      "text/html": [
       "<div>\n",
       "<style scoped>\n",
       "    .dataframe tbody tr th:only-of-type {\n",
       "        vertical-align: middle;\n",
       "    }\n",
       "\n",
       "    .dataframe tbody tr th {\n",
       "        vertical-align: top;\n",
       "    }\n",
       "\n",
       "    .dataframe thead th {\n",
       "        text-align: right;\n",
       "    }\n",
       "</style>\n",
       "<table border=\"1\" class=\"dataframe\">\n",
       "  <thead>\n",
       "    <tr style=\"text-align: right;\">\n",
       "      <th></th>\n",
       "      <th>ID_USUARIO</th>\n",
       "      <th>AVALIACAO</th>\n",
       "      <th>TITULO</th>\n",
       "      <th>LINGUAGEM</th>\n",
       "      <th>QT_AVALIACOES</th>\n",
       "    </tr>\n",
       "  </thead>\n",
       "  <tbody>\n",
       "    <tr>\n",
       "      <th>0</th>\n",
       "      <td>229</td>\n",
       "      <td>1.0</td>\n",
       "      <td>Finding Nemo</td>\n",
       "      <td>en</td>\n",
       "      <td>6292.0</td>\n",
       "    </tr>\n",
       "    <tr>\n",
       "      <th>1</th>\n",
       "      <td>741</td>\n",
       "      <td>3.0</td>\n",
       "      <td>Finding Nemo</td>\n",
       "      <td>en</td>\n",
       "      <td>6292.0</td>\n",
       "    </tr>\n",
       "    <tr>\n",
       "      <th>2</th>\n",
       "      <td>1932</td>\n",
       "      <td>0.5</td>\n",
       "      <td>Finding Nemo</td>\n",
       "      <td>en</td>\n",
       "      <td>6292.0</td>\n",
       "    </tr>\n",
       "    <tr>\n",
       "      <th>3</th>\n",
       "      <td>3437</td>\n",
       "      <td>2.0</td>\n",
       "      <td>Finding Nemo</td>\n",
       "      <td>en</td>\n",
       "      <td>6292.0</td>\n",
       "    </tr>\n",
       "    <tr>\n",
       "      <th>4</th>\n",
       "      <td>3694</td>\n",
       "      <td>1.5</td>\n",
       "      <td>Finding Nemo</td>\n",
       "      <td>en</td>\n",
       "      <td>6292.0</td>\n",
       "    </tr>\n",
       "  </tbody>\n",
       "</table>\n",
       "</div>"
      ],
      "text/plain": [
       "   ID_USUARIO  AVALIACAO        TITULO LINGUAGEM  QT_AVALIACOES\n",
       "0         229        1.0  Finding Nemo        en         6292.0\n",
       "1         741        3.0  Finding Nemo        en         6292.0\n",
       "2        1932        0.5  Finding Nemo        en         6292.0\n",
       "3        3437        2.0  Finding Nemo        en         6292.0\n",
       "4        3694        1.5  Finding Nemo        en         6292.0"
      ]
     },
     "execution_count": 35,
     "metadata": {},
     "output_type": "execute_result"
    }
   ],
   "source": [
    "#observando o DataFrame\n",
    "avaliacoes_e_filmes.head()"
   ]
  },
  {
   "cell_type": "code",
   "execution_count": 36,
   "id": "c032ac04",
   "metadata": {},
   "outputs": [
    {
     "data": {
      "text/html": [
       "<div>\n",
       "<style scoped>\n",
       "    .dataframe tbody tr th:only-of-type {\n",
       "        vertical-align: middle;\n",
       "    }\n",
       "\n",
       "    .dataframe tbody tr th {\n",
       "        vertical-align: top;\n",
       "    }\n",
       "\n",
       "    .dataframe thead th {\n",
       "        text-align: right;\n",
       "    }\n",
       "</style>\n",
       "<table border=\"1\" class=\"dataframe\">\n",
       "  <thead>\n",
       "    <tr style=\"text-align: right;\">\n",
       "      <th>ID_USUARIO</th>\n",
       "      <th>229</th>\n",
       "      <th>231</th>\n",
       "      <th>741</th>\n",
       "      <th>836</th>\n",
       "      <th>1104</th>\n",
       "      <th>1136</th>\n",
       "      <th>1243</th>\n",
       "      <th>1380</th>\n",
       "      <th>1652</th>\n",
       "      <th>1846</th>\n",
       "      <th>...</th>\n",
       "      <th>269632</th>\n",
       "      <th>269750</th>\n",
       "      <th>269913</th>\n",
       "      <th>270071</th>\n",
       "      <th>270123</th>\n",
       "      <th>270213</th>\n",
       "      <th>270237</th>\n",
       "      <th>270564</th>\n",
       "      <th>270654</th>\n",
       "      <th>270887</th>\n",
       "    </tr>\n",
       "    <tr>\n",
       "      <th>TITULO</th>\n",
       "      <th></th>\n",
       "      <th></th>\n",
       "      <th></th>\n",
       "      <th></th>\n",
       "      <th></th>\n",
       "      <th></th>\n",
       "      <th></th>\n",
       "      <th></th>\n",
       "      <th></th>\n",
       "      <th></th>\n",
       "      <th></th>\n",
       "      <th></th>\n",
       "      <th></th>\n",
       "      <th></th>\n",
       "      <th></th>\n",
       "      <th></th>\n",
       "      <th></th>\n",
       "      <th></th>\n",
       "      <th></th>\n",
       "      <th></th>\n",
       "      <th></th>\n",
       "    </tr>\n",
       "  </thead>\n",
       "  <tbody>\n",
       "    <tr>\n",
       "      <th>10 Things I Hate About You</th>\n",
       "      <td>NaN</td>\n",
       "      <td>NaN</td>\n",
       "      <td>NaN</td>\n",
       "      <td>NaN</td>\n",
       "      <td>NaN</td>\n",
       "      <td>NaN</td>\n",
       "      <td>NaN</td>\n",
       "      <td>NaN</td>\n",
       "      <td>NaN</td>\n",
       "      <td>NaN</td>\n",
       "      <td>...</td>\n",
       "      <td>NaN</td>\n",
       "      <td>2.5</td>\n",
       "      <td>NaN</td>\n",
       "      <td>3.0</td>\n",
       "      <td>3.0</td>\n",
       "      <td>NaN</td>\n",
       "      <td>NaN</td>\n",
       "      <td>NaN</td>\n",
       "      <td>NaN</td>\n",
       "      <td>NaN</td>\n",
       "    </tr>\n",
       "    <tr>\n",
       "      <th>12 Angry Men</th>\n",
       "      <td>NaN</td>\n",
       "      <td>NaN</td>\n",
       "      <td>NaN</td>\n",
       "      <td>NaN</td>\n",
       "      <td>NaN</td>\n",
       "      <td>NaN</td>\n",
       "      <td>NaN</td>\n",
       "      <td>NaN</td>\n",
       "      <td>NaN</td>\n",
       "      <td>NaN</td>\n",
       "      <td>...</td>\n",
       "      <td>NaN</td>\n",
       "      <td>NaN</td>\n",
       "      <td>NaN</td>\n",
       "      <td>NaN</td>\n",
       "      <td>NaN</td>\n",
       "      <td>NaN</td>\n",
       "      <td>NaN</td>\n",
       "      <td>NaN</td>\n",
       "      <td>3.5</td>\n",
       "      <td>NaN</td>\n",
       "    </tr>\n",
       "    <tr>\n",
       "      <th>127 Hours</th>\n",
       "      <td>NaN</td>\n",
       "      <td>NaN</td>\n",
       "      <td>NaN</td>\n",
       "      <td>NaN</td>\n",
       "      <td>NaN</td>\n",
       "      <td>NaN</td>\n",
       "      <td>NaN</td>\n",
       "      <td>NaN</td>\n",
       "      <td>NaN</td>\n",
       "      <td>NaN</td>\n",
       "      <td>...</td>\n",
       "      <td>NaN</td>\n",
       "      <td>NaN</td>\n",
       "      <td>NaN</td>\n",
       "      <td>NaN</td>\n",
       "      <td>NaN</td>\n",
       "      <td>NaN</td>\n",
       "      <td>NaN</td>\n",
       "      <td>NaN</td>\n",
       "      <td>NaN</td>\n",
       "      <td>NaN</td>\n",
       "    </tr>\n",
       "    <tr>\n",
       "      <th>1408</th>\n",
       "      <td>NaN</td>\n",
       "      <td>NaN</td>\n",
       "      <td>NaN</td>\n",
       "      <td>NaN</td>\n",
       "      <td>NaN</td>\n",
       "      <td>NaN</td>\n",
       "      <td>NaN</td>\n",
       "      <td>NaN</td>\n",
       "      <td>NaN</td>\n",
       "      <td>NaN</td>\n",
       "      <td>...</td>\n",
       "      <td>NaN</td>\n",
       "      <td>NaN</td>\n",
       "      <td>NaN</td>\n",
       "      <td>NaN</td>\n",
       "      <td>2.5</td>\n",
       "      <td>2.0</td>\n",
       "      <td>NaN</td>\n",
       "      <td>NaN</td>\n",
       "      <td>NaN</td>\n",
       "      <td>NaN</td>\n",
       "    </tr>\n",
       "    <tr>\n",
       "      <th>2 Fast 2 Furious</th>\n",
       "      <td>NaN</td>\n",
       "      <td>NaN</td>\n",
       "      <td>NaN</td>\n",
       "      <td>NaN</td>\n",
       "      <td>NaN</td>\n",
       "      <td>NaN</td>\n",
       "      <td>NaN</td>\n",
       "      <td>NaN</td>\n",
       "      <td>NaN</td>\n",
       "      <td>NaN</td>\n",
       "      <td>...</td>\n",
       "      <td>NaN</td>\n",
       "      <td>NaN</td>\n",
       "      <td>NaN</td>\n",
       "      <td>NaN</td>\n",
       "      <td>NaN</td>\n",
       "      <td>NaN</td>\n",
       "      <td>NaN</td>\n",
       "      <td>NaN</td>\n",
       "      <td>NaN</td>\n",
       "      <td>NaN</td>\n",
       "    </tr>\n",
       "  </tbody>\n",
       "</table>\n",
       "<p>5 rows × 2509 columns</p>\n",
       "</div>"
      ],
      "text/plain": [
       "ID_USUARIO                  229     231     741     836     1104    1136    \\\n",
       "TITULO                                                                       \n",
       "10 Things I Hate About You     NaN     NaN     NaN     NaN     NaN     NaN   \n",
       "12 Angry Men                   NaN     NaN     NaN     NaN     NaN     NaN   \n",
       "127 Hours                      NaN     NaN     NaN     NaN     NaN     NaN   \n",
       "1408                           NaN     NaN     NaN     NaN     NaN     NaN   \n",
       "2 Fast 2 Furious               NaN     NaN     NaN     NaN     NaN     NaN   \n",
       "\n",
       "ID_USUARIO                  1243    1380    1652    1846    ...  269632  \\\n",
       "TITULO                                                      ...           \n",
       "10 Things I Hate About You     NaN     NaN     NaN     NaN  ...     NaN   \n",
       "12 Angry Men                   NaN     NaN     NaN     NaN  ...     NaN   \n",
       "127 Hours                      NaN     NaN     NaN     NaN  ...     NaN   \n",
       "1408                           NaN     NaN     NaN     NaN  ...     NaN   \n",
       "2 Fast 2 Furious               NaN     NaN     NaN     NaN  ...     NaN   \n",
       "\n",
       "ID_USUARIO                  269750  269913  270071  270123  270213  270237  \\\n",
       "TITULO                                                                       \n",
       "10 Things I Hate About You     2.5     NaN     3.0     3.0     NaN     NaN   \n",
       "12 Angry Men                   NaN     NaN     NaN     NaN     NaN     NaN   \n",
       "127 Hours                      NaN     NaN     NaN     NaN     NaN     NaN   \n",
       "1408                           NaN     NaN     NaN     2.5     2.0     NaN   \n",
       "2 Fast 2 Furious               NaN     NaN     NaN     NaN     NaN     NaN   \n",
       "\n",
       "ID_USUARIO                  270564  270654  270887  \n",
       "TITULO                                              \n",
       "10 Things I Hate About You     NaN     NaN     NaN  \n",
       "12 Angry Men                   NaN     3.5     NaN  \n",
       "127 Hours                      NaN     NaN     NaN  \n",
       "1408                           NaN     NaN     NaN  \n",
       "2 Fast 2 Furious               NaN     NaN     NaN  \n",
       "\n",
       "[5 rows x 2509 columns]"
      ]
     },
     "execution_count": 36,
     "metadata": {},
     "output_type": "execute_result"
    }
   ],
   "source": [
    "# Fazendo pivot\n",
    "# transformando cada id_usuario em uma variavel\n",
    "filmes_pivot = avaliacoes_e_filmes.pivot_table(columns = 'ID_USUARIO', index = 'TITULO', values = 'AVALIACAO')\n",
    "\n",
    "#observando os dados\n",
    "filmes_pivot.head()"
   ]
  },
  {
   "cell_type": "code",
   "execution_count": 37,
   "id": "07fbfbc7",
   "metadata": {},
   "outputs": [
    {
     "data": {
      "text/html": [
       "<div>\n",
       "<style scoped>\n",
       "    .dataframe tbody tr th:only-of-type {\n",
       "        vertical-align: middle;\n",
       "    }\n",
       "\n",
       "    .dataframe tbody tr th {\n",
       "        vertical-align: top;\n",
       "    }\n",
       "\n",
       "    .dataframe thead th {\n",
       "        text-align: right;\n",
       "    }\n",
       "</style>\n",
       "<table border=\"1\" class=\"dataframe\">\n",
       "  <thead>\n",
       "    <tr style=\"text-align: right;\">\n",
       "      <th>ID_USUARIO</th>\n",
       "      <th>229</th>\n",
       "      <th>231</th>\n",
       "      <th>741</th>\n",
       "      <th>836</th>\n",
       "      <th>1104</th>\n",
       "      <th>1136</th>\n",
       "      <th>1243</th>\n",
       "      <th>1380</th>\n",
       "      <th>1652</th>\n",
       "      <th>1846</th>\n",
       "      <th>...</th>\n",
       "      <th>269632</th>\n",
       "      <th>269750</th>\n",
       "      <th>269913</th>\n",
       "      <th>270071</th>\n",
       "      <th>270123</th>\n",
       "      <th>270213</th>\n",
       "      <th>270237</th>\n",
       "      <th>270564</th>\n",
       "      <th>270654</th>\n",
       "      <th>270887</th>\n",
       "    </tr>\n",
       "    <tr>\n",
       "      <th>TITULO</th>\n",
       "      <th></th>\n",
       "      <th></th>\n",
       "      <th></th>\n",
       "      <th></th>\n",
       "      <th></th>\n",
       "      <th></th>\n",
       "      <th></th>\n",
       "      <th></th>\n",
       "      <th></th>\n",
       "      <th></th>\n",
       "      <th></th>\n",
       "      <th></th>\n",
       "      <th></th>\n",
       "      <th></th>\n",
       "      <th></th>\n",
       "      <th></th>\n",
       "      <th></th>\n",
       "      <th></th>\n",
       "      <th></th>\n",
       "      <th></th>\n",
       "      <th></th>\n",
       "    </tr>\n",
       "  </thead>\n",
       "  <tbody>\n",
       "    <tr>\n",
       "      <th>10 Things I Hate About You</th>\n",
       "      <td>0.0</td>\n",
       "      <td>0.0</td>\n",
       "      <td>0.0</td>\n",
       "      <td>0.0</td>\n",
       "      <td>0.0</td>\n",
       "      <td>0.0</td>\n",
       "      <td>0.0</td>\n",
       "      <td>0.0</td>\n",
       "      <td>0.0</td>\n",
       "      <td>0.0</td>\n",
       "      <td>...</td>\n",
       "      <td>0.0</td>\n",
       "      <td>2.5</td>\n",
       "      <td>0.0</td>\n",
       "      <td>3.0</td>\n",
       "      <td>3.0</td>\n",
       "      <td>0.0</td>\n",
       "      <td>0.0</td>\n",
       "      <td>0.0</td>\n",
       "      <td>0.0</td>\n",
       "      <td>0.0</td>\n",
       "    </tr>\n",
       "    <tr>\n",
       "      <th>12 Angry Men</th>\n",
       "      <td>0.0</td>\n",
       "      <td>0.0</td>\n",
       "      <td>0.0</td>\n",
       "      <td>0.0</td>\n",
       "      <td>0.0</td>\n",
       "      <td>0.0</td>\n",
       "      <td>0.0</td>\n",
       "      <td>0.0</td>\n",
       "      <td>0.0</td>\n",
       "      <td>0.0</td>\n",
       "      <td>...</td>\n",
       "      <td>0.0</td>\n",
       "      <td>0.0</td>\n",
       "      <td>0.0</td>\n",
       "      <td>0.0</td>\n",
       "      <td>0.0</td>\n",
       "      <td>0.0</td>\n",
       "      <td>0.0</td>\n",
       "      <td>0.0</td>\n",
       "      <td>3.5</td>\n",
       "      <td>0.0</td>\n",
       "    </tr>\n",
       "    <tr>\n",
       "      <th>127 Hours</th>\n",
       "      <td>0.0</td>\n",
       "      <td>0.0</td>\n",
       "      <td>0.0</td>\n",
       "      <td>0.0</td>\n",
       "      <td>0.0</td>\n",
       "      <td>0.0</td>\n",
       "      <td>0.0</td>\n",
       "      <td>0.0</td>\n",
       "      <td>0.0</td>\n",
       "      <td>0.0</td>\n",
       "      <td>...</td>\n",
       "      <td>0.0</td>\n",
       "      <td>0.0</td>\n",
       "      <td>0.0</td>\n",
       "      <td>0.0</td>\n",
       "      <td>0.0</td>\n",
       "      <td>0.0</td>\n",
       "      <td>0.0</td>\n",
       "      <td>0.0</td>\n",
       "      <td>0.0</td>\n",
       "      <td>0.0</td>\n",
       "    </tr>\n",
       "    <tr>\n",
       "      <th>1408</th>\n",
       "      <td>0.0</td>\n",
       "      <td>0.0</td>\n",
       "      <td>0.0</td>\n",
       "      <td>0.0</td>\n",
       "      <td>0.0</td>\n",
       "      <td>0.0</td>\n",
       "      <td>0.0</td>\n",
       "      <td>0.0</td>\n",
       "      <td>0.0</td>\n",
       "      <td>0.0</td>\n",
       "      <td>...</td>\n",
       "      <td>0.0</td>\n",
       "      <td>0.0</td>\n",
       "      <td>0.0</td>\n",
       "      <td>0.0</td>\n",
       "      <td>2.5</td>\n",
       "      <td>2.0</td>\n",
       "      <td>0.0</td>\n",
       "      <td>0.0</td>\n",
       "      <td>0.0</td>\n",
       "      <td>0.0</td>\n",
       "    </tr>\n",
       "    <tr>\n",
       "      <th>2 Fast 2 Furious</th>\n",
       "      <td>0.0</td>\n",
       "      <td>0.0</td>\n",
       "      <td>0.0</td>\n",
       "      <td>0.0</td>\n",
       "      <td>0.0</td>\n",
       "      <td>0.0</td>\n",
       "      <td>0.0</td>\n",
       "      <td>0.0</td>\n",
       "      <td>0.0</td>\n",
       "      <td>0.0</td>\n",
       "      <td>...</td>\n",
       "      <td>0.0</td>\n",
       "      <td>0.0</td>\n",
       "      <td>0.0</td>\n",
       "      <td>0.0</td>\n",
       "      <td>0.0</td>\n",
       "      <td>0.0</td>\n",
       "      <td>0.0</td>\n",
       "      <td>0.0</td>\n",
       "      <td>0.0</td>\n",
       "      <td>0.0</td>\n",
       "    </tr>\n",
       "  </tbody>\n",
       "</table>\n",
       "<p>5 rows × 2509 columns</p>\n",
       "</div>"
      ],
      "text/plain": [
       "ID_USUARIO                  229     231     741     836     1104    1136    \\\n",
       "TITULO                                                                       \n",
       "10 Things I Hate About You     0.0     0.0     0.0     0.0     0.0     0.0   \n",
       "12 Angry Men                   0.0     0.0     0.0     0.0     0.0     0.0   \n",
       "127 Hours                      0.0     0.0     0.0     0.0     0.0     0.0   \n",
       "1408                           0.0     0.0     0.0     0.0     0.0     0.0   \n",
       "2 Fast 2 Furious               0.0     0.0     0.0     0.0     0.0     0.0   \n",
       "\n",
       "ID_USUARIO                  1243    1380    1652    1846    ...  269632  \\\n",
       "TITULO                                                      ...           \n",
       "10 Things I Hate About You     0.0     0.0     0.0     0.0  ...     0.0   \n",
       "12 Angry Men                   0.0     0.0     0.0     0.0  ...     0.0   \n",
       "127 Hours                      0.0     0.0     0.0     0.0  ...     0.0   \n",
       "1408                           0.0     0.0     0.0     0.0  ...     0.0   \n",
       "2 Fast 2 Furious               0.0     0.0     0.0     0.0  ...     0.0   \n",
       "\n",
       "ID_USUARIO                  269750  269913  270071  270123  270213  270237  \\\n",
       "TITULO                                                                       \n",
       "10 Things I Hate About You     2.5     0.0     3.0     3.0     0.0     0.0   \n",
       "12 Angry Men                   0.0     0.0     0.0     0.0     0.0     0.0   \n",
       "127 Hours                      0.0     0.0     0.0     0.0     0.0     0.0   \n",
       "1408                           0.0     0.0     0.0     2.5     2.0     0.0   \n",
       "2 Fast 2 Furious               0.0     0.0     0.0     0.0     0.0     0.0   \n",
       "\n",
       "ID_USUARIO                  270564  270654  270887  \n",
       "TITULO                                              \n",
       "10 Things I Hate About You     0.0     0.0     0.0  \n",
       "12 Angry Men                   0.0     3.5     0.0  \n",
       "127 Hours                      0.0     0.0     0.0  \n",
       "1408                           0.0     0.0     0.0  \n",
       "2 Fast 2 Furious               0.0     0.0     0.0  \n",
       "\n",
       "[5 rows x 2509 columns]"
      ]
     },
     "execution_count": 37,
     "metadata": {},
     "output_type": "execute_result"
    }
   ],
   "source": [
    "#preenchendo todos os valores nulos com 0\n",
    "filmes_pivot.fillna(0, inplace = True)\n",
    "filmes_pivot.head()"
   ]
  },
  {
   "cell_type": "code",
   "execution_count": 39,
   "id": "386262b4",
   "metadata": {},
   "outputs": [],
   "source": [
    "# criando matriz sparsa\n",
    "from scipy.sparse import csr_matrix\n",
    "\n",
    "#tranformando do DataFrame em matriz sparsa\n",
    "filmes_sparse = csr_matrix(filmes_pivot)"
   ]
  },
  {
   "cell_type": "code",
   "execution_count": 40,
   "id": "c1dad4af",
   "metadata": {},
   "outputs": [
    {
     "data": {
      "text/plain": [
       "scipy.sparse._csr.csr_matrix"
      ]
     },
     "execution_count": 40,
     "metadata": {},
     "output_type": "execute_result"
    }
   ],
   "source": [
    "#observando o tipo\n",
    "type(filmes_sparse)"
   ]
  },
  {
   "cell_type": "code",
   "execution_count": 41,
   "id": "150ff12c",
   "metadata": {},
   "outputs": [],
   "source": [
    "#importando KNN\n",
    "from sklearn.neighbors import NearestNeighbors"
   ]
  },
  {
   "cell_type": "code",
   "execution_count": 42,
   "id": "21ac547c",
   "metadata": {},
   "outputs": [
    {
     "data": {
      "text/plain": [
       "NearestNeighbors(algorithm='brute')"
      ]
     },
     "execution_count": 42,
     "metadata": {},
     "output_type": "execute_result"
    }
   ],
   "source": [
    "modelo = NearestNeighbors(algorithm = 'brute')\n",
    "modelo.fit(filmes_sparse)"
   ]
  },
  {
   "cell_type": "markdown",
   "id": "9b240ef9",
   "metadata": {},
   "source": [
    "# Prevendo as sugestões de filmes"
   ]
  },
  {
   "cell_type": "code",
   "execution_count": 43,
   "id": "e972b071",
   "metadata": {},
   "outputs": [
    {
     "name": "stdout",
     "output_type": "stream",
     "text": [
      "Index(['127 Hours', 'American Hustle', 'The Expendables 2', 'Lord of War',\n",
      "       'RED 2'],\n",
      "      dtype='object', name='TITULO')\n"
     ]
    }
   ],
   "source": [
    "#Kneighbors - visinhos mais proximos(alguma semelhança)\n",
    "# 127 Hours\n",
    "distances, sugestions = modelo.kneighbors(filmes_pivot.filter(items = ['127 Hours'], axis=0).values.reshape(1, -1))\n",
    "\n",
    "for i in range(len(sugestions)):\n",
    "    print(filmes_pivot.index[sugestions[i]])  "
   ]
  },
  {
   "cell_type": "code",
   "execution_count": 44,
   "id": "d3f4b4fc",
   "metadata": {},
   "outputs": [
    {
     "name": "stdout",
     "output_type": "stream",
     "text": [
      "Index(['Toy Story', 'Meet the Fockers', 'Top Gun',\n",
      "       'Harry Potter and the Chamber of Secrets',\n",
      "       'Austin Powers: International Man of Mystery'],\n",
      "      dtype='object', name='TITULO')\n"
     ]
    }
   ],
   "source": [
    "# Toy Story\n",
    "distances, sugestions = modelo.kneighbors(filmes_pivot.filter(items = ['Toy Story'], axis=0).values.reshape(1, -1))\n",
    "\n",
    "for i in range(len(sugestions)):\n",
    "    print(filmes_pivot.index[sugestions[i]]) "
   ]
  },
  {
   "cell_type": "code",
   "execution_count": 45,
   "id": "bf062de6",
   "metadata": {},
   "outputs": [
    {
     "name": "stdout",
     "output_type": "stream",
     "text": [
      "Index(['1408', 'Pirates of the Caribbean: At World's End', 'Platoon', 'Snitch',\n",
      "       'The Expendables 2'],\n",
      "      dtype='object', name='TITULO')\n"
     ]
    }
   ],
   "source": [
    "# 1408\n",
    "distances, sugestions = modelo.kneighbors(filmes_pivot.filter(items = ['1408'], axis=0).values.reshape(1, -1))\n",
    "\n",
    "for i in range(len(sugestions)):\n",
    "    print(filmes_pivot.index[sugestions[i]]) "
   ]
  },
  {
   "cell_type": "code",
   "execution_count": 46,
   "id": "ff36135d",
   "metadata": {},
   "outputs": [
    {
     "name": "stdout",
     "output_type": "stream",
     "text": [
      "Index(['2 Fast 2 Furious', 'Bambi', 'The Matrix Reloaded',\n",
      "       'Brokeback Mountain', 'Lord of War'],\n",
      "      dtype='object', name='TITULO')\n"
     ]
    }
   ],
   "source": [
    "# 2 Fast 2 Furious\n",
    "distances, sugestions = modelo.kneighbors(filmes_pivot.filter(items = ['2 Fast 2 Furious'], axis=0).values.reshape(1, -1))\n",
    "\n",
    "for i in range(len(sugestions)):\n",
    "    print(filmes_pivot.index[sugestions[i]]) "
   ]
  },
  {
   "cell_type": "code",
   "execution_count": null,
   "id": "72c30005",
   "metadata": {},
   "outputs": [],
   "source": []
  }
 ],
 "metadata": {
  "kernelspec": {
   "display_name": "Python 3 (ipykernel)",
   "language": "python",
   "name": "python3"
  },
  "language_info": {
   "codemirror_mode": {
    "name": "ipython",
    "version": 3
   },
   "file_extension": ".py",
   "mimetype": "text/x-python",
   "name": "python",
   "nbconvert_exporter": "python",
   "pygments_lexer": "ipython3",
   "version": "3.9.13"
  }
 },
 "nbformat": 4,
 "nbformat_minor": 5
}

{
  "nbformat": 4,
  "nbformat_minor": 0,
  "metadata": {
    "colab": {
      "provenance": [],
      "authorship_tag": "ABX9TyPQ2iaScmtYZnGE0HFUowMR",
      "include_colab_link": true
    },
    "kernelspec": {
      "name": "python3",
      "display_name": "Python 3"
    },
    "language_info": {
      "name": "python"
    }
  },
  "cells": [
    {
      "cell_type": "markdown",
      "metadata": {
        "id": "view-in-github",
        "colab_type": "text"
      },
      "source": [
        "<a href=\"https://colab.research.google.com/github/MateusAmorim/Python/blob/master/prova.ipynb\" target=\"_parent\"><img src=\"https://colab.research.google.com/assets/colab-badge.svg\" alt=\"Open In Colab\"/></a>"
      ]
    },
    {
      "cell_type": "code",
      "execution_count": null,
      "metadata": {
        "colab": {
          "base_uri": "https://localhost:8080/"
        },
        "id": "ieAY1YlJ1ahB",
        "outputId": "34b1f53c-f667-4987-faf3-be0e56b97b4b"
      },
      "outputs": [
        {
          "output_type": "stream",
          "name": "stdout",
          "text": [
            "catsAndDogsAreAwesome\n",
            "cats AND*Dogs-are Awesome\n"
          ]
        }
      ],
      "source": [
        "import re\n",
        "\n",
        "strParam = \"cats AND*Dogs-are Awesome\"\n",
        "\n",
        "def CamelCase(strParam):\n",
        "#  strParam1 = re.sub('[^a-zA-Z0-9 \\\\\\]',' ',strParam)  # retira caracteres especiais.\n",
        "#  strParam2 = strParam1.lower()    # tranforma tudo em minusculas.\n",
        "#  strParam3 = strParam2.split()    # divide a string.\n",
        "#  strParam4 = strParam3[0]\n",
        "#  strParam5 = strParam3[1]\n",
        "#  strParam6 = strParam5.title()\n",
        "#  strParam7 = strParam3[2]\n",
        "#  strParam8 = strParam7.title()\n",
        "#  strParam9 = strParam3[3]\n",
        "#  strParam10 = strParam9.title()\n",
        "#  strParam11 = strParam3[4]\n",
        "#  strParam12 = strParam11.title()\n",
        "#  strParam13 = strParam4 + strParam6 + strParam8 + strParam10 + strParam12 \n",
        "  for strParams in strParam:\n",
        "    strParam1 = re.sub('[^a-zA-Z0-9 \\\\\\]',' ',strParam)\n",
        "    strParam2 = strParam1.lower()    # tranforma tudo em minusculas.\n",
        "    strParam3 = strParam2.split()    # divide a string.\n",
        "    strParam4 = strParam3[0]\n",
        "    strParam5 = strParam3[1]\n",
        "    strParam6 = strParam5.title()\n",
        "    strParam7 = strParam3[2]\n",
        "    strParam8 = strParam7.title()\n",
        "    strParam9 = strParam3[3]\n",
        "    strParam10 = strParam9.title()\n",
        "    strParam11 = strParam3[4]\n",
        "    strParam12 = strParam11.title()\n",
        "    strParam13 = strParam4 + strParam6 + strParam8 + strParam10 + strParam12\n",
        "    print (strParam13)\n",
        "\n",
        "\n",
        "  # code goes here\n",
        "    return strParam\n",
        "\n",
        "# keep this function call here \n",
        "print(CamelCase(strParam))\n",
        "#print CamelCase(raw_input())"
      ]
    }
  ]
}
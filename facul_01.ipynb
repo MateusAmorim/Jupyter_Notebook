{
  "nbformat": 4,
  "nbformat_minor": 0,
  "metadata": {
    "colab": {
      "provenance": [],
      "authorship_tag": "ABX9TyNr5nX98X2VFv0D9TaLPwe0",
      "include_colab_link": true
    },
    "kernelspec": {
      "name": "python3",
      "display_name": "Python 3"
    },
    "language_info": {
      "name": "python"
    }
  },
  "cells": [
    {
      "cell_type": "markdown",
      "metadata": {
        "id": "view-in-github",
        "colab_type": "text"
      },
      "source": [
        "<a href=\"https://colab.research.google.com/github/MateusAmorim/Python/blob/master/facul_01.ipynb\" target=\"_parent\"><img src=\"https://colab.research.google.com/assets/colab-badge.svg\" alt=\"Open In Colab\"/></a>"
      ]
    },
    {
      "cell_type": "code",
      "execution_count": null,
      "metadata": {
        "colab": {
          "base_uri": "https://localhost:8080/"
        },
        "id": "pS8jhi93x54B",
        "outputId": "f65911dc-04b0-42cc-823b-b7083bf13c8c"
      },
      "outputs": [
        {
          "output_type": "stream",
          "name": "stdout",
          "text": [
            "p = 0.7482522610185718 e 1-p = 0.2517477389814282\n"
          ]
        }
      ],
      "source": [
        "# IMPORTS\n",
        "\n",
        "import scipy.stats as stats\n",
        "\n",
        "# P tendo Z\n",
        "\n",
        "Z = 0.669\n",
        "P = stats.norm.cdf(Z)\n",
        "print(f'p = {P} e 1-p = {1-P}')"
      ]
    },
    {
      "cell_type": "code",
      "source": [
        "# IMPORTS\n",
        "\n",
        "import scipy.stats as stats\n",
        "\n",
        "# P tendo Z\n",
        "\n",
        "Z = 9.897\n",
        "P = stats.norm.cdf(Z)\n",
        "print(f'p = {P} e 1 - p = {1-P}')"
      ],
      "metadata": {
        "id": "fIFap9JK1cp9",
        "outputId": "dc4c46d8-403f-4a72-9642-fb8e4fc7d7eb",
        "colab": {
          "base_uri": "https://localhost:8080/"
        }
      },
      "execution_count": null,
      "outputs": [
        {
          "output_type": "stream",
          "name": "stdout",
          "text": [
            "p = 1.0 e 1 - p = 0.0\n"
          ]
        }
      ]
    },
    {
      "cell_type": "code",
      "source": [
        "# IMPORTS\n",
        "\n",
        "import scipy.stats as stats\n",
        "import matplotlib.pyplot as plt\n",
        "\n",
        "\n",
        "# P tendo Z\n",
        "\n",
        "Z = 9.897\n",
        "P = stats.norm.cdf(Z)\n",
        "plt."
      ],
      "metadata": {
        "colab": {
          "base_uri": "https://localhost:8080/"
        },
        "id": "pwqLSePm0yBz",
        "outputId": "d8653f1b-f017-4f87-ff22-d901e4e6356f"
      },
      "execution_count": null,
      "outputs": [
        {
          "output_type": "stream",
          "name": "stdout",
          "text": [
            "p = 1.0 e 1 - p = 0.0\n"
          ]
        }
      ]
    }
  ]
}
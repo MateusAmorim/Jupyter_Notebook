{
  "nbformat": 4,
  "nbformat_minor": 0,
  "metadata": {
    "colab": {
      "provenance": [],
      "authorship_tag": "ABX9TyN3Oc6nQW/wDxJWigDVFpYp",
      "include_colab_link": true
    },
    "kernelspec": {
      "name": "python3",
      "display_name": "Python 3"
    },
    "language_info": {
      "name": "python"
    }
  },
  "cells": [
    {
      "cell_type": "markdown",
      "metadata": {
        "id": "view-in-github",
        "colab_type": "text"
      },
      "source": [
        "<a href=\"https://colab.research.google.com/github/MateusAmorim/Python/blob/master/Untitled0.ipynb\" target=\"_parent\"><img src=\"https://colab.research.google.com/assets/colab-badge.svg\" alt=\"Open In Colab\"/></a>"
      ]
    },
    {
      "cell_type": "code",
      "execution_count": null,
      "metadata": {
        "id": "TMUrZhmGTroA",
        "colab": {
          "base_uri": "https://localhost:8080/",
          "height": 296
        },
        "outputId": "e1e1eab7-f952-42bf-a323-c4e423828479"
      },
      "outputs": [
        {
          "output_type": "execute_result",
          "data": {
            "text/plain": [
              "<matplotlib.collections.BrokenBarHCollection at 0x7f7179cbe410>"
            ]
          },
          "metadata": {},
          "execution_count": 11
        },
        {
          "output_type": "display_data",
          "data": {
            "text/plain": [
              "<Figure size 432x288 with 1 Axes>"
            ],
            "image/png": "[encoded data removed]"
          },
          "metadata": {
            "needs_background": "light"
          }
        }
      ],
      "source": [
        "import matplotlib.pyplot as plt\n",
        " \n",
        "fig, gnt = plt.subplots()\n",
        " \n",
        "gnt.set_ylim(0, 50)\n",
        "gnt.set_xlim(0, 160)\n",
        "gnt.set_xlabel('dias de projeto')\n",
        "gnt.set_ylabel('Tarefas')\n",
        "gnt.set_yticks([15, 25, 35])\n",
        "gnt.set_yticklabels(['Tarefa 1', 'Tarefa 2', 'Tarefa 3'])\n",
        "gnt.grid(True)\n",
        "gnt.broken_barh([(10, 50), (100, 20), (130, 10)], (30, 9),\n",
        " facecolors =('tab:red'))\n",
        "gnt.broken_barh([(40, 50)], (20, 9), facecolors =('tab:green'))\n",
        "gnt.broken_barh([(110, 10), (150, 10)], (10, 9),\n",
        " facecolors ='tab:blue')\n"
      ]
    }
  ]
}